{
 "cells": [
  {
   "cell_type": "code",
   "execution_count": 30,
   "id": "initial_id",
   "metadata": {
    "collapsed": true,
    "ExecuteTime": {
     "end_time": "2024-03-06T08:31:16.496567Z",
     "start_time": "2024-03-06T08:31:16.489617Z"
    }
   },
   "outputs": [],
   "source": [
    "import plotly.express as px\n",
    "import numpy as np\n",
    "import pandas as pd"
   ]
  },
  {
   "cell_type": "code",
   "outputs": [],
   "source": [
    "!rm -rf plots\n",
    "!mkdir plots"
   ],
   "metadata": {
    "collapsed": false,
    "ExecuteTime": {
     "end_time": "2024-03-06T08:31:16.835690Z",
     "start_time": "2024-03-06T08:31:16.526476Z"
    }
   },
   "id": "b849a4addf3d980e",
   "execution_count": 31
  },
  {
   "cell_type": "code",
   "outputs": [
    {
     "data": {
      "application/vnd.plotly.v1+json": {
       "data": [
        {
         "hovertemplate": "x=%{x}<br>y=%{y}<extra></extra>",
         "legendgroup": "",
         "line": {
          "color": "#636efa",
          "dash": "solid"
         },
         "marker": {
          "symbol": "circle"
         },
         "mode": "lines",
         "name": "",
         "orientation": "v",
         "showlegend": false,
         "x": [
          0.0,
          1.0,
          2.0,
          3.0,
          4.0,
          5.0,
          6.0
         ],
         "xaxis": "x",
         "y": [
          1.0,
          1.0,
          2.0,
          6.0,
          24.0,
          120.0,
          720.0
         ],
         "yaxis": "y",
         "type": "scatter"
        }
       ],
       "layout": {
        "template": {
         "data": {
          "histogram2dcontour": [
           {
            "type": "histogram2dcontour",
            "colorbar": {
             "outlinewidth": 0,
             "ticks": ""
            },
            "colorscale": [
             [
              0.0,
              "#0d0887"
             ],
             [
              0.1111111111111111,
              "#46039f"
             ],
             [
              0.2222222222222222,
              "#7201a8"
             ],
             [
              0.3333333333333333,
              "#9c179e"
             ],
             [
              0.4444444444444444,
              "#bd3786"
             ],
             [
              0.5555555555555556,
              "#d8576b"
             ],
             [
              0.6666666666666666,
              "#ed7953"
             ],
             [
              0.7777777777777778,
              "#fb9f3a"
             ],
             [
              0.8888888888888888,
              "#fdca26"
             ],
             [
              1.0,
              "#f0f921"
             ]
            ]
           }
          ],
          "choropleth": [
           {
            "type": "choropleth",
            "colorbar": {
             "outlinewidth": 0,
             "ticks": ""
            }
           }
          ],
          "histogram2d": [
           {
            "type": "histogram2d",
            "colorbar": {
             "outlinewidth": 0,
             "ticks": ""
            },
            "colorscale": [
             [
              0.0,
              "#0d0887"
             ],
             [
              0.1111111111111111,
              "#46039f"
             ],
             [
              0.2222222222222222,
              "#7201a8"
             ],
             [
              0.3333333333333333,
              "#9c179e"
             ],
             [
              0.4444444444444444,
              "#bd3786"
             ],
             [
              0.5555555555555556,
              "#d8576b"
             ],
             [
              0.6666666666666666,
              "#ed7953"
             ],
             [
              0.7777777777777778,
              "#fb9f3a"
             ],
             [
              0.8888888888888888,
              "#fdca26"
             ],
             [
              1.0,
              "#f0f921"
             ]
            ]
           }
          ],
          "heatmap": [
           {
            "type": "heatmap",
            "colorbar": {
             "outlinewidth": 0,
             "ticks": ""
            },
            "colorscale": [
             [
              0.0,
              "#0d0887"
             ],
             [
              0.1111111111111111,
              "#46039f"
             ],
             [
              0.2222222222222222,
              "#7201a8"
             ],
             [
              0.3333333333333333,
              "#9c179e"
             ],
             [
              0.4444444444444444,
              "#bd3786"
             ],
             [
              0.5555555555555556,
              "#d8576b"
             ],
             [
              0.6666666666666666,
              "#ed7953"
             ],
             [
              0.7777777777777778,
              "#fb9f3a"
             ],
             [
              0.8888888888888888,
              "#fdca26"
             ],
             [
              1.0,
              "#f0f921"
             ]
            ]
           }
          ],
          "heatmapgl": [
           {
            "type": "heatmapgl",
            "colorbar": {
             "outlinewidth": 0,
             "ticks": ""
            },
            "colorscale": [
             [
              0.0,
              "#0d0887"
             ],
             [
              0.1111111111111111,
              "#46039f"
             ],
             [
              0.2222222222222222,
              "#7201a8"
             ],
             [
              0.3333333333333333,
              "#9c179e"
             ],
             [
              0.4444444444444444,
              "#bd3786"
             ],
             [
              0.5555555555555556,
              "#d8576b"
             ],
             [
              0.6666666666666666,
              "#ed7953"
             ],
             [
              0.7777777777777778,
              "#fb9f3a"
             ],
             [
              0.8888888888888888,
              "#fdca26"
             ],
             [
              1.0,
              "#f0f921"
             ]
            ]
           }
          ],
          "contourcarpet": [
           {
            "type": "contourcarpet",
            "colorbar": {
             "outlinewidth": 0,
             "ticks": ""
            }
           }
          ],
          "contour": [
           {
            "type": "contour",
            "colorbar": {
             "outlinewidth": 0,
             "ticks": ""
            },
            "colorscale": [
             [
              0.0,
              "#0d0887"
             ],
             [
              0.1111111111111111,
              "#46039f"
             ],
             [
              0.2222222222222222,
              "#7201a8"
             ],
             [
              0.3333333333333333,
              "#9c179e"
             ],
             [
              0.4444444444444444,
              "#bd3786"
             ],
             [
              0.5555555555555556,
              "#d8576b"
             ],
             [
              0.6666666666666666,
              "#ed7953"
             ],
             [
              0.7777777777777778,
              "#fb9f3a"
             ],
             [
              0.8888888888888888,
              "#fdca26"
             ],
             [
              1.0,
              "#f0f921"
             ]
            ]
           }
          ],
          "surface": [
           {
            "type": "surface",
            "colorbar": {
             "outlinewidth": 0,
             "ticks": ""
            },
            "colorscale": [
             [
              0.0,
              "#0d0887"
             ],
             [
              0.1111111111111111,
              "#46039f"
             ],
             [
              0.2222222222222222,
              "#7201a8"
             ],
             [
              0.3333333333333333,
              "#9c179e"
             ],
             [
              0.4444444444444444,
              "#bd3786"
             ],
             [
              0.5555555555555556,
              "#d8576b"
             ],
             [
              0.6666666666666666,
              "#ed7953"
             ],
             [
              0.7777777777777778,
              "#fb9f3a"
             ],
             [
              0.8888888888888888,
              "#fdca26"
             ],
             [
              1.0,
              "#f0f921"
             ]
            ]
           }
          ],
          "mesh3d": [
           {
            "type": "mesh3d",
            "colorbar": {
             "outlinewidth": 0,
             "ticks": ""
            }
           }
          ],
          "scatter": [
           {
            "fillpattern": {
             "fillmode": "overlay",
             "size": 10,
             "solidity": 0.2
            },
            "type": "scatter"
           }
          ],
          "parcoords": [
           {
            "type": "parcoords",
            "line": {
             "colorbar": {
              "outlinewidth": 0,
              "ticks": ""
             }
            }
           }
          ],
          "scatterpolargl": [
           {
            "type": "scatterpolargl",
            "marker": {
             "colorbar": {
              "outlinewidth": 0,
              "ticks": ""
             }
            }
           }
          ],
          "bar": [
           {
            "error_x": {
             "color": "#2a3f5f"
            },
            "error_y": {
             "color": "#2a3f5f"
            },
            "marker": {
             "line": {
              "color": "#E5ECF6",
              "width": 0.5
             },
             "pattern": {
              "fillmode": "overlay",
              "size": 10,
              "solidity": 0.2
             }
            },
            "type": "bar"
           }
          ],
          "scattergeo": [
           {
            "type": "scattergeo",
            "marker": {
             "colorbar": {
              "outlinewidth": 0,
              "ticks": ""
             }
            }
           }
          ],
          "scatterpolar": [
           {
            "type": "scatterpolar",
            "marker": {
             "colorbar": {
              "outlinewidth": 0,
              "ticks": ""
             }
            }
           }
          ],
          "histogram": [
           {
            "marker": {
             "pattern": {
              "fillmode": "overlay",
              "size": 10,
              "solidity": 0.2
             }
            },
            "type": "histogram"
           }
          ],
          "scattergl": [
           {
            "type": "scattergl",
            "marker": {
             "colorbar": {
              "outlinewidth": 0,
              "ticks": ""
             }
            }
           }
          ],
          "scatter3d": [
           {
            "type": "scatter3d",
            "line": {
             "colorbar": {
              "outlinewidth": 0,
              "ticks": ""
             }
            },
            "marker": {
             "colorbar": {
              "outlinewidth": 0,
              "ticks": ""
             }
            }
           }
          ],
          "scattermapbox": [
           {
            "type": "scattermapbox",
            "marker": {
             "colorbar": {
              "outlinewidth": 0,
              "ticks": ""
             }
            }
           }
          ],
          "scatterternary": [
           {
            "type": "scatterternary",
            "marker": {
             "colorbar": {
              "outlinewidth": 0,
              "ticks": ""
             }
            }
           }
          ],
          "scattercarpet": [
           {
            "type": "scattercarpet",
            "marker": {
             "colorbar": {
              "outlinewidth": 0,
              "ticks": ""
             }
            }
           }
          ],
          "carpet": [
           {
            "aaxis": {
             "endlinecolor": "#2a3f5f",
             "gridcolor": "white",
             "linecolor": "white",
             "minorgridcolor": "white",
             "startlinecolor": "#2a3f5f"
            },
            "baxis": {
             "endlinecolor": "#2a3f5f",
             "gridcolor": "white",
             "linecolor": "white",
             "minorgridcolor": "white",
             "startlinecolor": "#2a3f5f"
            },
            "type": "carpet"
           }
          ],
          "table": [
           {
            "cells": {
             "fill": {
              "color": "#EBF0F8"
             },
             "line": {
              "color": "white"
             }
            },
            "header": {
             "fill": {
              "color": "#C8D4E3"
             },
             "line": {
              "color": "white"
             }
            },
            "type": "table"
           }
          ],
          "barpolar": [
           {
            "marker": {
             "line": {
              "color": "#E5ECF6",
              "width": 0.5
             },
             "pattern": {
              "fillmode": "overlay",
              "size": 10,
              "solidity": 0.2
             }
            },
            "type": "barpolar"
           }
          ],
          "pie": [
           {
            "automargin": true,
            "type": "pie"
           }
          ]
         },
         "layout": {
          "autotypenumbers": "strict",
          "colorway": [
           "#636efa",
           "#EF553B",
           "#00cc96",
           "#ab63fa",
           "#FFA15A",
           "#19d3f3",
           "#FF6692",
           "#B6E880",
           "#FF97FF",
           "#FECB52"
          ],
          "font": {
           "color": "#2a3f5f"
          },
          "hovermode": "closest",
          "hoverlabel": {
           "align": "left"
          },
          "paper_bgcolor": "white",
          "plot_bgcolor": "#E5ECF6",
          "polar": {
           "bgcolor": "#E5ECF6",
           "angularaxis": {
            "gridcolor": "white",
            "linecolor": "white",
            "ticks": ""
           },
           "radialaxis": {
            "gridcolor": "white",
            "linecolor": "white",
            "ticks": ""
           }
          },
          "ternary": {
           "bgcolor": "#E5ECF6",
           "aaxis": {
            "gridcolor": "white",
            "linecolor": "white",
            "ticks": ""
           },
           "baxis": {
            "gridcolor": "white",
            "linecolor": "white",
            "ticks": ""
           },
           "caxis": {
            "gridcolor": "white",
            "linecolor": "white",
            "ticks": ""
           }
          },
          "coloraxis": {
           "colorbar": {
            "outlinewidth": 0,
            "ticks": ""
           }
          },
          "colorscale": {
           "sequential": [
            [
             0.0,
             "#0d0887"
            ],
            [
             0.1111111111111111,
             "#46039f"
            ],
            [
             0.2222222222222222,
             "#7201a8"
            ],
            [
             0.3333333333333333,
             "#9c179e"
            ],
            [
             0.4444444444444444,
             "#bd3786"
            ],
            [
             0.5555555555555556,
             "#d8576b"
            ],
            [
             0.6666666666666666,
             "#ed7953"
            ],
            [
             0.7777777777777778,
             "#fb9f3a"
            ],
            [
             0.8888888888888888,
             "#fdca26"
            ],
            [
             1.0,
             "#f0f921"
            ]
           ],
           "sequentialminus": [
            [
             0.0,
             "#0d0887"
            ],
            [
             0.1111111111111111,
             "#46039f"
            ],
            [
             0.2222222222222222,
             "#7201a8"
            ],
            [
             0.3333333333333333,
             "#9c179e"
            ],
            [
             0.4444444444444444,
             "#bd3786"
            ],
            [
             0.5555555555555556,
             "#d8576b"
            ],
            [
             0.6666666666666666,
             "#ed7953"
            ],
            [
             0.7777777777777778,
             "#fb9f3a"
            ],
            [
             0.8888888888888888,
             "#fdca26"
            ],
            [
             1.0,
             "#f0f921"
            ]
           ],
           "diverging": [
            [
             0,
             "#8e0152"
            ],
            [
             0.1,
             "#c51b7d"
            ],
            [
             0.2,
             "#de77ae"
            ],
            [
             0.3,
             "#f1b6da"
            ],
            [
             0.4,
             "#fde0ef"
            ],
            [
             0.5,
             "#f7f7f7"
            ],
            [
             0.6,
             "#e6f5d0"
            ],
            [
             0.7,
             "#b8e186"
            ],
            [
             0.8,
             "#7fbc41"
            ],
            [
             0.9,
             "#4d9221"
            ],
            [
             1,
             "#276419"
            ]
           ]
          },
          "xaxis": {
           "gridcolor": "white",
           "linecolor": "white",
           "ticks": "",
           "title": {
            "standoff": 15
           },
           "zerolinecolor": "white",
           "automargin": true,
           "zerolinewidth": 2
          },
          "yaxis": {
           "gridcolor": "white",
           "linecolor": "white",
           "ticks": "",
           "title": {
            "standoff": 15
           },
           "zerolinecolor": "white",
           "automargin": true,
           "zerolinewidth": 2
          },
          "scene": {
           "xaxis": {
            "backgroundcolor": "#E5ECF6",
            "gridcolor": "white",
            "linecolor": "white",
            "showbackground": true,
            "ticks": "",
            "zerolinecolor": "white",
            "gridwidth": 2
           },
           "yaxis": {
            "backgroundcolor": "#E5ECF6",
            "gridcolor": "white",
            "linecolor": "white",
            "showbackground": true,
            "ticks": "",
            "zerolinecolor": "white",
            "gridwidth": 2
           },
           "zaxis": {
            "backgroundcolor": "#E5ECF6",
            "gridcolor": "white",
            "linecolor": "white",
            "showbackground": true,
            "ticks": "",
            "zerolinecolor": "white",
            "gridwidth": 2
           }
          },
          "shapedefaults": {
           "line": {
            "color": "#2a3f5f"
           }
          },
          "annotationdefaults": {
           "arrowcolor": "#2a3f5f",
           "arrowhead": 0,
           "arrowwidth": 1
          },
          "geo": {
           "bgcolor": "white",
           "landcolor": "#E5ECF6",
           "subunitcolor": "white",
           "showland": true,
           "showlakes": true,
           "lakecolor": "white"
          },
          "title": {
           "x": 0.05
          },
          "mapbox": {
           "style": "light"
          }
         }
        },
        "xaxis": {
         "anchor": "y",
         "domain": [
          0.0,
          1.0
         ],
         "title": {
          "text": "x"
         }
        },
        "yaxis": {
         "anchor": "x",
         "domain": [
          0.0,
          1.0
         ],
         "title": {
          "text": "y"
         }
        },
        "legend": {
         "tracegroupgap": 0
        },
        "title": {
         "text": "fac"
        }
       },
       "config": {
        "plotlyServerURL": "https://plot.ly"
       }
      },
      "text/html": "<div>                            <div id=\"fa462b78-ff5c-4342-8014-09ccc85e3b5b\" class=\"plotly-graph-div\" style=\"height:525px; width:100%;\"></div>            <script type=\"text/javascript\">                require([\"plotly\"], function(Plotly) {                    window.PLOTLYENV=window.PLOTLYENV || {};                                    if (document.getElementById(\"fa462b78-ff5c-4342-8014-09ccc85e3b5b\")) {                    Plotly.newPlot(                        \"fa462b78-ff5c-4342-8014-09ccc85e3b5b\",                        [{\"hovertemplate\":\"x=%{x}\\u003cbr\\u003ey=%{y}\\u003cextra\\u003e\\u003c\\u002fextra\\u003e\",\"legendgroup\":\"\",\"line\":{\"color\":\"#636efa\",\"dash\":\"solid\"},\"marker\":{\"symbol\":\"circle\"},\"mode\":\"lines\",\"name\":\"\",\"orientation\":\"v\",\"showlegend\":false,\"x\":[0.0,1.0,2.0,3.0,4.0,5.0,6.0],\"xaxis\":\"x\",\"y\":[1.0,1.0,2.0,6.0,24.0,120.0,720.0],\"yaxis\":\"y\",\"type\":\"scatter\"}],                        {\"template\":{\"data\":{\"histogram2dcontour\":[{\"type\":\"histogram2dcontour\",\"colorbar\":{\"outlinewidth\":0,\"ticks\":\"\"},\"colorscale\":[[0.0,\"#0d0887\"],[0.1111111111111111,\"#46039f\"],[0.2222222222222222,\"#7201a8\"],[0.3333333333333333,\"#9c179e\"],[0.4444444444444444,\"#bd3786\"],[0.5555555555555556,\"#d8576b\"],[0.6666666666666666,\"#ed7953\"],[0.7777777777777778,\"#fb9f3a\"],[0.8888888888888888,\"#fdca26\"],[1.0,\"#f0f921\"]]}],\"choropleth\":[{\"type\":\"choropleth\",\"colorbar\":{\"outlinewidth\":0,\"ticks\":\"\"}}],\"histogram2d\":[{\"type\":\"histogram2d\",\"colorbar\":{\"outlinewidth\":0,\"ticks\":\"\"},\"colorscale\":[[0.0,\"#0d0887\"],[0.1111111111111111,\"#46039f\"],[0.2222222222222222,\"#7201a8\"],[0.3333333333333333,\"#9c179e\"],[0.4444444444444444,\"#bd3786\"],[0.5555555555555556,\"#d8576b\"],[0.6666666666666666,\"#ed7953\"],[0.7777777777777778,\"#fb9f3a\"],[0.8888888888888888,\"#fdca26\"],[1.0,\"#f0f921\"]]}],\"heatmap\":[{\"type\":\"heatmap\",\"colorbar\":{\"outlinewidth\":0,\"ticks\":\"\"},\"colorscale\":[[0.0,\"#0d0887\"],[0.1111111111111111,\"#46039f\"],[0.2222222222222222,\"#7201a8\"],[0.3333333333333333,\"#9c179e\"],[0.4444444444444444,\"#bd3786\"],[0.5555555555555556,\"#d8576b\"],[0.6666666666666666,\"#ed7953\"],[0.7777777777777778,\"#fb9f3a\"],[0.8888888888888888,\"#fdca26\"],[1.0,\"#f0f921\"]]}],\"heatmapgl\":[{\"type\":\"heatmapgl\",\"colorbar\":{\"outlinewidth\":0,\"ticks\":\"\"},\"colorscale\":[[0.0,\"#0d0887\"],[0.1111111111111111,\"#46039f\"],[0.2222222222222222,\"#7201a8\"],[0.3333333333333333,\"#9c179e\"],[0.4444444444444444,\"#bd3786\"],[0.5555555555555556,\"#d8576b\"],[0.6666666666666666,\"#ed7953\"],[0.7777777777777778,\"#fb9f3a\"],[0.8888888888888888,\"#fdca26\"],[1.0,\"#f0f921\"]]}],\"contourcarpet\":[{\"type\":\"contourcarpet\",\"colorbar\":{\"outlinewidth\":0,\"ticks\":\"\"}}],\"contour\":[{\"type\":\"contour\",\"colorbar\":{\"outlinewidth\":0,\"ticks\":\"\"},\"colorscale\":[[0.0,\"#0d0887\"],[0.1111111111111111,\"#46039f\"],[0.2222222222222222,\"#7201a8\"],[0.3333333333333333,\"#9c179e\"],[0.4444444444444444,\"#bd3786\"],[0.5555555555555556,\"#d8576b\"],[0.6666666666666666,\"#ed7953\"],[0.7777777777777778,\"#fb9f3a\"],[0.8888888888888888,\"#fdca26\"],[1.0,\"#f0f921\"]]}],\"surface\":[{\"type\":\"surface\",\"colorbar\":{\"outlinewidth\":0,\"ticks\":\"\"},\"colorscale\":[[0.0,\"#0d0887\"],[0.1111111111111111,\"#46039f\"],[0.2222222222222222,\"#7201a8\"],[0.3333333333333333,\"#9c179e\"],[0.4444444444444444,\"#bd3786\"],[0.5555555555555556,\"#d8576b\"],[0.6666666666666666,\"#ed7953\"],[0.7777777777777778,\"#fb9f3a\"],[0.8888888888888888,\"#fdca26\"],[1.0,\"#f0f921\"]]}],\"mesh3d\":[{\"type\":\"mesh3d\",\"colorbar\":{\"outlinewidth\":0,\"ticks\":\"\"}}],\"scatter\":[{\"fillpattern\":{\"fillmode\":\"overlay\",\"size\":10,\"solidity\":0.2},\"type\":\"scatter\"}],\"parcoords\":[{\"type\":\"parcoords\",\"line\":{\"colorbar\":{\"outlinewidth\":0,\"ticks\":\"\"}}}],\"scatterpolargl\":[{\"type\":\"scatterpolargl\",\"marker\":{\"colorbar\":{\"outlinewidth\":0,\"ticks\":\"\"}}}],\"bar\":[{\"error_x\":{\"color\":\"#2a3f5f\"},\"error_y\":{\"color\":\"#2a3f5f\"},\"marker\":{\"line\":{\"color\":\"#E5ECF6\",\"width\":0.5},\"pattern\":{\"fillmode\":\"overlay\",\"size\":10,\"solidity\":0.2}},\"type\":\"bar\"}],\"scattergeo\":[{\"type\":\"scattergeo\",\"marker\":{\"colorbar\":{\"outlinewidth\":0,\"ticks\":\"\"}}}],\"scatterpolar\":[{\"type\":\"scatterpolar\",\"marker\":{\"colorbar\":{\"outlinewidth\":0,\"ticks\":\"\"}}}],\"histogram\":[{\"marker\":{\"pattern\":{\"fillmode\":\"overlay\",\"size\":10,\"solidity\":0.2}},\"type\":\"histogram\"}],\"scattergl\":[{\"type\":\"scattergl\",\"marker\":{\"colorbar\":{\"outlinewidth\":0,\"ticks\":\"\"}}}],\"scatter3d\":[{\"type\":\"scatter3d\",\"line\":{\"colorbar\":{\"outlinewidth\":0,\"ticks\":\"\"}},\"marker\":{\"colorbar\":{\"outlinewidth\":0,\"ticks\":\"\"}}}],\"scattermapbox\":[{\"type\":\"scattermapbox\",\"marker\":{\"colorbar\":{\"outlinewidth\":0,\"ticks\":\"\"}}}],\"scatterternary\":[{\"type\":\"scatterternary\",\"marker\":{\"colorbar\":{\"outlinewidth\":0,\"ticks\":\"\"}}}],\"scattercarpet\":[{\"type\":\"scattercarpet\",\"marker\":{\"colorbar\":{\"outlinewidth\":0,\"ticks\":\"\"}}}],\"carpet\":[{\"aaxis\":{\"endlinecolor\":\"#2a3f5f\",\"gridcolor\":\"white\",\"linecolor\":\"white\",\"minorgridcolor\":\"white\",\"startlinecolor\":\"#2a3f5f\"},\"baxis\":{\"endlinecolor\":\"#2a3f5f\",\"gridcolor\":\"white\",\"linecolor\":\"white\",\"minorgridcolor\":\"white\",\"startlinecolor\":\"#2a3f5f\"},\"type\":\"carpet\"}],\"table\":[{\"cells\":{\"fill\":{\"color\":\"#EBF0F8\"},\"line\":{\"color\":\"white\"}},\"header\":{\"fill\":{\"color\":\"#C8D4E3\"},\"line\":{\"color\":\"white\"}},\"type\":\"table\"}],\"barpolar\":[{\"marker\":{\"line\":{\"color\":\"#E5ECF6\",\"width\":0.5},\"pattern\":{\"fillmode\":\"overlay\",\"size\":10,\"solidity\":0.2}},\"type\":\"barpolar\"}],\"pie\":[{\"automargin\":true,\"type\":\"pie\"}]},\"layout\":{\"autotypenumbers\":\"strict\",\"colorway\":[\"#636efa\",\"#EF553B\",\"#00cc96\",\"#ab63fa\",\"#FFA15A\",\"#19d3f3\",\"#FF6692\",\"#B6E880\",\"#FF97FF\",\"#FECB52\"],\"font\":{\"color\":\"#2a3f5f\"},\"hovermode\":\"closest\",\"hoverlabel\":{\"align\":\"left\"},\"paper_bgcolor\":\"white\",\"plot_bgcolor\":\"#E5ECF6\",\"polar\":{\"bgcolor\":\"#E5ECF6\",\"angularaxis\":{\"gridcolor\":\"white\",\"linecolor\":\"white\",\"ticks\":\"\"},\"radialaxis\":{\"gridcolor\":\"white\",\"linecolor\":\"white\",\"ticks\":\"\"}},\"ternary\":{\"bgcolor\":\"#E5ECF6\",\"aaxis\":{\"gridcolor\":\"white\",\"linecolor\":\"white\",\"ticks\":\"\"},\"baxis\":{\"gridcolor\":\"white\",\"linecolor\":\"white\",\"ticks\":\"\"},\"caxis\":{\"gridcolor\":\"white\",\"linecolor\":\"white\",\"ticks\":\"\"}},\"coloraxis\":{\"colorbar\":{\"outlinewidth\":0,\"ticks\":\"\"}},\"colorscale\":{\"sequential\":[[0.0,\"#0d0887\"],[0.1111111111111111,\"#46039f\"],[0.2222222222222222,\"#7201a8\"],[0.3333333333333333,\"#9c179e\"],[0.4444444444444444,\"#bd3786\"],[0.5555555555555556,\"#d8576b\"],[0.6666666666666666,\"#ed7953\"],[0.7777777777777778,\"#fb9f3a\"],[0.8888888888888888,\"#fdca26\"],[1.0,\"#f0f921\"]],\"sequentialminus\":[[0.0,\"#0d0887\"],[0.1111111111111111,\"#46039f\"],[0.2222222222222222,\"#7201a8\"],[0.3333333333333333,\"#9c179e\"],[0.4444444444444444,\"#bd3786\"],[0.5555555555555556,\"#d8576b\"],[0.6666666666666666,\"#ed7953\"],[0.7777777777777778,\"#fb9f3a\"],[0.8888888888888888,\"#fdca26\"],[1.0,\"#f0f921\"]],\"diverging\":[[0,\"#8e0152\"],[0.1,\"#c51b7d\"],[0.2,\"#de77ae\"],[0.3,\"#f1b6da\"],[0.4,\"#fde0ef\"],[0.5,\"#f7f7f7\"],[0.6,\"#e6f5d0\"],[0.7,\"#b8e186\"],[0.8,\"#7fbc41\"],[0.9,\"#4d9221\"],[1,\"#276419\"]]},\"xaxis\":{\"gridcolor\":\"white\",\"linecolor\":\"white\",\"ticks\":\"\",\"title\":{\"standoff\":15},\"zerolinecolor\":\"white\",\"automargin\":true,\"zerolinewidth\":2},\"yaxis\":{\"gridcolor\":\"white\",\"linecolor\":\"white\",\"ticks\":\"\",\"title\":{\"standoff\":15},\"zerolinecolor\":\"white\",\"automargin\":true,\"zerolinewidth\":2},\"scene\":{\"xaxis\":{\"backgroundcolor\":\"#E5ECF6\",\"gridcolor\":\"white\",\"linecolor\":\"white\",\"showbackground\":true,\"ticks\":\"\",\"zerolinecolor\":\"white\",\"gridwidth\":2},\"yaxis\":{\"backgroundcolor\":\"#E5ECF6\",\"gridcolor\":\"white\",\"linecolor\":\"white\",\"showbackground\":true,\"ticks\":\"\",\"zerolinecolor\":\"white\",\"gridwidth\":2},\"zaxis\":{\"backgroundcolor\":\"#E5ECF6\",\"gridcolor\":\"white\",\"linecolor\":\"white\",\"showbackground\":true,\"ticks\":\"\",\"zerolinecolor\":\"white\",\"gridwidth\":2}},\"shapedefaults\":{\"line\":{\"color\":\"#2a3f5f\"}},\"annotationdefaults\":{\"arrowcolor\":\"#2a3f5f\",\"arrowhead\":0,\"arrowwidth\":1},\"geo\":{\"bgcolor\":\"white\",\"landcolor\":\"#E5ECF6\",\"subunitcolor\":\"white\",\"showland\":true,\"showlakes\":true,\"lakecolor\":\"white\"},\"title\":{\"x\":0.05},\"mapbox\":{\"style\":\"light\"}}},\"xaxis\":{\"anchor\":\"y\",\"domain\":[0.0,1.0],\"title\":{\"text\":\"x\"}},\"yaxis\":{\"anchor\":\"x\",\"domain\":[0.0,1.0],\"title\":{\"text\":\"y\"}},\"legend\":{\"tracegroupgap\":0},\"title\":{\"text\":\"fac\"}},                        {\"responsive\": true}                    ).then(function(){\n                            \nvar gd = document.getElementById('fa462b78-ff5c-4342-8014-09ccc85e3b5b');\nvar x = new MutationObserver(function (mutations, observer) {{\n        var display = window.getComputedStyle(gd).display;\n        if (!display || display === 'none') {{\n            console.log([gd, 'removed!']);\n            Plotly.purge(gd);\n            observer.disconnect();\n        }}\n}});\n\n// Listen for the removal of the full notebook cells\nvar notebookContainer = gd.closest('#notebook-container');\nif (notebookContainer) {{\n    x.observe(notebookContainer, {childList: true});\n}}\n\n// Listen for the clearing of the current output cell\nvar outputEl = gd.closest('.output');\nif (outputEl) {{\n    x.observe(outputEl, {childList: true});\n}}\n\n                        })                };                });            </script>        </div>"
     },
     "metadata": {},
     "output_type": "display_data"
    },
    {
     "data": {
      "application/vnd.plotly.v1+json": {
       "data": [
        {
         "hovertemplate": "x=%{x}<br>y=%{y}<extra></extra>",
         "legendgroup": "",
         "line": {
          "color": "#636efa",
          "dash": "solid"
         },
         "marker": {
          "symbol": "circle"
         },
         "mode": "lines",
         "name": "",
         "orientation": "v",
         "showlegend": false,
         "x": [
          -6.283185,
          -6.183185,
          -6.083185,
          -5.983185,
          -5.883185,
          -5.783185,
          -5.683185,
          -5.583185,
          -5.483185,
          -5.383185,
          -5.283185,
          -5.183185,
          -5.083185,
          -4.983185,
          -4.883185,
          -4.783185,
          -4.683185,
          -4.583185,
          -4.483185,
          -4.383185,
          -4.283185,
          -4.183185,
          -4.083185,
          -3.983185,
          -3.883185,
          -3.783185,
          -3.683185,
          -3.583185,
          -3.483185,
          -3.383185,
          -3.283185,
          -3.183185,
          -3.083185,
          -2.983185,
          -2.883185,
          -2.783185,
          -2.683185,
          -2.583185,
          -2.483185,
          -2.383185,
          -2.283185,
          -2.183185,
          -2.083185,
          -1.983185,
          -1.883185,
          -1.783185,
          -1.683185,
          -1.583185,
          -1.483185,
          -1.383185,
          -1.283185,
          -1.183185,
          -1.083185,
          -0.983185,
          -0.883185,
          -0.783185,
          -0.683185,
          -0.583185,
          -0.483185,
          -0.383185,
          -0.283185,
          -0.183185,
          -0.083185,
          0.016815,
          0.116815,
          0.216815,
          0.316815,
          0.416815,
          0.516815,
          0.616815,
          0.716815,
          0.816815,
          0.916815,
          1.016815,
          1.116815,
          1.216815,
          1.316815,
          1.416815,
          1.516815,
          1.616815,
          1.716815,
          1.816815,
          1.916815,
          2.016815,
          2.116815,
          2.216815,
          2.316815,
          2.416815,
          2.516815,
          2.616815,
          2.716815,
          2.816815,
          2.916815,
          3.016815,
          3.116815,
          3.216815,
          3.316815,
          3.416815,
          3.516815,
          3.616815,
          3.716815,
          3.816815,
          3.916815,
          4.016815,
          4.116815,
          4.216815,
          4.316815,
          4.416815,
          4.516815,
          4.616815,
          4.716815,
          4.816815,
          4.916815,
          5.016815,
          5.116815,
          5.216815,
          5.316815,
          5.416815,
          5.516815,
          5.616815,
          5.716815,
          5.816815,
          5.916815,
          6.016815,
          6.116815,
          6.216815
         ],
         "xaxis": "x",
         "y": [
          0.001048,
          0.100584,
          0.199203,
          0.295898,
          0.389684,
          0.479611,
          0.564772,
          0.644307,
          0.717417,
          0.783369,
          0.841499,
          0.891226,
          0.932052,
          0.963566,
          0.985455,
          0.997499,
          0.999576,
          0.991666,
          0.973849,
          0.946301,
          0.909298,
          0.86321,
          0.808497,
          0.745705,
          0.675463,
          0.598472,
          0.515501,
          0.42738,
          0.334988,
          0.239249,
          0.14112,
          0.041581,
          -0.058374,
          -0.157746,
          -0.255541,
          -0.350783,
          -0.44252,
          -0.529836,
          -0.611858,
          -0.687766,
          -0.756802,
          -0.818277,
          -0.871576,
          -0.916166,
          -0.951602,
          -0.97753,
          -0.993691,
          -0.999923,
          -0.996165,
          -0.982453,
          -0.958924,
          -0.925815,
          -0.883455,
          -0.832267,
          -0.772764,
          -0.70554,
          -0.631267,
          -0.550686,
          -0.464602,
          -0.373877,
          -0.279415,
          -0.182163,
          -0.083089,
          0.016814,
          0.116549,
          0.21512,
          0.311541,
          0.40485,
          0.494113,
          0.57844,
          0.656987,
          0.728969,
          0.793668,
          0.850437,
          0.898708,
          0.938,
          0.96792,
          0.988168,
          0.998543,
          0.998941,
          0.989358,
          0.96989,
          0.940731,
          0.902172,
          0.854599,
          0.798487,
          0.734397,
          0.662969,
          0.584917,
          0.501021,
          0.412118,
          0.319098,
          0.22289,
          0.124454,
          0.024775,
          -0.075151,
          -0.174327,
          -0.271761,
          -0.366479,
          -0.457536,
          -0.544021,
          -0.625071,
          -0.699875,
          -0.767686,
          -0.827827,
          -0.879696,
          -0.922776,
          -0.956636,
          -0.980937,
          -0.995438,
          -0.999993,
          -0.994557,
          -0.979184,
          -0.954029,
          -0.919343,
          -0.875474,
          -0.822861,
          -0.762031,
          -0.693595,
          -0.618238,
          -0.536719,
          -0.449857,
          -0.358529,
          -0.263656,
          -0.166203,
          -0.067162
         ],
         "yaxis": "y",
         "type": "scatter"
        }
       ],
       "layout": {
        "template": {
         "data": {
          "histogram2dcontour": [
           {
            "type": "histogram2dcontour",
            "colorbar": {
             "outlinewidth": 0,
             "ticks": ""
            },
            "colorscale": [
             [
              0.0,
              "#0d0887"
             ],
             [
              0.1111111111111111,
              "#46039f"
             ],
             [
              0.2222222222222222,
              "#7201a8"
             ],
             [
              0.3333333333333333,
              "#9c179e"
             ],
             [
              0.4444444444444444,
              "#bd3786"
             ],
             [
              0.5555555555555556,
              "#d8576b"
             ],
             [
              0.6666666666666666,
              "#ed7953"
             ],
             [
              0.7777777777777778,
              "#fb9f3a"
             ],
             [
              0.8888888888888888,
              "#fdca26"
             ],
             [
              1.0,
              "#f0f921"
             ]
            ]
           }
          ],
          "choropleth": [
           {
            "type": "choropleth",
            "colorbar": {
             "outlinewidth": 0,
             "ticks": ""
            }
           }
          ],
          "histogram2d": [
           {
            "type": "histogram2d",
            "colorbar": {
             "outlinewidth": 0,
             "ticks": ""
            },
            "colorscale": [
             [
              0.0,
              "#0d0887"
             ],
             [
              0.1111111111111111,
              "#46039f"
             ],
             [
              0.2222222222222222,
              "#7201a8"
             ],
             [
              0.3333333333333333,
              "#9c179e"
             ],
             [
              0.4444444444444444,
              "#bd3786"
             ],
             [
              0.5555555555555556,
              "#d8576b"
             ],
             [
              0.6666666666666666,
              "#ed7953"
             ],
             [
              0.7777777777777778,
              "#fb9f3a"
             ],
             [
              0.8888888888888888,
              "#fdca26"
             ],
             [
              1.0,
              "#f0f921"
             ]
            ]
           }
          ],
          "heatmap": [
           {
            "type": "heatmap",
            "colorbar": {
             "outlinewidth": 0,
             "ticks": ""
            },
            "colorscale": [
             [
              0.0,
              "#0d0887"
             ],
             [
              0.1111111111111111,
              "#46039f"
             ],
             [
              0.2222222222222222,
              "#7201a8"
             ],
             [
              0.3333333333333333,
              "#9c179e"
             ],
             [
              0.4444444444444444,
              "#bd3786"
             ],
             [
              0.5555555555555556,
              "#d8576b"
             ],
             [
              0.6666666666666666,
              "#ed7953"
             ],
             [
              0.7777777777777778,
              "#fb9f3a"
             ],
             [
              0.8888888888888888,
              "#fdca26"
             ],
             [
              1.0,
              "#f0f921"
             ]
            ]
           }
          ],
          "heatmapgl": [
           {
            "type": "heatmapgl",
            "colorbar": {
             "outlinewidth": 0,
             "ticks": ""
            },
            "colorscale": [
             [
              0.0,
              "#0d0887"
             ],
             [
              0.1111111111111111,
              "#46039f"
             ],
             [
              0.2222222222222222,
              "#7201a8"
             ],
             [
              0.3333333333333333,
              "#9c179e"
             ],
             [
              0.4444444444444444,
              "#bd3786"
             ],
             [
              0.5555555555555556,
              "#d8576b"
             ],
             [
              0.6666666666666666,
              "#ed7953"
             ],
             [
              0.7777777777777778,
              "#fb9f3a"
             ],
             [
              0.8888888888888888,
              "#fdca26"
             ],
             [
              1.0,
              "#f0f921"
             ]
            ]
           }
          ],
          "contourcarpet": [
           {
            "type": "contourcarpet",
            "colorbar": {
             "outlinewidth": 0,
             "ticks": ""
            }
           }
          ],
          "contour": [
           {
            "type": "contour",
            "colorbar": {
             "outlinewidth": 0,
             "ticks": ""
            },
            "colorscale": [
             [
              0.0,
              "#0d0887"
             ],
             [
              0.1111111111111111,
              "#46039f"
             ],
             [
              0.2222222222222222,
              "#7201a8"
             ],
             [
              0.3333333333333333,
              "#9c179e"
             ],
             [
              0.4444444444444444,
              "#bd3786"
             ],
             [
              0.5555555555555556,
              "#d8576b"
             ],
             [
              0.6666666666666666,
              "#ed7953"
             ],
             [
              0.7777777777777778,
              "#fb9f3a"
             ],
             [
              0.8888888888888888,
              "#fdca26"
             ],
             [
              1.0,
              "#f0f921"
             ]
            ]
           }
          ],
          "surface": [
           {
            "type": "surface",
            "colorbar": {
             "outlinewidth": 0,
             "ticks": ""
            },
            "colorscale": [
             [
              0.0,
              "#0d0887"
             ],
             [
              0.1111111111111111,
              "#46039f"
             ],
             [
              0.2222222222222222,
              "#7201a8"
             ],
             [
              0.3333333333333333,
              "#9c179e"
             ],
             [
              0.4444444444444444,
              "#bd3786"
             ],
             [
              0.5555555555555556,
              "#d8576b"
             ],
             [
              0.6666666666666666,
              "#ed7953"
             ],
             [
              0.7777777777777778,
              "#fb9f3a"
             ],
             [
              0.8888888888888888,
              "#fdca26"
             ],
             [
              1.0,
              "#f0f921"
             ]
            ]
           }
          ],
          "mesh3d": [
           {
            "type": "mesh3d",
            "colorbar": {
             "outlinewidth": 0,
             "ticks": ""
            }
           }
          ],
          "scatter": [
           {
            "fillpattern": {
             "fillmode": "overlay",
             "size": 10,
             "solidity": 0.2
            },
            "type": "scatter"
           }
          ],
          "parcoords": [
           {
            "type": "parcoords",
            "line": {
             "colorbar": {
              "outlinewidth": 0,
              "ticks": ""
             }
            }
           }
          ],
          "scatterpolargl": [
           {
            "type": "scatterpolargl",
            "marker": {
             "colorbar": {
              "outlinewidth": 0,
              "ticks": ""
             }
            }
           }
          ],
          "bar": [
           {
            "error_x": {
             "color": "#2a3f5f"
            },
            "error_y": {
             "color": "#2a3f5f"
            },
            "marker": {
             "line": {
              "color": "#E5ECF6",
              "width": 0.5
             },
             "pattern": {
              "fillmode": "overlay",
              "size": 10,
              "solidity": 0.2
             }
            },
            "type": "bar"
           }
          ],
          "scattergeo": [
           {
            "type": "scattergeo",
            "marker": {
             "colorbar": {
              "outlinewidth": 0,
              "ticks": ""
             }
            }
           }
          ],
          "scatterpolar": [
           {
            "type": "scatterpolar",
            "marker": {
             "colorbar": {
              "outlinewidth": 0,
              "ticks": ""
             }
            }
           }
          ],
          "histogram": [
           {
            "marker": {
             "pattern": {
              "fillmode": "overlay",
              "size": 10,
              "solidity": 0.2
             }
            },
            "type": "histogram"
           }
          ],
          "scattergl": [
           {
            "type": "scattergl",
            "marker": {
             "colorbar": {
              "outlinewidth": 0,
              "ticks": ""
             }
            }
           }
          ],
          "scatter3d": [
           {
            "type": "scatter3d",
            "line": {
             "colorbar": {
              "outlinewidth": 0,
              "ticks": ""
             }
            },
            "marker": {
             "colorbar": {
              "outlinewidth": 0,
              "ticks": ""
             }
            }
           }
          ],
          "scattermapbox": [
           {
            "type": "scattermapbox",
            "marker": {
             "colorbar": {
              "outlinewidth": 0,
              "ticks": ""
             }
            }
           }
          ],
          "scatterternary": [
           {
            "type": "scatterternary",
            "marker": {
             "colorbar": {
              "outlinewidth": 0,
              "ticks": ""
             }
            }
           }
          ],
          "scattercarpet": [
           {
            "type": "scattercarpet",
            "marker": {
             "colorbar": {
              "outlinewidth": 0,
              "ticks": ""
             }
            }
           }
          ],
          "carpet": [
           {
            "aaxis": {
             "endlinecolor": "#2a3f5f",
             "gridcolor": "white",
             "linecolor": "white",
             "minorgridcolor": "white",
             "startlinecolor": "#2a3f5f"
            },
            "baxis": {
             "endlinecolor": "#2a3f5f",
             "gridcolor": "white",
             "linecolor": "white",
             "minorgridcolor": "white",
             "startlinecolor": "#2a3f5f"
            },
            "type": "carpet"
           }
          ],
          "table": [
           {
            "cells": {
             "fill": {
              "color": "#EBF0F8"
             },
             "line": {
              "color": "white"
             }
            },
            "header": {
             "fill": {
              "color": "#C8D4E3"
             },
             "line": {
              "color": "white"
             }
            },
            "type": "table"
           }
          ],
          "barpolar": [
           {
            "marker": {
             "line": {
              "color": "#E5ECF6",
              "width": 0.5
             },
             "pattern": {
              "fillmode": "overlay",
              "size": 10,
              "solidity": 0.2
             }
            },
            "type": "barpolar"
           }
          ],
          "pie": [
           {
            "automargin": true,
            "type": "pie"
           }
          ]
         },
         "layout": {
          "autotypenumbers": "strict",
          "colorway": [
           "#636efa",
           "#EF553B",
           "#00cc96",
           "#ab63fa",
           "#FFA15A",
           "#19d3f3",
           "#FF6692",
           "#B6E880",
           "#FF97FF",
           "#FECB52"
          ],
          "font": {
           "color": "#2a3f5f"
          },
          "hovermode": "closest",
          "hoverlabel": {
           "align": "left"
          },
          "paper_bgcolor": "white",
          "plot_bgcolor": "#E5ECF6",
          "polar": {
           "bgcolor": "#E5ECF6",
           "angularaxis": {
            "gridcolor": "white",
            "linecolor": "white",
            "ticks": ""
           },
           "radialaxis": {
            "gridcolor": "white",
            "linecolor": "white",
            "ticks": ""
           }
          },
          "ternary": {
           "bgcolor": "#E5ECF6",
           "aaxis": {
            "gridcolor": "white",
            "linecolor": "white",
            "ticks": ""
           },
           "baxis": {
            "gridcolor": "white",
            "linecolor": "white",
            "ticks": ""
           },
           "caxis": {
            "gridcolor": "white",
            "linecolor": "white",
            "ticks": ""
           }
          },
          "coloraxis": {
           "colorbar": {
            "outlinewidth": 0,
            "ticks": ""
           }
          },
          "colorscale": {
           "sequential": [
            [
             0.0,
             "#0d0887"
            ],
            [
             0.1111111111111111,
             "#46039f"
            ],
            [
             0.2222222222222222,
             "#7201a8"
            ],
            [
             0.3333333333333333,
             "#9c179e"
            ],
            [
             0.4444444444444444,
             "#bd3786"
            ],
            [
             0.5555555555555556,
             "#d8576b"
            ],
            [
             0.6666666666666666,
             "#ed7953"
            ],
            [
             0.7777777777777778,
             "#fb9f3a"
            ],
            [
             0.8888888888888888,
             "#fdca26"
            ],
            [
             1.0,
             "#f0f921"
            ]
           ],
           "sequentialminus": [
            [
             0.0,
             "#0d0887"
            ],
            [
             0.1111111111111111,
             "#46039f"
            ],
            [
             0.2222222222222222,
             "#7201a8"
            ],
            [
             0.3333333333333333,
             "#9c179e"
            ],
            [
             0.4444444444444444,
             "#bd3786"
            ],
            [
             0.5555555555555556,
             "#d8576b"
            ],
            [
             0.6666666666666666,
             "#ed7953"
            ],
            [
             0.7777777777777778,
             "#fb9f3a"
            ],
            [
             0.8888888888888888,
             "#fdca26"
            ],
            [
             1.0,
             "#f0f921"
            ]
           ],
           "diverging": [
            [
             0,
             "#8e0152"
            ],
            [
             0.1,
             "#c51b7d"
            ],
            [
             0.2,
             "#de77ae"
            ],
            [
             0.3,
             "#f1b6da"
            ],
            [
             0.4,
             "#fde0ef"
            ],
            [
             0.5,
             "#f7f7f7"
            ],
            [
             0.6,
             "#e6f5d0"
            ],
            [
             0.7,
             "#b8e186"
            ],
            [
             0.8,
             "#7fbc41"
            ],
            [
             0.9,
             "#4d9221"
            ],
            [
             1,
             "#276419"
            ]
           ]
          },
          "xaxis": {
           "gridcolor": "white",
           "linecolor": "white",
           "ticks": "",
           "title": {
            "standoff": 15
           },
           "zerolinecolor": "white",
           "automargin": true,
           "zerolinewidth": 2
          },
          "yaxis": {
           "gridcolor": "white",
           "linecolor": "white",
           "ticks": "",
           "title": {
            "standoff": 15
           },
           "zerolinecolor": "white",
           "automargin": true,
           "zerolinewidth": 2
          },
          "scene": {
           "xaxis": {
            "backgroundcolor": "#E5ECF6",
            "gridcolor": "white",
            "linecolor": "white",
            "showbackground": true,
            "ticks": "",
            "zerolinecolor": "white",
            "gridwidth": 2
           },
           "yaxis": {
            "backgroundcolor": "#E5ECF6",
            "gridcolor": "white",
            "linecolor": "white",
            "showbackground": true,
            "ticks": "",
            "zerolinecolor": "white",
            "gridwidth": 2
           },
           "zaxis": {
            "backgroundcolor": "#E5ECF6",
            "gridcolor": "white",
            "linecolor": "white",
            "showbackground": true,
            "ticks": "",
            "zerolinecolor": "white",
            "gridwidth": 2
           }
          },
          "shapedefaults": {
           "line": {
            "color": "#2a3f5f"
           }
          },
          "annotationdefaults": {
           "arrowcolor": "#2a3f5f",
           "arrowhead": 0,
           "arrowwidth": 1
          },
          "geo": {
           "bgcolor": "white",
           "landcolor": "#E5ECF6",
           "subunitcolor": "white",
           "showland": true,
           "showlakes": true,
           "lakecolor": "white"
          },
          "title": {
           "x": 0.05
          },
          "mapbox": {
           "style": "light"
          }
         }
        },
        "xaxis": {
         "anchor": "y",
         "domain": [
          0.0,
          1.0
         ],
         "title": {
          "text": "x"
         }
        },
        "yaxis": {
         "anchor": "x",
         "domain": [
          0.0,
          1.0
         ],
         "title": {
          "text": "y"
         }
        },
        "legend": {
         "tracegroupgap": 0
        },
        "title": {
         "text": "sin"
        }
       },
       "config": {
        "plotlyServerURL": "https://plot.ly"
       }
      },
      "text/html": "<div>                            <div id=\"dbffc3fb-bbc1-48fb-8463-d9c3fe35ec49\" class=\"plotly-graph-div\" style=\"height:525px; width:100%;\"></div>            <script type=\"text/javascript\">                require([\"plotly\"], function(Plotly) {                    window.PLOTLYENV=window.PLOTLYENV || {};                                    if (document.getElementById(\"dbffc3fb-bbc1-48fb-8463-d9c3fe35ec49\")) {                    Plotly.newPlot(                        \"dbffc3fb-bbc1-48fb-8463-d9c3fe35ec49\",                        [{\"hovertemplate\":\"x=%{x}\\u003cbr\\u003ey=%{y}\\u003cextra\\u003e\\u003c\\u002fextra\\u003e\",\"legendgroup\":\"\",\"line\":{\"color\":\"#636efa\",\"dash\":\"solid\"},\"marker\":{\"symbol\":\"circle\"},\"mode\":\"lines\",\"name\":\"\",\"orientation\":\"v\",\"showlegend\":false,\"x\":[-6.283185,-6.183185,-6.083185,-5.983185,-5.883185,-5.783185,-5.683185,-5.583185,-5.483185,-5.383185,-5.283185,-5.183185,-5.083185,-4.983185,-4.883185,-4.783185,-4.683185,-4.583185,-4.483185,-4.383185,-4.283185,-4.183185,-4.083185,-3.983185,-3.883185,-3.783185,-3.683185,-3.583185,-3.483185,-3.383185,-3.283185,-3.183185,-3.083185,-2.983185,-2.883185,-2.783185,-2.683185,-2.583185,-2.483185,-2.383185,-2.283185,-2.183185,-2.083185,-1.983185,-1.883185,-1.783185,-1.683185,-1.583185,-1.483185,-1.383185,-1.283185,-1.183185,-1.083185,-0.983185,-0.883185,-0.783185,-0.683185,-0.583185,-0.483185,-0.383185,-0.283185,-0.183185,-0.083185,0.016815,0.116815,0.216815,0.316815,0.416815,0.516815,0.616815,0.716815,0.816815,0.916815,1.016815,1.116815,1.216815,1.316815,1.416815,1.516815,1.616815,1.716815,1.816815,1.916815,2.016815,2.116815,2.216815,2.316815,2.416815,2.516815,2.616815,2.716815,2.816815,2.916815,3.016815,3.116815,3.216815,3.316815,3.416815,3.516815,3.616815,3.716815,3.816815,3.916815,4.016815,4.116815,4.216815,4.316815,4.416815,4.516815,4.616815,4.716815,4.816815,4.916815,5.016815,5.116815,5.216815,5.316815,5.416815,5.516815,5.616815,5.716815,5.816815,5.916815,6.016815,6.116815,6.216815],\"xaxis\":\"x\",\"y\":[0.001048,0.100584,0.199203,0.295898,0.389684,0.479611,0.564772,0.644307,0.717417,0.783369,0.841499,0.891226,0.932052,0.963566,0.985455,0.997499,0.999576,0.991666,0.973849,0.946301,0.909298,0.86321,0.808497,0.745705,0.675463,0.598472,0.515501,0.42738,0.334988,0.239249,0.14112,0.041581,-0.058374,-0.157746,-0.255541,-0.350783,-0.44252,-0.529836,-0.611858,-0.687766,-0.756802,-0.818277,-0.871576,-0.916166,-0.951602,-0.97753,-0.993691,-0.999923,-0.996165,-0.982453,-0.958924,-0.925815,-0.883455,-0.832267,-0.772764,-0.70554,-0.631267,-0.550686,-0.464602,-0.373877,-0.279415,-0.182163,-0.083089,0.016814,0.116549,0.21512,0.311541,0.40485,0.494113,0.57844,0.656987,0.728969,0.793668,0.850437,0.898708,0.938,0.96792,0.988168,0.998543,0.998941,0.989358,0.96989,0.940731,0.902172,0.854599,0.798487,0.734397,0.662969,0.584917,0.501021,0.412118,0.319098,0.22289,0.124454,0.024775,-0.075151,-0.174327,-0.271761,-0.366479,-0.457536,-0.544021,-0.625071,-0.699875,-0.767686,-0.827827,-0.879696,-0.922776,-0.956636,-0.980937,-0.995438,-0.999993,-0.994557,-0.979184,-0.954029,-0.919343,-0.875474,-0.822861,-0.762031,-0.693595,-0.618238,-0.536719,-0.449857,-0.358529,-0.263656,-0.166203,-0.067162],\"yaxis\":\"y\",\"type\":\"scatter\"}],                        {\"template\":{\"data\":{\"histogram2dcontour\":[{\"type\":\"histogram2dcontour\",\"colorbar\":{\"outlinewidth\":0,\"ticks\":\"\"},\"colorscale\":[[0.0,\"#0d0887\"],[0.1111111111111111,\"#46039f\"],[0.2222222222222222,\"#7201a8\"],[0.3333333333333333,\"#9c179e\"],[0.4444444444444444,\"#bd3786\"],[0.5555555555555556,\"#d8576b\"],[0.6666666666666666,\"#ed7953\"],[0.7777777777777778,\"#fb9f3a\"],[0.8888888888888888,\"#fdca26\"],[1.0,\"#f0f921\"]]}],\"choropleth\":[{\"type\":\"choropleth\",\"colorbar\":{\"outlinewidth\":0,\"ticks\":\"\"}}],\"histogram2d\":[{\"type\":\"histogram2d\",\"colorbar\":{\"outlinewidth\":0,\"ticks\":\"\"},\"colorscale\":[[0.0,\"#0d0887\"],[0.1111111111111111,\"#46039f\"],[0.2222222222222222,\"#7201a8\"],[0.3333333333333333,\"#9c179e\"],[0.4444444444444444,\"#bd3786\"],[0.5555555555555556,\"#d8576b\"],[0.6666666666666666,\"#ed7953\"],[0.7777777777777778,\"#fb9f3a\"],[0.8888888888888888,\"#fdca26\"],[1.0,\"#f0f921\"]]}],\"heatmap\":[{\"type\":\"heatmap\",\"colorbar\":{\"outlinewidth\":0,\"ticks\":\"\"},\"colorscale\":[[0.0,\"#0d0887\"],[0.1111111111111111,\"#46039f\"],[0.2222222222222222,\"#7201a8\"],[0.3333333333333333,\"#9c179e\"],[0.4444444444444444,\"#bd3786\"],[0.5555555555555556,\"#d8576b\"],[0.6666666666666666,\"#ed7953\"],[0.7777777777777778,\"#fb9f3a\"],[0.8888888888888888,\"#fdca26\"],[1.0,\"#f0f921\"]]}],\"heatmapgl\":[{\"type\":\"heatmapgl\",\"colorbar\":{\"outlinewidth\":0,\"ticks\":\"\"},\"colorscale\":[[0.0,\"#0d0887\"],[0.1111111111111111,\"#46039f\"],[0.2222222222222222,\"#7201a8\"],[0.3333333333333333,\"#9c179e\"],[0.4444444444444444,\"#bd3786\"],[0.5555555555555556,\"#d8576b\"],[0.6666666666666666,\"#ed7953\"],[0.7777777777777778,\"#fb9f3a\"],[0.8888888888888888,\"#fdca26\"],[1.0,\"#f0f921\"]]}],\"contourcarpet\":[{\"type\":\"contourcarpet\",\"colorbar\":{\"outlinewidth\":0,\"ticks\":\"\"}}],\"contour\":[{\"type\":\"contour\",\"colorbar\":{\"outlinewidth\":0,\"ticks\":\"\"},\"colorscale\":[[0.0,\"#0d0887\"],[0.1111111111111111,\"#46039f\"],[0.2222222222222222,\"#7201a8\"],[0.3333333333333333,\"#9c179e\"],[0.4444444444444444,\"#bd3786\"],[0.5555555555555556,\"#d8576b\"],[0.6666666666666666,\"#ed7953\"],[0.7777777777777778,\"#fb9f3a\"],[0.8888888888888888,\"#fdca26\"],[1.0,\"#f0f921\"]]}],\"surface\":[{\"type\":\"surface\",\"colorbar\":{\"outlinewidth\":0,\"ticks\":\"\"},\"colorscale\":[[0.0,\"#0d0887\"],[0.1111111111111111,\"#46039f\"],[0.2222222222222222,\"#7201a8\"],[0.3333333333333333,\"#9c179e\"],[0.4444444444444444,\"#bd3786\"],[0.5555555555555556,\"#d8576b\"],[0.6666666666666666,\"#ed7953\"],[0.7777777777777778,\"#fb9f3a\"],[0.8888888888888888,\"#fdca26\"],[1.0,\"#f0f921\"]]}],\"mesh3d\":[{\"type\":\"mesh3d\",\"colorbar\":{\"outlinewidth\":0,\"ticks\":\"\"}}],\"scatter\":[{\"fillpattern\":{\"fillmode\":\"overlay\",\"size\":10,\"solidity\":0.2},\"type\":\"scatter\"}],\"parcoords\":[{\"type\":\"parcoords\",\"line\":{\"colorbar\":{\"outlinewidth\":0,\"ticks\":\"\"}}}],\"scatterpolargl\":[{\"type\":\"scatterpolargl\",\"marker\":{\"colorbar\":{\"outlinewidth\":0,\"ticks\":\"\"}}}],\"bar\":[{\"error_x\":{\"color\":\"#2a3f5f\"},\"error_y\":{\"color\":\"#2a3f5f\"},\"marker\":{\"line\":{\"color\":\"#E5ECF6\",\"width\":0.5},\"pattern\":{\"fillmode\":\"overlay\",\"size\":10,\"solidity\":0.2}},\"type\":\"bar\"}],\"scattergeo\":[{\"type\":\"scattergeo\",\"marker\":{\"colorbar\":{\"outlinewidth\":0,\"ticks\":\"\"}}}],\"scatterpolar\":[{\"type\":\"scatterpolar\",\"marker\":{\"colorbar\":{\"outlinewidth\":0,\"ticks\":\"\"}}}],\"histogram\":[{\"marker\":{\"pattern\":{\"fillmode\":\"overlay\",\"size\":10,\"solidity\":0.2}},\"type\":\"histogram\"}],\"scattergl\":[{\"type\":\"scattergl\",\"marker\":{\"colorbar\":{\"outlinewidth\":0,\"ticks\":\"\"}}}],\"scatter3d\":[{\"type\":\"scatter3d\",\"line\":{\"colorbar\":{\"outlinewidth\":0,\"ticks\":\"\"}},\"marker\":{\"colorbar\":{\"outlinewidth\":0,\"ticks\":\"\"}}}],\"scattermapbox\":[{\"type\":\"scattermapbox\",\"marker\":{\"colorbar\":{\"outlinewidth\":0,\"ticks\":\"\"}}}],\"scatterternary\":[{\"type\":\"scatterternary\",\"marker\":{\"colorbar\":{\"outlinewidth\":0,\"ticks\":\"\"}}}],\"scattercarpet\":[{\"type\":\"scattercarpet\",\"marker\":{\"colorbar\":{\"outlinewidth\":0,\"ticks\":\"\"}}}],\"carpet\":[{\"aaxis\":{\"endlinecolor\":\"#2a3f5f\",\"gridcolor\":\"white\",\"linecolor\":\"white\",\"minorgridcolor\":\"white\",\"startlinecolor\":\"#2a3f5f\"},\"baxis\":{\"endlinecolor\":\"#2a3f5f\",\"gridcolor\":\"white\",\"linecolor\":\"white\",\"minorgridcolor\":\"white\",\"startlinecolor\":\"#2a3f5f\"},\"type\":\"carpet\"}],\"table\":[{\"cells\":{\"fill\":{\"color\":\"#EBF0F8\"},\"line\":{\"color\":\"white\"}},\"header\":{\"fill\":{\"color\":\"#C8D4E3\"},\"line\":{\"color\":\"white\"}},\"type\":\"table\"}],\"barpolar\":[{\"marker\":{\"line\":{\"color\":\"#E5ECF6\",\"width\":0.5},\"pattern\":{\"fillmode\":\"overlay\",\"size\":10,\"solidity\":0.2}},\"type\":\"barpolar\"}],\"pie\":[{\"automargin\":true,\"type\":\"pie\"}]},\"layout\":{\"autotypenumbers\":\"strict\",\"colorway\":[\"#636efa\",\"#EF553B\",\"#00cc96\",\"#ab63fa\",\"#FFA15A\",\"#19d3f3\",\"#FF6692\",\"#B6E880\",\"#FF97FF\",\"#FECB52\"],\"font\":{\"color\":\"#2a3f5f\"},\"hovermode\":\"closest\",\"hoverlabel\":{\"align\":\"left\"},\"paper_bgcolor\":\"white\",\"plot_bgcolor\":\"#E5ECF6\",\"polar\":{\"bgcolor\":\"#E5ECF6\",\"angularaxis\":{\"gridcolor\":\"white\",\"linecolor\":\"white\",\"ticks\":\"\"},\"radialaxis\":{\"gridcolor\":\"white\",\"linecolor\":\"white\",\"ticks\":\"\"}},\"ternary\":{\"bgcolor\":\"#E5ECF6\",\"aaxis\":{\"gridcolor\":\"white\",\"linecolor\":\"white\",\"ticks\":\"\"},\"baxis\":{\"gridcolor\":\"white\",\"linecolor\":\"white\",\"ticks\":\"\"},\"caxis\":{\"gridcolor\":\"white\",\"linecolor\":\"white\",\"ticks\":\"\"}},\"coloraxis\":{\"colorbar\":{\"outlinewidth\":0,\"ticks\":\"\"}},\"colorscale\":{\"sequential\":[[0.0,\"#0d0887\"],[0.1111111111111111,\"#46039f\"],[0.2222222222222222,\"#7201a8\"],[0.3333333333333333,\"#9c179e\"],[0.4444444444444444,\"#bd3786\"],[0.5555555555555556,\"#d8576b\"],[0.6666666666666666,\"#ed7953\"],[0.7777777777777778,\"#fb9f3a\"],[0.8888888888888888,\"#fdca26\"],[1.0,\"#f0f921\"]],\"sequentialminus\":[[0.0,\"#0d0887\"],[0.1111111111111111,\"#46039f\"],[0.2222222222222222,\"#7201a8\"],[0.3333333333333333,\"#9c179e\"],[0.4444444444444444,\"#bd3786\"],[0.5555555555555556,\"#d8576b\"],[0.6666666666666666,\"#ed7953\"],[0.7777777777777778,\"#fb9f3a\"],[0.8888888888888888,\"#fdca26\"],[1.0,\"#f0f921\"]],\"diverging\":[[0,\"#8e0152\"],[0.1,\"#c51b7d\"],[0.2,\"#de77ae\"],[0.3,\"#f1b6da\"],[0.4,\"#fde0ef\"],[0.5,\"#f7f7f7\"],[0.6,\"#e6f5d0\"],[0.7,\"#b8e186\"],[0.8,\"#7fbc41\"],[0.9,\"#4d9221\"],[1,\"#276419\"]]},\"xaxis\":{\"gridcolor\":\"white\",\"linecolor\":\"white\",\"ticks\":\"\",\"title\":{\"standoff\":15},\"zerolinecolor\":\"white\",\"automargin\":true,\"zerolinewidth\":2},\"yaxis\":{\"gridcolor\":\"white\",\"linecolor\":\"white\",\"ticks\":\"\",\"title\":{\"standoff\":15},\"zerolinecolor\":\"white\",\"automargin\":true,\"zerolinewidth\":2},\"scene\":{\"xaxis\":{\"backgroundcolor\":\"#E5ECF6\",\"gridcolor\":\"white\",\"linecolor\":\"white\",\"showbackground\":true,\"ticks\":\"\",\"zerolinecolor\":\"white\",\"gridwidth\":2},\"yaxis\":{\"backgroundcolor\":\"#E5ECF6\",\"gridcolor\":\"white\",\"linecolor\":\"white\",\"showbackground\":true,\"ticks\":\"\",\"zerolinecolor\":\"white\",\"gridwidth\":2},\"zaxis\":{\"backgroundcolor\":\"#E5ECF6\",\"gridcolor\":\"white\",\"linecolor\":\"white\",\"showbackground\":true,\"ticks\":\"\",\"zerolinecolor\":\"white\",\"gridwidth\":2}},\"shapedefaults\":{\"line\":{\"color\":\"#2a3f5f\"}},\"annotationdefaults\":{\"arrowcolor\":\"#2a3f5f\",\"arrowhead\":0,\"arrowwidth\":1},\"geo\":{\"bgcolor\":\"white\",\"landcolor\":\"#E5ECF6\",\"subunitcolor\":\"white\",\"showland\":true,\"showlakes\":true,\"lakecolor\":\"white\"},\"title\":{\"x\":0.05},\"mapbox\":{\"style\":\"light\"}}},\"xaxis\":{\"anchor\":\"y\",\"domain\":[0.0,1.0],\"title\":{\"text\":\"x\"}},\"yaxis\":{\"anchor\":\"x\",\"domain\":[0.0,1.0],\"title\":{\"text\":\"y\"}},\"legend\":{\"tracegroupgap\":0},\"title\":{\"text\":\"sin\"}},                        {\"responsive\": true}                    ).then(function(){\n                            \nvar gd = document.getElementById('dbffc3fb-bbc1-48fb-8463-d9c3fe35ec49');\nvar x = new MutationObserver(function (mutations, observer) {{\n        var display = window.getComputedStyle(gd).display;\n        if (!display || display === 'none') {{\n            console.log([gd, 'removed!']);\n            Plotly.purge(gd);\n            observer.disconnect();\n        }}\n}});\n\n// Listen for the removal of the full notebook cells\nvar notebookContainer = gd.closest('#notebook-container');\nif (notebookContainer) {{\n    x.observe(notebookContainer, {childList: true});\n}}\n\n// Listen for the clearing of the current output cell\nvar outputEl = gd.closest('.output');\nif (outputEl) {{\n    x.observe(outputEl, {childList: true});\n}}\n\n                        })                };                });            </script>        </div>"
     },
     "metadata": {},
     "output_type": "display_data"
    },
    {
     "data": {
      "application/vnd.plotly.v1+json": {
       "data": [
        {
         "hovertemplate": "x=%{x}<br>y=%{y}<extra></extra>",
         "legendgroup": "",
         "line": {
          "color": "#636efa",
          "dash": "solid"
         },
         "marker": {
          "symbol": "circle"
         },
         "mode": "lines",
         "name": "",
         "orientation": "v",
         "showlegend": false,
         "x": [
          -6.283185,
          -6.183185,
          -6.083185,
          -5.983185,
          -5.883185,
          -5.783185,
          -5.683185,
          -5.583185,
          -5.483185,
          -5.383185,
          -5.283185,
          -5.183185,
          -5.083185,
          -4.983185,
          -4.883185,
          -4.783185,
          -4.683185,
          -4.583185,
          -4.483185,
          -4.383185,
          -4.283185,
          -4.183185,
          -4.083185,
          -3.983185,
          -3.883185,
          -3.783185,
          -3.683185,
          -3.583185,
          -3.483185,
          -3.383185,
          -3.283185,
          -3.183185,
          -3.083185,
          -2.983185,
          -2.883185,
          -2.783185,
          -2.683185,
          -2.583185,
          -2.483185,
          -2.383185,
          -2.283185,
          -2.183185,
          -2.083185,
          -1.983185,
          -1.883185,
          -1.783185,
          -1.683185,
          -1.583185,
          -1.483185,
          -1.383185,
          -1.283185,
          -1.183185,
          -1.083185,
          -0.983185,
          -0.883185,
          -0.783185,
          -0.683185,
          -0.583185,
          -0.483185,
          -0.383185,
          -0.283185,
          -0.183185,
          -0.083185,
          0.016815,
          0.116815,
          0.216815,
          0.316815,
          0.416815,
          0.516815,
          0.616815,
          0.716815,
          0.816815,
          0.916815,
          1.016815,
          1.116815,
          1.216815,
          1.316815,
          1.416815,
          1.516815,
          1.616815,
          1.716815,
          1.816815,
          1.916815,
          2.016815,
          2.116815,
          2.216815,
          2.316815,
          2.416815,
          2.516815,
          2.616815,
          2.716815,
          2.816815,
          2.916815,
          3.016815,
          3.116815,
          3.216815,
          3.316815,
          3.416815,
          3.516815,
          3.616815,
          3.716815,
          3.816815,
          3.916815,
          4.016815,
          4.116815,
          4.216815,
          4.316815,
          4.416815,
          4.516815,
          4.616815,
          4.716815,
          4.816815,
          4.916815,
          5.016815,
          5.116815,
          5.216815,
          5.316815,
          5.416815,
          5.516815,
          5.616815,
          5.716815,
          5.816815,
          5.916815,
          6.016815,
          6.116815,
          6.216815
         ],
         "xaxis": "x",
         "y": [
          0.890921,
          0.911423,
          0.916248,
          0.906784,
          0.88426,
          0.849794,
          0.804435,
          0.749185,
          0.685026,
          0.612933,
          0.533884,
          0.448871,
          0.358895,
          0.264973,
          0.168134,
          0.069413,
          -0.030151,
          -0.129524,
          -0.227685,
          -0.323631,
          -0.416386,
          -0.505013,
          -0.588617,
          -0.666356,
          -0.737448,
          -0.801181,
          -0.856914,
          -0.904089,
          -0.942233,
          -0.970965,
          -0.989997,
          -0.999138,
          -0.998297,
          -0.987481,
          -0.966799,
          -0.936457,
          -0.896759,
          -0.8481,
          -0.790968,
          -0.725932,
          -0.653644,
          -0.574824,
          -0.490261,
          -0.400799,
          -0.307333,
          -0.210796,
          -0.112153,
          -0.012389,
          0.087499,
          0.186512,
          0.283662,
          0.377978,
          0.468517,
          0.554374,
          0.634693,
          0.70867,
          0.775566,
          0.834713,
          0.88552,
          0.927478,
          0.96017,
          0.983268,
          0.996542,
          0.999859,
          0.993185,
          0.976588,
          0.950233,
          0.914383,
          0.869397,
          0.815725,
          0.753902,
          0.684547,
          0.608351,
          0.526078,
          0.438547,
          0.346635,
          0.25126,
          0.153374,
          0.053955,
          -0.046002,
          -0.1455,
          -0.243544,
          -0.339155,
          -0.431377,
          -0.519289,
          -0.602012,
          -0.67872,
          -0.748647,
          -0.811093,
          -0.865435,
          -0.91113,
          -0.947722,
          -0.974844,
          -0.992225,
          -0.999693,
          -0.997172,
          -0.984688,
          -0.962365,
          -0.930426,
          -0.889191,
          -0.839072,
          -0.780568,
          -0.714266,
          -0.640826,
          -0.560984,
          -0.475537,
          -0.385338,
          -0.291289,
          -0.19433,
          -0.095429,
          0.004426,
          0.104236,
          0.203005,
          0.299745,
          0.393491,
          0.483305,
          0.56829,
          0.647596,
          0.720433,
          0.78607,
          0.843854,
          0.893206,
          0.933634,
          0.964733,
          0.986194,
          0.9978
         ],
         "yaxis": "y",
         "type": "scatter"
        }
       ],
       "layout": {
        "template": {
         "data": {
          "histogram2dcontour": [
           {
            "type": "histogram2dcontour",
            "colorbar": {
             "outlinewidth": 0,
             "ticks": ""
            },
            "colorscale": [
             [
              0.0,
              "#0d0887"
             ],
             [
              0.1111111111111111,
              "#46039f"
             ],
             [
              0.2222222222222222,
              "#7201a8"
             ],
             [
              0.3333333333333333,
              "#9c179e"
             ],
             [
              0.4444444444444444,
              "#bd3786"
             ],
             [
              0.5555555555555556,
              "#d8576b"
             ],
             [
              0.6666666666666666,
              "#ed7953"
             ],
             [
              0.7777777777777778,
              "#fb9f3a"
             ],
             [
              0.8888888888888888,
              "#fdca26"
             ],
             [
              1.0,
              "#f0f921"
             ]
            ]
           }
          ],
          "choropleth": [
           {
            "type": "choropleth",
            "colorbar": {
             "outlinewidth": 0,
             "ticks": ""
            }
           }
          ],
          "histogram2d": [
           {
            "type": "histogram2d",
            "colorbar": {
             "outlinewidth": 0,
             "ticks": ""
            },
            "colorscale": [
             [
              0.0,
              "#0d0887"
             ],
             [
              0.1111111111111111,
              "#46039f"
             ],
             [
              0.2222222222222222,
              "#7201a8"
             ],
             [
              0.3333333333333333,
              "#9c179e"
             ],
             [
              0.4444444444444444,
              "#bd3786"
             ],
             [
              0.5555555555555556,
              "#d8576b"
             ],
             [
              0.6666666666666666,
              "#ed7953"
             ],
             [
              0.7777777777777778,
              "#fb9f3a"
             ],
             [
              0.8888888888888888,
              "#fdca26"
             ],
             [
              1.0,
              "#f0f921"
             ]
            ]
           }
          ],
          "heatmap": [
           {
            "type": "heatmap",
            "colorbar": {
             "outlinewidth": 0,
             "ticks": ""
            },
            "colorscale": [
             [
              0.0,
              "#0d0887"
             ],
             [
              0.1111111111111111,
              "#46039f"
             ],
             [
              0.2222222222222222,
              "#7201a8"
             ],
             [
              0.3333333333333333,
              "#9c179e"
             ],
             [
              0.4444444444444444,
              "#bd3786"
             ],
             [
              0.5555555555555556,
              "#d8576b"
             ],
             [
              0.6666666666666666,
              "#ed7953"
             ],
             [
              0.7777777777777778,
              "#fb9f3a"
             ],
             [
              0.8888888888888888,
              "#fdca26"
             ],
             [
              1.0,
              "#f0f921"
             ]
            ]
           }
          ],
          "heatmapgl": [
           {
            "type": "heatmapgl",
            "colorbar": {
             "outlinewidth": 0,
             "ticks": ""
            },
            "colorscale": [
             [
              0.0,
              "#0d0887"
             ],
             [
              0.1111111111111111,
              "#46039f"
             ],
             [
              0.2222222222222222,
              "#7201a8"
             ],
             [
              0.3333333333333333,
              "#9c179e"
             ],
             [
              0.4444444444444444,
              "#bd3786"
             ],
             [
              0.5555555555555556,
              "#d8576b"
             ],
             [
              0.6666666666666666,
              "#ed7953"
             ],
             [
              0.7777777777777778,
              "#fb9f3a"
             ],
             [
              0.8888888888888888,
              "#fdca26"
             ],
             [
              1.0,
              "#f0f921"
             ]
            ]
           }
          ],
          "contourcarpet": [
           {
            "type": "contourcarpet",
            "colorbar": {
             "outlinewidth": 0,
             "ticks": ""
            }
           }
          ],
          "contour": [
           {
            "type": "contour",
            "colorbar": {
             "outlinewidth": 0,
             "ticks": ""
            },
            "colorscale": [
             [
              0.0,
              "#0d0887"
             ],
             [
              0.1111111111111111,
              "#46039f"
             ],
             [
              0.2222222222222222,
              "#7201a8"
             ],
             [
              0.3333333333333333,
              "#9c179e"
             ],
             [
              0.4444444444444444,
              "#bd3786"
             ],
             [
              0.5555555555555556,
              "#d8576b"
             ],
             [
              0.6666666666666666,
              "#ed7953"
             ],
             [
              0.7777777777777778,
              "#fb9f3a"
             ],
             [
              0.8888888888888888,
              "#fdca26"
             ],
             [
              1.0,
              "#f0f921"
             ]
            ]
           }
          ],
          "surface": [
           {
            "type": "surface",
            "colorbar": {
             "outlinewidth": 0,
             "ticks": ""
            },
            "colorscale": [
             [
              0.0,
              "#0d0887"
             ],
             [
              0.1111111111111111,
              "#46039f"
             ],
             [
              0.2222222222222222,
              "#7201a8"
             ],
             [
              0.3333333333333333,
              "#9c179e"
             ],
             [
              0.4444444444444444,
              "#bd3786"
             ],
             [
              0.5555555555555556,
              "#d8576b"
             ],
             [
              0.6666666666666666,
              "#ed7953"
             ],
             [
              0.7777777777777778,
              "#fb9f3a"
             ],
             [
              0.8888888888888888,
              "#fdca26"
             ],
             [
              1.0,
              "#f0f921"
             ]
            ]
           }
          ],
          "mesh3d": [
           {
            "type": "mesh3d",
            "colorbar": {
             "outlinewidth": 0,
             "ticks": ""
            }
           }
          ],
          "scatter": [
           {
            "fillpattern": {
             "fillmode": "overlay",
             "size": 10,
             "solidity": 0.2
            },
            "type": "scatter"
           }
          ],
          "parcoords": [
           {
            "type": "parcoords",
            "line": {
             "colorbar": {
              "outlinewidth": 0,
              "ticks": ""
             }
            }
           }
          ],
          "scatterpolargl": [
           {
            "type": "scatterpolargl",
            "marker": {
             "colorbar": {
              "outlinewidth": 0,
              "ticks": ""
             }
            }
           }
          ],
          "bar": [
           {
            "error_x": {
             "color": "#2a3f5f"
            },
            "error_y": {
             "color": "#2a3f5f"
            },
            "marker": {
             "line": {
              "color": "#E5ECF6",
              "width": 0.5
             },
             "pattern": {
              "fillmode": "overlay",
              "size": 10,
              "solidity": 0.2
             }
            },
            "type": "bar"
           }
          ],
          "scattergeo": [
           {
            "type": "scattergeo",
            "marker": {
             "colorbar": {
              "outlinewidth": 0,
              "ticks": ""
             }
            }
           }
          ],
          "scatterpolar": [
           {
            "type": "scatterpolar",
            "marker": {
             "colorbar": {
              "outlinewidth": 0,
              "ticks": ""
             }
            }
           }
          ],
          "histogram": [
           {
            "marker": {
             "pattern": {
              "fillmode": "overlay",
              "size": 10,
              "solidity": 0.2
             }
            },
            "type": "histogram"
           }
          ],
          "scattergl": [
           {
            "type": "scattergl",
            "marker": {
             "colorbar": {
              "outlinewidth": 0,
              "ticks": ""
             }
            }
           }
          ],
          "scatter3d": [
           {
            "type": "scatter3d",
            "line": {
             "colorbar": {
              "outlinewidth": 0,
              "ticks": ""
             }
            },
            "marker": {
             "colorbar": {
              "outlinewidth": 0,
              "ticks": ""
             }
            }
           }
          ],
          "scattermapbox": [
           {
            "type": "scattermapbox",
            "marker": {
             "colorbar": {
              "outlinewidth": 0,
              "ticks": ""
             }
            }
           }
          ],
          "scatterternary": [
           {
            "type": "scatterternary",
            "marker": {
             "colorbar": {
              "outlinewidth": 0,
              "ticks": ""
             }
            }
           }
          ],
          "scattercarpet": [
           {
            "type": "scattercarpet",
            "marker": {
             "colorbar": {
              "outlinewidth": 0,
              "ticks": ""
             }
            }
           }
          ],
          "carpet": [
           {
            "aaxis": {
             "endlinecolor": "#2a3f5f",
             "gridcolor": "white",
             "linecolor": "white",
             "minorgridcolor": "white",
             "startlinecolor": "#2a3f5f"
            },
            "baxis": {
             "endlinecolor": "#2a3f5f",
             "gridcolor": "white",
             "linecolor": "white",
             "minorgridcolor": "white",
             "startlinecolor": "#2a3f5f"
            },
            "type": "carpet"
           }
          ],
          "table": [
           {
            "cells": {
             "fill": {
              "color": "#EBF0F8"
             },
             "line": {
              "color": "white"
             }
            },
            "header": {
             "fill": {
              "color": "#C8D4E3"
             },
             "line": {
              "color": "white"
             }
            },
            "type": "table"
           }
          ],
          "barpolar": [
           {
            "marker": {
             "line": {
              "color": "#E5ECF6",
              "width": 0.5
             },
             "pattern": {
              "fillmode": "overlay",
              "size": 10,
              "solidity": 0.2
             }
            },
            "type": "barpolar"
           }
          ],
          "pie": [
           {
            "automargin": true,
            "type": "pie"
           }
          ]
         },
         "layout": {
          "autotypenumbers": "strict",
          "colorway": [
           "#636efa",
           "#EF553B",
           "#00cc96",
           "#ab63fa",
           "#FFA15A",
           "#19d3f3",
           "#FF6692",
           "#B6E880",
           "#FF97FF",
           "#FECB52"
          ],
          "font": {
           "color": "#2a3f5f"
          },
          "hovermode": "closest",
          "hoverlabel": {
           "align": "left"
          },
          "paper_bgcolor": "white",
          "plot_bgcolor": "#E5ECF6",
          "polar": {
           "bgcolor": "#E5ECF6",
           "angularaxis": {
            "gridcolor": "white",
            "linecolor": "white",
            "ticks": ""
           },
           "radialaxis": {
            "gridcolor": "white",
            "linecolor": "white",
            "ticks": ""
           }
          },
          "ternary": {
           "bgcolor": "#E5ECF6",
           "aaxis": {
            "gridcolor": "white",
            "linecolor": "white",
            "ticks": ""
           },
           "baxis": {
            "gridcolor": "white",
            "linecolor": "white",
            "ticks": ""
           },
           "caxis": {
            "gridcolor": "white",
            "linecolor": "white",
            "ticks": ""
           }
          },
          "coloraxis": {
           "colorbar": {
            "outlinewidth": 0,
            "ticks": ""
           }
          },
          "colorscale": {
           "sequential": [
            [
             0.0,
             "#0d0887"
            ],
            [
             0.1111111111111111,
             "#46039f"
            ],
            [
             0.2222222222222222,
             "#7201a8"
            ],
            [
             0.3333333333333333,
             "#9c179e"
            ],
            [
             0.4444444444444444,
             "#bd3786"
            ],
            [
             0.5555555555555556,
             "#d8576b"
            ],
            [
             0.6666666666666666,
             "#ed7953"
            ],
            [
             0.7777777777777778,
             "#fb9f3a"
            ],
            [
             0.8888888888888888,
             "#fdca26"
            ],
            [
             1.0,
             "#f0f921"
            ]
           ],
           "sequentialminus": [
            [
             0.0,
             "#0d0887"
            ],
            [
             0.1111111111111111,
             "#46039f"
            ],
            [
             0.2222222222222222,
             "#7201a8"
            ],
            [
             0.3333333333333333,
             "#9c179e"
            ],
            [
             0.4444444444444444,
             "#bd3786"
            ],
            [
             0.5555555555555556,
             "#d8576b"
            ],
            [
             0.6666666666666666,
             "#ed7953"
            ],
            [
             0.7777777777777778,
             "#fb9f3a"
            ],
            [
             0.8888888888888888,
             "#fdca26"
            ],
            [
             1.0,
             "#f0f921"
            ]
           ],
           "diverging": [
            [
             0,
             "#8e0152"
            ],
            [
             0.1,
             "#c51b7d"
            ],
            [
             0.2,
             "#de77ae"
            ],
            [
             0.3,
             "#f1b6da"
            ],
            [
             0.4,
             "#fde0ef"
            ],
            [
             0.5,
             "#f7f7f7"
            ],
            [
             0.6,
             "#e6f5d0"
            ],
            [
             0.7,
             "#b8e186"
            ],
            [
             0.8,
             "#7fbc41"
            ],
            [
             0.9,
             "#4d9221"
            ],
            [
             1,
             "#276419"
            ]
           ]
          },
          "xaxis": {
           "gridcolor": "white",
           "linecolor": "white",
           "ticks": "",
           "title": {
            "standoff": 15
           },
           "zerolinecolor": "white",
           "automargin": true,
           "zerolinewidth": 2
          },
          "yaxis": {
           "gridcolor": "white",
           "linecolor": "white",
           "ticks": "",
           "title": {
            "standoff": 15
           },
           "zerolinecolor": "white",
           "automargin": true,
           "zerolinewidth": 2
          },
          "scene": {
           "xaxis": {
            "backgroundcolor": "#E5ECF6",
            "gridcolor": "white",
            "linecolor": "white",
            "showbackground": true,
            "ticks": "",
            "zerolinecolor": "white",
            "gridwidth": 2
           },
           "yaxis": {
            "backgroundcolor": "#E5ECF6",
            "gridcolor": "white",
            "linecolor": "white",
            "showbackground": true,
            "ticks": "",
            "zerolinecolor": "white",
            "gridwidth": 2
           },
           "zaxis": {
            "backgroundcolor": "#E5ECF6",
            "gridcolor": "white",
            "linecolor": "white",
            "showbackground": true,
            "ticks": "",
            "zerolinecolor": "white",
            "gridwidth": 2
           }
          },
          "shapedefaults": {
           "line": {
            "color": "#2a3f5f"
           }
          },
          "annotationdefaults": {
           "arrowcolor": "#2a3f5f",
           "arrowhead": 0,
           "arrowwidth": 1
          },
          "geo": {
           "bgcolor": "white",
           "landcolor": "#E5ECF6",
           "subunitcolor": "white",
           "showland": true,
           "showlakes": true,
           "lakecolor": "white"
          },
          "title": {
           "x": 0.05
          },
          "mapbox": {
           "style": "light"
          }
         }
        },
        "xaxis": {
         "anchor": "y",
         "domain": [
          0.0,
          1.0
         ],
         "title": {
          "text": "x"
         }
        },
        "yaxis": {
         "anchor": "x",
         "domain": [
          0.0,
          1.0
         ],
         "title": {
          "text": "y"
         }
        },
        "legend": {
         "tracegroupgap": 0
        },
        "title": {
         "text": "cos"
        }
       },
       "config": {
        "plotlyServerURL": "https://plot.ly"
       }
      },
      "text/html": "<div>                            <div id=\"5e9931ff-f98e-46fe-a085-eaf45b0eb6b8\" class=\"plotly-graph-div\" style=\"height:525px; width:100%;\"></div>            <script type=\"text/javascript\">                require([\"plotly\"], function(Plotly) {                    window.PLOTLYENV=window.PLOTLYENV || {};                                    if (document.getElementById(\"5e9931ff-f98e-46fe-a085-eaf45b0eb6b8\")) {                    Plotly.newPlot(                        \"5e9931ff-f98e-46fe-a085-eaf45b0eb6b8\",                        [{\"hovertemplate\":\"x=%{x}\\u003cbr\\u003ey=%{y}\\u003cextra\\u003e\\u003c\\u002fextra\\u003e\",\"legendgroup\":\"\",\"line\":{\"color\":\"#636efa\",\"dash\":\"solid\"},\"marker\":{\"symbol\":\"circle\"},\"mode\":\"lines\",\"name\":\"\",\"orientation\":\"v\",\"showlegend\":false,\"x\":[-6.283185,-6.183185,-6.083185,-5.983185,-5.883185,-5.783185,-5.683185,-5.583185,-5.483185,-5.383185,-5.283185,-5.183185,-5.083185,-4.983185,-4.883185,-4.783185,-4.683185,-4.583185,-4.483185,-4.383185,-4.283185,-4.183185,-4.083185,-3.983185,-3.883185,-3.783185,-3.683185,-3.583185,-3.483185,-3.383185,-3.283185,-3.183185,-3.083185,-2.983185,-2.883185,-2.783185,-2.683185,-2.583185,-2.483185,-2.383185,-2.283185,-2.183185,-2.083185,-1.983185,-1.883185,-1.783185,-1.683185,-1.583185,-1.483185,-1.383185,-1.283185,-1.183185,-1.083185,-0.983185,-0.883185,-0.783185,-0.683185,-0.583185,-0.483185,-0.383185,-0.283185,-0.183185,-0.083185,0.016815,0.116815,0.216815,0.316815,0.416815,0.516815,0.616815,0.716815,0.816815,0.916815,1.016815,1.116815,1.216815,1.316815,1.416815,1.516815,1.616815,1.716815,1.816815,1.916815,2.016815,2.116815,2.216815,2.316815,2.416815,2.516815,2.616815,2.716815,2.816815,2.916815,3.016815,3.116815,3.216815,3.316815,3.416815,3.516815,3.616815,3.716815,3.816815,3.916815,4.016815,4.116815,4.216815,4.316815,4.416815,4.516815,4.616815,4.716815,4.816815,4.916815,5.016815,5.116815,5.216815,5.316815,5.416815,5.516815,5.616815,5.716815,5.816815,5.916815,6.016815,6.116815,6.216815],\"xaxis\":\"x\",\"y\":[0.890921,0.911423,0.916248,0.906784,0.88426,0.849794,0.804435,0.749185,0.685026,0.612933,0.533884,0.448871,0.358895,0.264973,0.168134,0.069413,-0.030151,-0.129524,-0.227685,-0.323631,-0.416386,-0.505013,-0.588617,-0.666356,-0.737448,-0.801181,-0.856914,-0.904089,-0.942233,-0.970965,-0.989997,-0.999138,-0.998297,-0.987481,-0.966799,-0.936457,-0.896759,-0.8481,-0.790968,-0.725932,-0.653644,-0.574824,-0.490261,-0.400799,-0.307333,-0.210796,-0.112153,-0.012389,0.087499,0.186512,0.283662,0.377978,0.468517,0.554374,0.634693,0.70867,0.775566,0.834713,0.88552,0.927478,0.96017,0.983268,0.996542,0.999859,0.993185,0.976588,0.950233,0.914383,0.869397,0.815725,0.753902,0.684547,0.608351,0.526078,0.438547,0.346635,0.25126,0.153374,0.053955,-0.046002,-0.1455,-0.243544,-0.339155,-0.431377,-0.519289,-0.602012,-0.67872,-0.748647,-0.811093,-0.865435,-0.91113,-0.947722,-0.974844,-0.992225,-0.999693,-0.997172,-0.984688,-0.962365,-0.930426,-0.889191,-0.839072,-0.780568,-0.714266,-0.640826,-0.560984,-0.475537,-0.385338,-0.291289,-0.19433,-0.095429,0.004426,0.104236,0.203005,0.299745,0.393491,0.483305,0.56829,0.647596,0.720433,0.78607,0.843854,0.893206,0.933634,0.964733,0.986194,0.9978],\"yaxis\":\"y\",\"type\":\"scatter\"}],                        {\"template\":{\"data\":{\"histogram2dcontour\":[{\"type\":\"histogram2dcontour\",\"colorbar\":{\"outlinewidth\":0,\"ticks\":\"\"},\"colorscale\":[[0.0,\"#0d0887\"],[0.1111111111111111,\"#46039f\"],[0.2222222222222222,\"#7201a8\"],[0.3333333333333333,\"#9c179e\"],[0.4444444444444444,\"#bd3786\"],[0.5555555555555556,\"#d8576b\"],[0.6666666666666666,\"#ed7953\"],[0.7777777777777778,\"#fb9f3a\"],[0.8888888888888888,\"#fdca26\"],[1.0,\"#f0f921\"]]}],\"choropleth\":[{\"type\":\"choropleth\",\"colorbar\":{\"outlinewidth\":0,\"ticks\":\"\"}}],\"histogram2d\":[{\"type\":\"histogram2d\",\"colorbar\":{\"outlinewidth\":0,\"ticks\":\"\"},\"colorscale\":[[0.0,\"#0d0887\"],[0.1111111111111111,\"#46039f\"],[0.2222222222222222,\"#7201a8\"],[0.3333333333333333,\"#9c179e\"],[0.4444444444444444,\"#bd3786\"],[0.5555555555555556,\"#d8576b\"],[0.6666666666666666,\"#ed7953\"],[0.7777777777777778,\"#fb9f3a\"],[0.8888888888888888,\"#fdca26\"],[1.0,\"#f0f921\"]]}],\"heatmap\":[{\"type\":\"heatmap\",\"colorbar\":{\"outlinewidth\":0,\"ticks\":\"\"},\"colorscale\":[[0.0,\"#0d0887\"],[0.1111111111111111,\"#46039f\"],[0.2222222222222222,\"#7201a8\"],[0.3333333333333333,\"#9c179e\"],[0.4444444444444444,\"#bd3786\"],[0.5555555555555556,\"#d8576b\"],[0.6666666666666666,\"#ed7953\"],[0.7777777777777778,\"#fb9f3a\"],[0.8888888888888888,\"#fdca26\"],[1.0,\"#f0f921\"]]}],\"heatmapgl\":[{\"type\":\"heatmapgl\",\"colorbar\":{\"outlinewidth\":0,\"ticks\":\"\"},\"colorscale\":[[0.0,\"#0d0887\"],[0.1111111111111111,\"#46039f\"],[0.2222222222222222,\"#7201a8\"],[0.3333333333333333,\"#9c179e\"],[0.4444444444444444,\"#bd3786\"],[0.5555555555555556,\"#d8576b\"],[0.6666666666666666,\"#ed7953\"],[0.7777777777777778,\"#fb9f3a\"],[0.8888888888888888,\"#fdca26\"],[1.0,\"#f0f921\"]]}],\"contourcarpet\":[{\"type\":\"contourcarpet\",\"colorbar\":{\"outlinewidth\":0,\"ticks\":\"\"}}],\"contour\":[{\"type\":\"contour\",\"colorbar\":{\"outlinewidth\":0,\"ticks\":\"\"},\"colorscale\":[[0.0,\"#0d0887\"],[0.1111111111111111,\"#46039f\"],[0.2222222222222222,\"#7201a8\"],[0.3333333333333333,\"#9c179e\"],[0.4444444444444444,\"#bd3786\"],[0.5555555555555556,\"#d8576b\"],[0.6666666666666666,\"#ed7953\"],[0.7777777777777778,\"#fb9f3a\"],[0.8888888888888888,\"#fdca26\"],[1.0,\"#f0f921\"]]}],\"surface\":[{\"type\":\"surface\",\"colorbar\":{\"outlinewidth\":0,\"ticks\":\"\"},\"colorscale\":[[0.0,\"#0d0887\"],[0.1111111111111111,\"#46039f\"],[0.2222222222222222,\"#7201a8\"],[0.3333333333333333,\"#9c179e\"],[0.4444444444444444,\"#bd3786\"],[0.5555555555555556,\"#d8576b\"],[0.6666666666666666,\"#ed7953\"],[0.7777777777777778,\"#fb9f3a\"],[0.8888888888888888,\"#fdca26\"],[1.0,\"#f0f921\"]]}],\"mesh3d\":[{\"type\":\"mesh3d\",\"colorbar\":{\"outlinewidth\":0,\"ticks\":\"\"}}],\"scatter\":[{\"fillpattern\":{\"fillmode\":\"overlay\",\"size\":10,\"solidity\":0.2},\"type\":\"scatter\"}],\"parcoords\":[{\"type\":\"parcoords\",\"line\":{\"colorbar\":{\"outlinewidth\":0,\"ticks\":\"\"}}}],\"scatterpolargl\":[{\"type\":\"scatterpolargl\",\"marker\":{\"colorbar\":{\"outlinewidth\":0,\"ticks\":\"\"}}}],\"bar\":[{\"error_x\":{\"color\":\"#2a3f5f\"},\"error_y\":{\"color\":\"#2a3f5f\"},\"marker\":{\"line\":{\"color\":\"#E5ECF6\",\"width\":0.5},\"pattern\":{\"fillmode\":\"overlay\",\"size\":10,\"solidity\":0.2}},\"type\":\"bar\"}],\"scattergeo\":[{\"type\":\"scattergeo\",\"marker\":{\"colorbar\":{\"outlinewidth\":0,\"ticks\":\"\"}}}],\"scatterpolar\":[{\"type\":\"scatterpolar\",\"marker\":{\"colorbar\":{\"outlinewidth\":0,\"ticks\":\"\"}}}],\"histogram\":[{\"marker\":{\"pattern\":{\"fillmode\":\"overlay\",\"size\":10,\"solidity\":0.2}},\"type\":\"histogram\"}],\"scattergl\":[{\"type\":\"scattergl\",\"marker\":{\"colorbar\":{\"outlinewidth\":0,\"ticks\":\"\"}}}],\"scatter3d\":[{\"type\":\"scatter3d\",\"line\":{\"colorbar\":{\"outlinewidth\":0,\"ticks\":\"\"}},\"marker\":{\"colorbar\":{\"outlinewidth\":0,\"ticks\":\"\"}}}],\"scattermapbox\":[{\"type\":\"scattermapbox\",\"marker\":{\"colorbar\":{\"outlinewidth\":0,\"ticks\":\"\"}}}],\"scatterternary\":[{\"type\":\"scatterternary\",\"marker\":{\"colorbar\":{\"outlinewidth\":0,\"ticks\":\"\"}}}],\"scattercarpet\":[{\"type\":\"scattercarpet\",\"marker\":{\"colorbar\":{\"outlinewidth\":0,\"ticks\":\"\"}}}],\"carpet\":[{\"aaxis\":{\"endlinecolor\":\"#2a3f5f\",\"gridcolor\":\"white\",\"linecolor\":\"white\",\"minorgridcolor\":\"white\",\"startlinecolor\":\"#2a3f5f\"},\"baxis\":{\"endlinecolor\":\"#2a3f5f\",\"gridcolor\":\"white\",\"linecolor\":\"white\",\"minorgridcolor\":\"white\",\"startlinecolor\":\"#2a3f5f\"},\"type\":\"carpet\"}],\"table\":[{\"cells\":{\"fill\":{\"color\":\"#EBF0F8\"},\"line\":{\"color\":\"white\"}},\"header\":{\"fill\":{\"color\":\"#C8D4E3\"},\"line\":{\"color\":\"white\"}},\"type\":\"table\"}],\"barpolar\":[{\"marker\":{\"line\":{\"color\":\"#E5ECF6\",\"width\":0.5},\"pattern\":{\"fillmode\":\"overlay\",\"size\":10,\"solidity\":0.2}},\"type\":\"barpolar\"}],\"pie\":[{\"automargin\":true,\"type\":\"pie\"}]},\"layout\":{\"autotypenumbers\":\"strict\",\"colorway\":[\"#636efa\",\"#EF553B\",\"#00cc96\",\"#ab63fa\",\"#FFA15A\",\"#19d3f3\",\"#FF6692\",\"#B6E880\",\"#FF97FF\",\"#FECB52\"],\"font\":{\"color\":\"#2a3f5f\"},\"hovermode\":\"closest\",\"hoverlabel\":{\"align\":\"left\"},\"paper_bgcolor\":\"white\",\"plot_bgcolor\":\"#E5ECF6\",\"polar\":{\"bgcolor\":\"#E5ECF6\",\"angularaxis\":{\"gridcolor\":\"white\",\"linecolor\":\"white\",\"ticks\":\"\"},\"radialaxis\":{\"gridcolor\":\"white\",\"linecolor\":\"white\",\"ticks\":\"\"}},\"ternary\":{\"bgcolor\":\"#E5ECF6\",\"aaxis\":{\"gridcolor\":\"white\",\"linecolor\":\"white\",\"ticks\":\"\"},\"baxis\":{\"gridcolor\":\"white\",\"linecolor\":\"white\",\"ticks\":\"\"},\"caxis\":{\"gridcolor\":\"white\",\"linecolor\":\"white\",\"ticks\":\"\"}},\"coloraxis\":{\"colorbar\":{\"outlinewidth\":0,\"ticks\":\"\"}},\"colorscale\":{\"sequential\":[[0.0,\"#0d0887\"],[0.1111111111111111,\"#46039f\"],[0.2222222222222222,\"#7201a8\"],[0.3333333333333333,\"#9c179e\"],[0.4444444444444444,\"#bd3786\"],[0.5555555555555556,\"#d8576b\"],[0.6666666666666666,\"#ed7953\"],[0.7777777777777778,\"#fb9f3a\"],[0.8888888888888888,\"#fdca26\"],[1.0,\"#f0f921\"]],\"sequentialminus\":[[0.0,\"#0d0887\"],[0.1111111111111111,\"#46039f\"],[0.2222222222222222,\"#7201a8\"],[0.3333333333333333,\"#9c179e\"],[0.4444444444444444,\"#bd3786\"],[0.5555555555555556,\"#d8576b\"],[0.6666666666666666,\"#ed7953\"],[0.7777777777777778,\"#fb9f3a\"],[0.8888888888888888,\"#fdca26\"],[1.0,\"#f0f921\"]],\"diverging\":[[0,\"#8e0152\"],[0.1,\"#c51b7d\"],[0.2,\"#de77ae\"],[0.3,\"#f1b6da\"],[0.4,\"#fde0ef\"],[0.5,\"#f7f7f7\"],[0.6,\"#e6f5d0\"],[0.7,\"#b8e186\"],[0.8,\"#7fbc41\"],[0.9,\"#4d9221\"],[1,\"#276419\"]]},\"xaxis\":{\"gridcolor\":\"white\",\"linecolor\":\"white\",\"ticks\":\"\",\"title\":{\"standoff\":15},\"zerolinecolor\":\"white\",\"automargin\":true,\"zerolinewidth\":2},\"yaxis\":{\"gridcolor\":\"white\",\"linecolor\":\"white\",\"ticks\":\"\",\"title\":{\"standoff\":15},\"zerolinecolor\":\"white\",\"automargin\":true,\"zerolinewidth\":2},\"scene\":{\"xaxis\":{\"backgroundcolor\":\"#E5ECF6\",\"gridcolor\":\"white\",\"linecolor\":\"white\",\"showbackground\":true,\"ticks\":\"\",\"zerolinecolor\":\"white\",\"gridwidth\":2},\"yaxis\":{\"backgroundcolor\":\"#E5ECF6\",\"gridcolor\":\"white\",\"linecolor\":\"white\",\"showbackground\":true,\"ticks\":\"\",\"zerolinecolor\":\"white\",\"gridwidth\":2},\"zaxis\":{\"backgroundcolor\":\"#E5ECF6\",\"gridcolor\":\"white\",\"linecolor\":\"white\",\"showbackground\":true,\"ticks\":\"\",\"zerolinecolor\":\"white\",\"gridwidth\":2}},\"shapedefaults\":{\"line\":{\"color\":\"#2a3f5f\"}},\"annotationdefaults\":{\"arrowcolor\":\"#2a3f5f\",\"arrowhead\":0,\"arrowwidth\":1},\"geo\":{\"bgcolor\":\"white\",\"landcolor\":\"#E5ECF6\",\"subunitcolor\":\"white\",\"showland\":true,\"showlakes\":true,\"lakecolor\":\"white\"},\"title\":{\"x\":0.05},\"mapbox\":{\"style\":\"light\"}}},\"xaxis\":{\"anchor\":\"y\",\"domain\":[0.0,1.0],\"title\":{\"text\":\"x\"}},\"yaxis\":{\"anchor\":\"x\",\"domain\":[0.0,1.0],\"title\":{\"text\":\"y\"}},\"legend\":{\"tracegroupgap\":0},\"title\":{\"text\":\"cos\"}},                        {\"responsive\": true}                    ).then(function(){\n                            \nvar gd = document.getElementById('5e9931ff-f98e-46fe-a085-eaf45b0eb6b8');\nvar x = new MutationObserver(function (mutations, observer) {{\n        var display = window.getComputedStyle(gd).display;\n        if (!display || display === 'none') {{\n            console.log([gd, 'removed!']);\n            Plotly.purge(gd);\n            observer.disconnect();\n        }}\n}});\n\n// Listen for the removal of the full notebook cells\nvar notebookContainer = gd.closest('#notebook-container');\nif (notebookContainer) {{\n    x.observe(notebookContainer, {childList: true});\n}}\n\n// Listen for the clearing of the current output cell\nvar outputEl = gd.closest('.output');\nif (outputEl) {{\n    x.observe(outputEl, {childList: true});\n}}\n\n                        })                };                });            </script>        </div>"
     },
     "metadata": {},
     "output_type": "display_data"
    },
    {
     "data": {
      "application/vnd.plotly.v1+json": {
       "data": [
        {
         "hovertemplate": "x=%{x}<br>y=%{y}<extra></extra>",
         "legendgroup": "",
         "line": {
          "color": "#636efa",
          "dash": "solid"
         },
         "marker": {
          "symbol": "circle"
         },
         "mode": "lines",
         "name": "",
         "orientation": "v",
         "showlegend": false,
         "x": [
          -6.283185,
          -6.183185,
          -6.083185,
          -5.983185,
          -5.883185,
          -5.783185,
          -5.683185,
          -5.583185,
          -5.483185,
          -5.383185,
          -5.283185,
          -5.183185,
          -5.083185,
          -4.983185,
          -4.883185,
          -4.783185,
          -4.683185,
          -4.583185,
          -4.483185,
          -4.383185,
          -4.283185,
          -4.183185,
          -4.083185,
          -3.983185,
          -3.883185,
          -3.783185,
          -3.683185,
          -3.583185,
          -3.483185,
          -3.383185,
          -3.283185,
          -3.183185,
          -3.083185,
          -2.983185,
          -2.883185,
          -2.783185,
          -2.683185,
          -2.583185,
          -2.483185,
          -2.383185,
          -2.283185,
          -2.183185,
          -2.083185,
          -1.983185,
          -1.883185,
          -1.783185,
          -1.683185,
          -1.583185,
          -1.483185,
          -1.383185,
          -1.283185,
          -1.183185,
          -1.083185,
          -0.983185,
          -0.883185,
          -0.783185,
          -0.683185,
          -0.583185,
          -0.483185,
          -0.383185,
          -0.283185,
          -0.183185,
          -0.083185,
          0.016815,
          0.116815,
          0.216815,
          0.316815,
          0.416815,
          0.516815,
          0.616815,
          0.716815,
          0.816815,
          0.916815,
          1.016815,
          1.116815,
          1.216815,
          1.316815,
          1.416815,
          1.516815,
          1.616815,
          1.716815,
          1.816815,
          1.916815,
          2.016815,
          2.116815,
          2.216815,
          2.316815,
          2.416815,
          2.516815,
          2.616815,
          2.716815,
          2.816815,
          2.916815,
          3.016815,
          3.116815,
          3.216815,
          3.316815,
          3.416815,
          3.516815,
          3.616815,
          3.716815,
          3.816815,
          3.916815,
          4.016815,
          4.116815,
          4.216815,
          4.316815,
          4.416815,
          4.516815,
          4.616815,
          4.716815,
          4.816815,
          4.916815,
          5.016815,
          5.116815,
          5.216815,
          5.316815,
          5.416815,
          5.516815,
          5.616815,
          5.716815,
          5.816815,
          5.916815,
          6.016815,
          6.116815,
          6.216815
         ],
         "xaxis": "x",
         "y": [
          1.122434,
          1.097185,
          1.091407,
          1.102798,
          1.13089,
          1.176756,
          1.243109,
          1.334784,
          1.459799,
          1.6315,
          1.873064,
          2.227813,
          2.786334,
          3.773973,
          5.947649,
          14.406487,
          -33.166762,
          -7.720572,
          -4.392034,
          -3.089942,
          -2.401616,
          -1.980146,
          -1.698897,
          -1.5007,
          -1.356027,
          -1.248158,
          -1.166979,
          -1.106086,
          -1.061308,
          -1.029903,
          -1.010104,
          -1.000862,
          -1.001706,
          -1.012678,
          -1.034341,
          -1.067854,
          -1.115127,
          -1.179106,
          -1.264274,
          -1.377539,
          -1.529886,
          -1.739663,
          -2.039731,
          -2.495015,
          -3.253801,
          -4.743928,
          -8.916429,
          -80.718954,
          11.428704,
          5.361575,
          3.52532,
          2.645658,
          2.134396,
          1.803835,
          1.575565,
          1.411094,
          1.289381,
          1.198017,
          1.129281,
          1.078192,
          1.041482,
          1.017016,
          1.00347,
          1.000141,
          1.006862,
          1.023974,
          1.052374,
          1.093633,
          1.150222,
          1.225903,
          1.326432,
          1.460821,
          1.643787,
          1.900861,
          2.280256,
          2.884876,
          3.979944,
          6.520016,
          18.533819,
          -21.738126,
          -6.872851,
          -4.106032,
          -2.948506,
          -2.318159,
          -1.925711,
          -1.661097,
          -1.473362,
          -1.335744,
          -1.232904,
          -1.155488,
          -1.097538,
          -1.055162,
          -1.025806,
          -1.007836,
          -1.000307,
          -1.002836,
          -1.01555,
          -1.039107,
          -1.074776,
          -1.124618,
          -1.191794,
          -1.281118,
          -1.400039,
          -1.560485,
          -1.782581,
          -2.102886,
          -2.595123,
          -3.433013,
          -5.145888,
          -10.479011,
          225.953032,
          9.593612,
          4.92599,
          3.336165,
          2.541355,
          2.069088,
          1.759666,
          1.544172,
          1.388055,
          1.272151,
          1.185039,
          1.119562,
          1.071083,
          1.036556,
          1.014,
          1.002205
         ],
         "yaxis": "y",
         "type": "scatter"
        }
       ],
       "layout": {
        "template": {
         "data": {
          "histogram2dcontour": [
           {
            "type": "histogram2dcontour",
            "colorbar": {
             "outlinewidth": 0,
             "ticks": ""
            },
            "colorscale": [
             [
              0.0,
              "#0d0887"
             ],
             [
              0.1111111111111111,
              "#46039f"
             ],
             [
              0.2222222222222222,
              "#7201a8"
             ],
             [
              0.3333333333333333,
              "#9c179e"
             ],
             [
              0.4444444444444444,
              "#bd3786"
             ],
             [
              0.5555555555555556,
              "#d8576b"
             ],
             [
              0.6666666666666666,
              "#ed7953"
             ],
             [
              0.7777777777777778,
              "#fb9f3a"
             ],
             [
              0.8888888888888888,
              "#fdca26"
             ],
             [
              1.0,
              "#f0f921"
             ]
            ]
           }
          ],
          "choropleth": [
           {
            "type": "choropleth",
            "colorbar": {
             "outlinewidth": 0,
             "ticks": ""
            }
           }
          ],
          "histogram2d": [
           {
            "type": "histogram2d",
            "colorbar": {
             "outlinewidth": 0,
             "ticks": ""
            },
            "colorscale": [
             [
              0.0,
              "#0d0887"
             ],
             [
              0.1111111111111111,
              "#46039f"
             ],
             [
              0.2222222222222222,
              "#7201a8"
             ],
             [
              0.3333333333333333,
              "#9c179e"
             ],
             [
              0.4444444444444444,
              "#bd3786"
             ],
             [
              0.5555555555555556,
              "#d8576b"
             ],
             [
              0.6666666666666666,
              "#ed7953"
             ],
             [
              0.7777777777777778,
              "#fb9f3a"
             ],
             [
              0.8888888888888888,
              "#fdca26"
             ],
             [
              1.0,
              "#f0f921"
             ]
            ]
           }
          ],
          "heatmap": [
           {
            "type": "heatmap",
            "colorbar": {
             "outlinewidth": 0,
             "ticks": ""
            },
            "colorscale": [
             [
              0.0,
              "#0d0887"
             ],
             [
              0.1111111111111111,
              "#46039f"
             ],
             [
              0.2222222222222222,
              "#7201a8"
             ],
             [
              0.3333333333333333,
              "#9c179e"
             ],
             [
              0.4444444444444444,
              "#bd3786"
             ],
             [
              0.5555555555555556,
              "#d8576b"
             ],
             [
              0.6666666666666666,
              "#ed7953"
             ],
             [
              0.7777777777777778,
              "#fb9f3a"
             ],
             [
              0.8888888888888888,
              "#fdca26"
             ],
             [
              1.0,
              "#f0f921"
             ]
            ]
           }
          ],
          "heatmapgl": [
           {
            "type": "heatmapgl",
            "colorbar": {
             "outlinewidth": 0,
             "ticks": ""
            },
            "colorscale": [
             [
              0.0,
              "#0d0887"
             ],
             [
              0.1111111111111111,
              "#46039f"
             ],
             [
              0.2222222222222222,
              "#7201a8"
             ],
             [
              0.3333333333333333,
              "#9c179e"
             ],
             [
              0.4444444444444444,
              "#bd3786"
             ],
             [
              0.5555555555555556,
              "#d8576b"
             ],
             [
              0.6666666666666666,
              "#ed7953"
             ],
             [
              0.7777777777777778,
              "#fb9f3a"
             ],
             [
              0.8888888888888888,
              "#fdca26"
             ],
             [
              1.0,
              "#f0f921"
             ]
            ]
           }
          ],
          "contourcarpet": [
           {
            "type": "contourcarpet",
            "colorbar": {
             "outlinewidth": 0,
             "ticks": ""
            }
           }
          ],
          "contour": [
           {
            "type": "contour",
            "colorbar": {
             "outlinewidth": 0,
             "ticks": ""
            },
            "colorscale": [
             [
              0.0,
              "#0d0887"
             ],
             [
              0.1111111111111111,
              "#46039f"
             ],
             [
              0.2222222222222222,
              "#7201a8"
             ],
             [
              0.3333333333333333,
              "#9c179e"
             ],
             [
              0.4444444444444444,
              "#bd3786"
             ],
             [
              0.5555555555555556,
              "#d8576b"
             ],
             [
              0.6666666666666666,
              "#ed7953"
             ],
             [
              0.7777777777777778,
              "#fb9f3a"
             ],
             [
              0.8888888888888888,
              "#fdca26"
             ],
             [
              1.0,
              "#f0f921"
             ]
            ]
           }
          ],
          "surface": [
           {
            "type": "surface",
            "colorbar": {
             "outlinewidth": 0,
             "ticks": ""
            },
            "colorscale": [
             [
              0.0,
              "#0d0887"
             ],
             [
              0.1111111111111111,
              "#46039f"
             ],
             [
              0.2222222222222222,
              "#7201a8"
             ],
             [
              0.3333333333333333,
              "#9c179e"
             ],
             [
              0.4444444444444444,
              "#bd3786"
             ],
             [
              0.5555555555555556,
              "#d8576b"
             ],
             [
              0.6666666666666666,
              "#ed7953"
             ],
             [
              0.7777777777777778,
              "#fb9f3a"
             ],
             [
              0.8888888888888888,
              "#fdca26"
             ],
             [
              1.0,
              "#f0f921"
             ]
            ]
           }
          ],
          "mesh3d": [
           {
            "type": "mesh3d",
            "colorbar": {
             "outlinewidth": 0,
             "ticks": ""
            }
           }
          ],
          "scatter": [
           {
            "fillpattern": {
             "fillmode": "overlay",
             "size": 10,
             "solidity": 0.2
            },
            "type": "scatter"
           }
          ],
          "parcoords": [
           {
            "type": "parcoords",
            "line": {
             "colorbar": {
              "outlinewidth": 0,
              "ticks": ""
             }
            }
           }
          ],
          "scatterpolargl": [
           {
            "type": "scatterpolargl",
            "marker": {
             "colorbar": {
              "outlinewidth": 0,
              "ticks": ""
             }
            }
           }
          ],
          "bar": [
           {
            "error_x": {
             "color": "#2a3f5f"
            },
            "error_y": {
             "color": "#2a3f5f"
            },
            "marker": {
             "line": {
              "color": "#E5ECF6",
              "width": 0.5
             },
             "pattern": {
              "fillmode": "overlay",
              "size": 10,
              "solidity": 0.2
             }
            },
            "type": "bar"
           }
          ],
          "scattergeo": [
           {
            "type": "scattergeo",
            "marker": {
             "colorbar": {
              "outlinewidth": 0,
              "ticks": ""
             }
            }
           }
          ],
          "scatterpolar": [
           {
            "type": "scatterpolar",
            "marker": {
             "colorbar": {
              "outlinewidth": 0,
              "ticks": ""
             }
            }
           }
          ],
          "histogram": [
           {
            "marker": {
             "pattern": {
              "fillmode": "overlay",
              "size": 10,
              "solidity": 0.2
             }
            },
            "type": "histogram"
           }
          ],
          "scattergl": [
           {
            "type": "scattergl",
            "marker": {
             "colorbar": {
              "outlinewidth": 0,
              "ticks": ""
             }
            }
           }
          ],
          "scatter3d": [
           {
            "type": "scatter3d",
            "line": {
             "colorbar": {
              "outlinewidth": 0,
              "ticks": ""
             }
            },
            "marker": {
             "colorbar": {
              "outlinewidth": 0,
              "ticks": ""
             }
            }
           }
          ],
          "scattermapbox": [
           {
            "type": "scattermapbox",
            "marker": {
             "colorbar": {
              "outlinewidth": 0,
              "ticks": ""
             }
            }
           }
          ],
          "scatterternary": [
           {
            "type": "scatterternary",
            "marker": {
             "colorbar": {
              "outlinewidth": 0,
              "ticks": ""
             }
            }
           }
          ],
          "scattercarpet": [
           {
            "type": "scattercarpet",
            "marker": {
             "colorbar": {
              "outlinewidth": 0,
              "ticks": ""
             }
            }
           }
          ],
          "carpet": [
           {
            "aaxis": {
             "endlinecolor": "#2a3f5f",
             "gridcolor": "white",
             "linecolor": "white",
             "minorgridcolor": "white",
             "startlinecolor": "#2a3f5f"
            },
            "baxis": {
             "endlinecolor": "#2a3f5f",
             "gridcolor": "white",
             "linecolor": "white",
             "minorgridcolor": "white",
             "startlinecolor": "#2a3f5f"
            },
            "type": "carpet"
           }
          ],
          "table": [
           {
            "cells": {
             "fill": {
              "color": "#EBF0F8"
             },
             "line": {
              "color": "white"
             }
            },
            "header": {
             "fill": {
              "color": "#C8D4E3"
             },
             "line": {
              "color": "white"
             }
            },
            "type": "table"
           }
          ],
          "barpolar": [
           {
            "marker": {
             "line": {
              "color": "#E5ECF6",
              "width": 0.5
             },
             "pattern": {
              "fillmode": "overlay",
              "size": 10,
              "solidity": 0.2
             }
            },
            "type": "barpolar"
           }
          ],
          "pie": [
           {
            "automargin": true,
            "type": "pie"
           }
          ]
         },
         "layout": {
          "autotypenumbers": "strict",
          "colorway": [
           "#636efa",
           "#EF553B",
           "#00cc96",
           "#ab63fa",
           "#FFA15A",
           "#19d3f3",
           "#FF6692",
           "#B6E880",
           "#FF97FF",
           "#FECB52"
          ],
          "font": {
           "color": "#2a3f5f"
          },
          "hovermode": "closest",
          "hoverlabel": {
           "align": "left"
          },
          "paper_bgcolor": "white",
          "plot_bgcolor": "#E5ECF6",
          "polar": {
           "bgcolor": "#E5ECF6",
           "angularaxis": {
            "gridcolor": "white",
            "linecolor": "white",
            "ticks": ""
           },
           "radialaxis": {
            "gridcolor": "white",
            "linecolor": "white",
            "ticks": ""
           }
          },
          "ternary": {
           "bgcolor": "#E5ECF6",
           "aaxis": {
            "gridcolor": "white",
            "linecolor": "white",
            "ticks": ""
           },
           "baxis": {
            "gridcolor": "white",
            "linecolor": "white",
            "ticks": ""
           },
           "caxis": {
            "gridcolor": "white",
            "linecolor": "white",
            "ticks": ""
           }
          },
          "coloraxis": {
           "colorbar": {
            "outlinewidth": 0,
            "ticks": ""
           }
          },
          "colorscale": {
           "sequential": [
            [
             0.0,
             "#0d0887"
            ],
            [
             0.1111111111111111,
             "#46039f"
            ],
            [
             0.2222222222222222,
             "#7201a8"
            ],
            [
             0.3333333333333333,
             "#9c179e"
            ],
            [
             0.4444444444444444,
             "#bd3786"
            ],
            [
             0.5555555555555556,
             "#d8576b"
            ],
            [
             0.6666666666666666,
             "#ed7953"
            ],
            [
             0.7777777777777778,
             "#fb9f3a"
            ],
            [
             0.8888888888888888,
             "#fdca26"
            ],
            [
             1.0,
             "#f0f921"
            ]
           ],
           "sequentialminus": [
            [
             0.0,
             "#0d0887"
            ],
            [
             0.1111111111111111,
             "#46039f"
            ],
            [
             0.2222222222222222,
             "#7201a8"
            ],
            [
             0.3333333333333333,
             "#9c179e"
            ],
            [
             0.4444444444444444,
             "#bd3786"
            ],
            [
             0.5555555555555556,
             "#d8576b"
            ],
            [
             0.6666666666666666,
             "#ed7953"
            ],
            [
             0.7777777777777778,
             "#fb9f3a"
            ],
            [
             0.8888888888888888,
             "#fdca26"
            ],
            [
             1.0,
             "#f0f921"
            ]
           ],
           "diverging": [
            [
             0,
             "#8e0152"
            ],
            [
             0.1,
             "#c51b7d"
            ],
            [
             0.2,
             "#de77ae"
            ],
            [
             0.3,
             "#f1b6da"
            ],
            [
             0.4,
             "#fde0ef"
            ],
            [
             0.5,
             "#f7f7f7"
            ],
            [
             0.6,
             "#e6f5d0"
            ],
            [
             0.7,
             "#b8e186"
            ],
            [
             0.8,
             "#7fbc41"
            ],
            [
             0.9,
             "#4d9221"
            ],
            [
             1,
             "#276419"
            ]
           ]
          },
          "xaxis": {
           "gridcolor": "white",
           "linecolor": "white",
           "ticks": "",
           "title": {
            "standoff": 15
           },
           "zerolinecolor": "white",
           "automargin": true,
           "zerolinewidth": 2
          },
          "yaxis": {
           "gridcolor": "white",
           "linecolor": "white",
           "ticks": "",
           "title": {
            "standoff": 15
           },
           "zerolinecolor": "white",
           "automargin": true,
           "zerolinewidth": 2
          },
          "scene": {
           "xaxis": {
            "backgroundcolor": "#E5ECF6",
            "gridcolor": "white",
            "linecolor": "white",
            "showbackground": true,
            "ticks": "",
            "zerolinecolor": "white",
            "gridwidth": 2
           },
           "yaxis": {
            "backgroundcolor": "#E5ECF6",
            "gridcolor": "white",
            "linecolor": "white",
            "showbackground": true,
            "ticks": "",
            "zerolinecolor": "white",
            "gridwidth": 2
           },
           "zaxis": {
            "backgroundcolor": "#E5ECF6",
            "gridcolor": "white",
            "linecolor": "white",
            "showbackground": true,
            "ticks": "",
            "zerolinecolor": "white",
            "gridwidth": 2
           }
          },
          "shapedefaults": {
           "line": {
            "color": "#2a3f5f"
           }
          },
          "annotationdefaults": {
           "arrowcolor": "#2a3f5f",
           "arrowhead": 0,
           "arrowwidth": 1
          },
          "geo": {
           "bgcolor": "white",
           "landcolor": "#E5ECF6",
           "subunitcolor": "white",
           "showland": true,
           "showlakes": true,
           "lakecolor": "white"
          },
          "title": {
           "x": 0.05
          },
          "mapbox": {
           "style": "light"
          }
         }
        },
        "xaxis": {
         "anchor": "y",
         "domain": [
          0.0,
          1.0
         ],
         "title": {
          "text": "x"
         }
        },
        "yaxis": {
         "anchor": "x",
         "domain": [
          0.0,
          1.0
         ],
         "title": {
          "text": "y"
         }
        },
        "legend": {
         "tracegroupgap": 0
        },
        "title": {
         "text": "sec"
        }
       },
       "config": {
        "plotlyServerURL": "https://plot.ly"
       }
      },
      "text/html": "<div>                            <div id=\"6d2b4e9c-d44f-48ae-82be-b1951a1ebd73\" class=\"plotly-graph-div\" style=\"height:525px; width:100%;\"></div>            <script type=\"text/javascript\">                require([\"plotly\"], function(Plotly) {                    window.PLOTLYENV=window.PLOTLYENV || {};                                    if (document.getElementById(\"6d2b4e9c-d44f-48ae-82be-b1951a1ebd73\")) {                    Plotly.newPlot(                        \"6d2b4e9c-d44f-48ae-82be-b1951a1ebd73\",                        [{\"hovertemplate\":\"x=%{x}\\u003cbr\\u003ey=%{y}\\u003cextra\\u003e\\u003c\\u002fextra\\u003e\",\"legendgroup\":\"\",\"line\":{\"color\":\"#636efa\",\"dash\":\"solid\"},\"marker\":{\"symbol\":\"circle\"},\"mode\":\"lines\",\"name\":\"\",\"orientation\":\"v\",\"showlegend\":false,\"x\":[-6.283185,-6.183185,-6.083185,-5.983185,-5.883185,-5.783185,-5.683185,-5.583185,-5.483185,-5.383185,-5.283185,-5.183185,-5.083185,-4.983185,-4.883185,-4.783185,-4.683185,-4.583185,-4.483185,-4.383185,-4.283185,-4.183185,-4.083185,-3.983185,-3.883185,-3.783185,-3.683185,-3.583185,-3.483185,-3.383185,-3.283185,-3.183185,-3.083185,-2.983185,-2.883185,-2.783185,-2.683185,-2.583185,-2.483185,-2.383185,-2.283185,-2.183185,-2.083185,-1.983185,-1.883185,-1.783185,-1.683185,-1.583185,-1.483185,-1.383185,-1.283185,-1.183185,-1.083185,-0.983185,-0.883185,-0.783185,-0.683185,-0.583185,-0.483185,-0.383185,-0.283185,-0.183185,-0.083185,0.016815,0.116815,0.216815,0.316815,0.416815,0.516815,0.616815,0.716815,0.816815,0.916815,1.016815,1.116815,1.216815,1.316815,1.416815,1.516815,1.616815,1.716815,1.816815,1.916815,2.016815,2.116815,2.216815,2.316815,2.416815,2.516815,2.616815,2.716815,2.816815,2.916815,3.016815,3.116815,3.216815,3.316815,3.416815,3.516815,3.616815,3.716815,3.816815,3.916815,4.016815,4.116815,4.216815,4.316815,4.416815,4.516815,4.616815,4.716815,4.816815,4.916815,5.016815,5.116815,5.216815,5.316815,5.416815,5.516815,5.616815,5.716815,5.816815,5.916815,6.016815,6.116815,6.216815],\"xaxis\":\"x\",\"y\":[1.122434,1.097185,1.091407,1.102798,1.13089,1.176756,1.243109,1.334784,1.459799,1.6315,1.873064,2.227813,2.786334,3.773973,5.947649,14.406487,-33.166762,-7.720572,-4.392034,-3.089942,-2.401616,-1.980146,-1.698897,-1.5007,-1.356027,-1.248158,-1.166979,-1.106086,-1.061308,-1.029903,-1.010104,-1.000862,-1.001706,-1.012678,-1.034341,-1.067854,-1.115127,-1.179106,-1.264274,-1.377539,-1.529886,-1.739663,-2.039731,-2.495015,-3.253801,-4.743928,-8.916429,-80.718954,11.428704,5.361575,3.52532,2.645658,2.134396,1.803835,1.575565,1.411094,1.289381,1.198017,1.129281,1.078192,1.041482,1.017016,1.00347,1.000141,1.006862,1.023974,1.052374,1.093633,1.150222,1.225903,1.326432,1.460821,1.643787,1.900861,2.280256,2.884876,3.979944,6.520016,18.533819,-21.738126,-6.872851,-4.106032,-2.948506,-2.318159,-1.925711,-1.661097,-1.473362,-1.335744,-1.232904,-1.155488,-1.097538,-1.055162,-1.025806,-1.007836,-1.000307,-1.002836,-1.01555,-1.039107,-1.074776,-1.124618,-1.191794,-1.281118,-1.400039,-1.560485,-1.782581,-2.102886,-2.595123,-3.433013,-5.145888,-10.479011,225.953032,9.593612,4.92599,3.336165,2.541355,2.069088,1.759666,1.544172,1.388055,1.272151,1.185039,1.119562,1.071083,1.036556,1.014,1.002205],\"yaxis\":\"y\",\"type\":\"scatter\"}],                        {\"template\":{\"data\":{\"histogram2dcontour\":[{\"type\":\"histogram2dcontour\",\"colorbar\":{\"outlinewidth\":0,\"ticks\":\"\"},\"colorscale\":[[0.0,\"#0d0887\"],[0.1111111111111111,\"#46039f\"],[0.2222222222222222,\"#7201a8\"],[0.3333333333333333,\"#9c179e\"],[0.4444444444444444,\"#bd3786\"],[0.5555555555555556,\"#d8576b\"],[0.6666666666666666,\"#ed7953\"],[0.7777777777777778,\"#fb9f3a\"],[0.8888888888888888,\"#fdca26\"],[1.0,\"#f0f921\"]]}],\"choropleth\":[{\"type\":\"choropleth\",\"colorbar\":{\"outlinewidth\":0,\"ticks\":\"\"}}],\"histogram2d\":[{\"type\":\"histogram2d\",\"colorbar\":{\"outlinewidth\":0,\"ticks\":\"\"},\"colorscale\":[[0.0,\"#0d0887\"],[0.1111111111111111,\"#46039f\"],[0.2222222222222222,\"#7201a8\"],[0.3333333333333333,\"#9c179e\"],[0.4444444444444444,\"#bd3786\"],[0.5555555555555556,\"#d8576b\"],[0.6666666666666666,\"#ed7953\"],[0.7777777777777778,\"#fb9f3a\"],[0.8888888888888888,\"#fdca26\"],[1.0,\"#f0f921\"]]}],\"heatmap\":[{\"type\":\"heatmap\",\"colorbar\":{\"outlinewidth\":0,\"ticks\":\"\"},\"colorscale\":[[0.0,\"#0d0887\"],[0.1111111111111111,\"#46039f\"],[0.2222222222222222,\"#7201a8\"],[0.3333333333333333,\"#9c179e\"],[0.4444444444444444,\"#bd3786\"],[0.5555555555555556,\"#d8576b\"],[0.6666666666666666,\"#ed7953\"],[0.7777777777777778,\"#fb9f3a\"],[0.8888888888888888,\"#fdca26\"],[1.0,\"#f0f921\"]]}],\"heatmapgl\":[{\"type\":\"heatmapgl\",\"colorbar\":{\"outlinewidth\":0,\"ticks\":\"\"},\"colorscale\":[[0.0,\"#0d0887\"],[0.1111111111111111,\"#46039f\"],[0.2222222222222222,\"#7201a8\"],[0.3333333333333333,\"#9c179e\"],[0.4444444444444444,\"#bd3786\"],[0.5555555555555556,\"#d8576b\"],[0.6666666666666666,\"#ed7953\"],[0.7777777777777778,\"#fb9f3a\"],[0.8888888888888888,\"#fdca26\"],[1.0,\"#f0f921\"]]}],\"contourcarpet\":[{\"type\":\"contourcarpet\",\"colorbar\":{\"outlinewidth\":0,\"ticks\":\"\"}}],\"contour\":[{\"type\":\"contour\",\"colorbar\":{\"outlinewidth\":0,\"ticks\":\"\"},\"colorscale\":[[0.0,\"#0d0887\"],[0.1111111111111111,\"#46039f\"],[0.2222222222222222,\"#7201a8\"],[0.3333333333333333,\"#9c179e\"],[0.4444444444444444,\"#bd3786\"],[0.5555555555555556,\"#d8576b\"],[0.6666666666666666,\"#ed7953\"],[0.7777777777777778,\"#fb9f3a\"],[0.8888888888888888,\"#fdca26\"],[1.0,\"#f0f921\"]]}],\"surface\":[{\"type\":\"surface\",\"colorbar\":{\"outlinewidth\":0,\"ticks\":\"\"},\"colorscale\":[[0.0,\"#0d0887\"],[0.1111111111111111,\"#46039f\"],[0.2222222222222222,\"#7201a8\"],[0.3333333333333333,\"#9c179e\"],[0.4444444444444444,\"#bd3786\"],[0.5555555555555556,\"#d8576b\"],[0.6666666666666666,\"#ed7953\"],[0.7777777777777778,\"#fb9f3a\"],[0.8888888888888888,\"#fdca26\"],[1.0,\"#f0f921\"]]}],\"mesh3d\":[{\"type\":\"mesh3d\",\"colorbar\":{\"outlinewidth\":0,\"ticks\":\"\"}}],\"scatter\":[{\"fillpattern\":{\"fillmode\":\"overlay\",\"size\":10,\"solidity\":0.2},\"type\":\"scatter\"}],\"parcoords\":[{\"type\":\"parcoords\",\"line\":{\"colorbar\":{\"outlinewidth\":0,\"ticks\":\"\"}}}],\"scatterpolargl\":[{\"type\":\"scatterpolargl\",\"marker\":{\"colorbar\":{\"outlinewidth\":0,\"ticks\":\"\"}}}],\"bar\":[{\"error_x\":{\"color\":\"#2a3f5f\"},\"error_y\":{\"color\":\"#2a3f5f\"},\"marker\":{\"line\":{\"color\":\"#E5ECF6\",\"width\":0.5},\"pattern\":{\"fillmode\":\"overlay\",\"size\":10,\"solidity\":0.2}},\"type\":\"bar\"}],\"scattergeo\":[{\"type\":\"scattergeo\",\"marker\":{\"colorbar\":{\"outlinewidth\":0,\"ticks\":\"\"}}}],\"scatterpolar\":[{\"type\":\"scatterpolar\",\"marker\":{\"colorbar\":{\"outlinewidth\":0,\"ticks\":\"\"}}}],\"histogram\":[{\"marker\":{\"pattern\":{\"fillmode\":\"overlay\",\"size\":10,\"solidity\":0.2}},\"type\":\"histogram\"}],\"scattergl\":[{\"type\":\"scattergl\",\"marker\":{\"colorbar\":{\"outlinewidth\":0,\"ticks\":\"\"}}}],\"scatter3d\":[{\"type\":\"scatter3d\",\"line\":{\"colorbar\":{\"outlinewidth\":0,\"ticks\":\"\"}},\"marker\":{\"colorbar\":{\"outlinewidth\":0,\"ticks\":\"\"}}}],\"scattermapbox\":[{\"type\":\"scattermapbox\",\"marker\":{\"colorbar\":{\"outlinewidth\":0,\"ticks\":\"\"}}}],\"scatterternary\":[{\"type\":\"scatterternary\",\"marker\":{\"colorbar\":{\"outlinewidth\":0,\"ticks\":\"\"}}}],\"scattercarpet\":[{\"type\":\"scattercarpet\",\"marker\":{\"colorbar\":{\"outlinewidth\":0,\"ticks\":\"\"}}}],\"carpet\":[{\"aaxis\":{\"endlinecolor\":\"#2a3f5f\",\"gridcolor\":\"white\",\"linecolor\":\"white\",\"minorgridcolor\":\"white\",\"startlinecolor\":\"#2a3f5f\"},\"baxis\":{\"endlinecolor\":\"#2a3f5f\",\"gridcolor\":\"white\",\"linecolor\":\"white\",\"minorgridcolor\":\"white\",\"startlinecolor\":\"#2a3f5f\"},\"type\":\"carpet\"}],\"table\":[{\"cells\":{\"fill\":{\"color\":\"#EBF0F8\"},\"line\":{\"color\":\"white\"}},\"header\":{\"fill\":{\"color\":\"#C8D4E3\"},\"line\":{\"color\":\"white\"}},\"type\":\"table\"}],\"barpolar\":[{\"marker\":{\"line\":{\"color\":\"#E5ECF6\",\"width\":0.5},\"pattern\":{\"fillmode\":\"overlay\",\"size\":10,\"solidity\":0.2}},\"type\":\"barpolar\"}],\"pie\":[{\"automargin\":true,\"type\":\"pie\"}]},\"layout\":{\"autotypenumbers\":\"strict\",\"colorway\":[\"#636efa\",\"#EF553B\",\"#00cc96\",\"#ab63fa\",\"#FFA15A\",\"#19d3f3\",\"#FF6692\",\"#B6E880\",\"#FF97FF\",\"#FECB52\"],\"font\":{\"color\":\"#2a3f5f\"},\"hovermode\":\"closest\",\"hoverlabel\":{\"align\":\"left\"},\"paper_bgcolor\":\"white\",\"plot_bgcolor\":\"#E5ECF6\",\"polar\":{\"bgcolor\":\"#E5ECF6\",\"angularaxis\":{\"gridcolor\":\"white\",\"linecolor\":\"white\",\"ticks\":\"\"},\"radialaxis\":{\"gridcolor\":\"white\",\"linecolor\":\"white\",\"ticks\":\"\"}},\"ternary\":{\"bgcolor\":\"#E5ECF6\",\"aaxis\":{\"gridcolor\":\"white\",\"linecolor\":\"white\",\"ticks\":\"\"},\"baxis\":{\"gridcolor\":\"white\",\"linecolor\":\"white\",\"ticks\":\"\"},\"caxis\":{\"gridcolor\":\"white\",\"linecolor\":\"white\",\"ticks\":\"\"}},\"coloraxis\":{\"colorbar\":{\"outlinewidth\":0,\"ticks\":\"\"}},\"colorscale\":{\"sequential\":[[0.0,\"#0d0887\"],[0.1111111111111111,\"#46039f\"],[0.2222222222222222,\"#7201a8\"],[0.3333333333333333,\"#9c179e\"],[0.4444444444444444,\"#bd3786\"],[0.5555555555555556,\"#d8576b\"],[0.6666666666666666,\"#ed7953\"],[0.7777777777777778,\"#fb9f3a\"],[0.8888888888888888,\"#fdca26\"],[1.0,\"#f0f921\"]],\"sequentialminus\":[[0.0,\"#0d0887\"],[0.1111111111111111,\"#46039f\"],[0.2222222222222222,\"#7201a8\"],[0.3333333333333333,\"#9c179e\"],[0.4444444444444444,\"#bd3786\"],[0.5555555555555556,\"#d8576b\"],[0.6666666666666666,\"#ed7953\"],[0.7777777777777778,\"#fb9f3a\"],[0.8888888888888888,\"#fdca26\"],[1.0,\"#f0f921\"]],\"diverging\":[[0,\"#8e0152\"],[0.1,\"#c51b7d\"],[0.2,\"#de77ae\"],[0.3,\"#f1b6da\"],[0.4,\"#fde0ef\"],[0.5,\"#f7f7f7\"],[0.6,\"#e6f5d0\"],[0.7,\"#b8e186\"],[0.8,\"#7fbc41\"],[0.9,\"#4d9221\"],[1,\"#276419\"]]},\"xaxis\":{\"gridcolor\":\"white\",\"linecolor\":\"white\",\"ticks\":\"\",\"title\":{\"standoff\":15},\"zerolinecolor\":\"white\",\"automargin\":true,\"zerolinewidth\":2},\"yaxis\":{\"gridcolor\":\"white\",\"linecolor\":\"white\",\"ticks\":\"\",\"title\":{\"standoff\":15},\"zerolinecolor\":\"white\",\"automargin\":true,\"zerolinewidth\":2},\"scene\":{\"xaxis\":{\"backgroundcolor\":\"#E5ECF6\",\"gridcolor\":\"white\",\"linecolor\":\"white\",\"showbackground\":true,\"ticks\":\"\",\"zerolinecolor\":\"white\",\"gridwidth\":2},\"yaxis\":{\"backgroundcolor\":\"#E5ECF6\",\"gridcolor\":\"white\",\"linecolor\":\"white\",\"showbackground\":true,\"ticks\":\"\",\"zerolinecolor\":\"white\",\"gridwidth\":2},\"zaxis\":{\"backgroundcolor\":\"#E5ECF6\",\"gridcolor\":\"white\",\"linecolor\":\"white\",\"showbackground\":true,\"ticks\":\"\",\"zerolinecolor\":\"white\",\"gridwidth\":2}},\"shapedefaults\":{\"line\":{\"color\":\"#2a3f5f\"}},\"annotationdefaults\":{\"arrowcolor\":\"#2a3f5f\",\"arrowhead\":0,\"arrowwidth\":1},\"geo\":{\"bgcolor\":\"white\",\"landcolor\":\"#E5ECF6\",\"subunitcolor\":\"white\",\"showland\":true,\"showlakes\":true,\"lakecolor\":\"white\"},\"title\":{\"x\":0.05},\"mapbox\":{\"style\":\"light\"}}},\"xaxis\":{\"anchor\":\"y\",\"domain\":[0.0,1.0],\"title\":{\"text\":\"x\"}},\"yaxis\":{\"anchor\":\"x\",\"domain\":[0.0,1.0],\"title\":{\"text\":\"y\"}},\"legend\":{\"tracegroupgap\":0},\"title\":{\"text\":\"sec\"}},                        {\"responsive\": true}                    ).then(function(){\n                            \nvar gd = document.getElementById('6d2b4e9c-d44f-48ae-82be-b1951a1ebd73');\nvar x = new MutationObserver(function (mutations, observer) {{\n        var display = window.getComputedStyle(gd).display;\n        if (!display || display === 'none') {{\n            console.log([gd, 'removed!']);\n            Plotly.purge(gd);\n            observer.disconnect();\n        }}\n}});\n\n// Listen for the removal of the full notebook cells\nvar notebookContainer = gd.closest('#notebook-container');\nif (notebookContainer) {{\n    x.observe(notebookContainer, {childList: true});\n}}\n\n// Listen for the clearing of the current output cell\nvar outputEl = gd.closest('.output');\nif (outputEl) {{\n    x.observe(outputEl, {childList: true});\n}}\n\n                        })                };                });            </script>        </div>"
     },
     "metadata": {},
     "output_type": "display_data"
    },
    {
     "data": {
      "application/vnd.plotly.v1+json": {
       "data": [
        {
         "hovertemplate": "x=%{x}<br>y=%{y}<extra></extra>",
         "legendgroup": "",
         "line": {
          "color": "#636efa",
          "dash": "solid"
         },
         "marker": {
          "symbol": "circle"
         },
         "mode": "lines",
         "name": "",
         "orientation": "v",
         "showlegend": false,
         "x": [
          -9.424778,
          -9.324778,
          -9.224778,
          -9.124778,
          -9.024778,
          -8.924778,
          -8.824778,
          -8.724778,
          -8.624778,
          -8.524778,
          -8.424778,
          -8.324778,
          -8.224778,
          -8.124778,
          -8.024778,
          -7.924778,
          -7.824778,
          -7.724778,
          -7.624778,
          -7.524778,
          -7.424778,
          -7.324778,
          -7.224778,
          -7.124778,
          -7.024778,
          -6.924778,
          -6.824778,
          -6.724778,
          -6.624778,
          -6.524778,
          -6.424778,
          -6.324778,
          -6.224778,
          -6.124778,
          -6.024778,
          -5.924778,
          -5.824778,
          -5.724778,
          -5.624778,
          -5.524778,
          -5.424778,
          -5.324778,
          -5.224778,
          -5.124778,
          -5.024778,
          -4.924778,
          -4.824778,
          -4.724778,
          -4.624778,
          -4.524778,
          -4.424778,
          -4.324778,
          -4.224778,
          -4.124778,
          -4.024778,
          -3.924778,
          -3.824778,
          -3.724778,
          -3.624778,
          -3.524778,
          -3.424778,
          -3.324778,
          -3.224778,
          -3.124778,
          -3.024778,
          -2.924778,
          -2.824778,
          -2.724778,
          -2.624778,
          -2.524778,
          -2.424778,
          -2.324778,
          -2.224778,
          -2.124778,
          -2.024778,
          -1.924778,
          -1.824778,
          -1.724778,
          -1.624778,
          -1.524778,
          -1.424778,
          -1.324778,
          -1.224778,
          -1.124778,
          -1.024778,
          -0.924778,
          -0.824778,
          -0.724778,
          -0.624778,
          -0.524778,
          -0.424778,
          -0.324778,
          -0.224778,
          -0.124778,
          -0.024778,
          0.075222,
          0.175222,
          0.275222,
          0.375222,
          0.475222,
          0.575222,
          0.675222,
          0.775222,
          0.875222,
          0.975222,
          1.075222,
          1.175222,
          1.275222,
          1.375222,
          1.475222,
          1.575222,
          1.675222,
          1.775222,
          1.875222,
          1.975222,
          2.075222,
          2.175222,
          2.275222,
          2.375222,
          2.475222,
          2.575222,
          2.675222,
          2.775222,
          2.875222,
          2.975222,
          3.075222,
          3.175222,
          3.275222,
          3.375222,
          3.475222,
          3.575222,
          3.675222,
          3.775222,
          3.875222,
          3.975222,
          4.075222,
          4.175222,
          4.275222,
          4.375222,
          4.475222,
          4.575222,
          4.675222,
          4.775222,
          4.875222,
          4.975222,
          5.075222,
          5.175222,
          5.275222,
          5.375222,
          5.475222,
          5.575222,
          5.675222,
          5.775222,
          5.875222,
          5.975222,
          6.075222,
          6.175222,
          6.275222,
          6.375222,
          6.475222,
          6.575222,
          6.675222,
          6.775222,
          6.875222,
          6.975222,
          7.075222,
          7.175222,
          7.275222,
          7.375222,
          7.475222,
          7.575222,
          7.675222,
          7.775222,
          7.875222,
          7.975222,
          8.075222,
          8.175222,
          8.275222,
          8.375222,
          8.475222,
          8.575222,
          8.675222,
          8.775222,
          8.875222,
          8.975222,
          9.075222,
          9.175222,
          9.275222,
          9.375222
         ],
         "xaxis": "x",
         "y": [
          -24.304387,
          -25.824271,
          -27.856393,
          -30.718147,
          -35.029744,
          -42.18949,
          -56.159054,
          -94.348108,
          -566.93316,
          110.086001,
          44.613567,
          25.766762,
          16.950291,
          11.918382,
          8.713914,
          6.525779,
          4.956582,
          3.78829,
          2.890943,
          2.181882,
          1.605529,
          1.122444,
          0.702856,
          0.322339,
          -0.041687,
          -0.413841,
          -0.826834,
          -1.334157,
          -2.043714,
          -3.234072,
          -5.965462,
          -21.729873,
          15.27574,
          5.784581,
          3.564274,
          2.549597,
          1.954914,
          1.555812,
          1.263645,
          1.036191,
          0.850655,
          0.693556,
          0.556324,
          0.433163,
          0.319932,
          0.213495,
          0.111338,
          0.011297,
          -0.088621,
          -0.19041,
          -0.296224,
          -0.408565,
          -0.530543,
          -0.666263,
          -0.821448,
          -1.004526,
          -1.228656,
          -1.515824,
          -1.906016,
          -2.480742,
          -3.436384,
          -5.397786,
          -11.993657,
          59.466336,
          8.521606,
          4.539739,
          3.050103,
          2.258574,
          1.759511,
          1.410216,
          1.147516,
          0.939061,
          0.766506,
          0.618597,
          0.487975,
          0.369547,
          0.259587,
          0.15521,
          0.054034,
          -0.046051,
          -0.147065,
          -0.251105,
          -0.360523,
          -0.478154,
          -0.60764,
          -0.753941,
          -0.924187,
          -1.129233,
          -1.38668,
          -1.727344,
          -2.210845,
          -2.969998,
          -4.373655,
          -7.9726,
          -40.350187,
          13.268893,
          5.648517,
          3.541223,
          2.538825,
          1.943435,
          1.542351,
          1.248768,
          1.020562,
          0.834751,
          0.677659,
          0.54057,
          0.417586,
          0.304494,
          0.198107,
          0.095866,
          -0.004426,
          -0.104807,
          -0.207322,
          -0.314192,
          -0.42802,
          -0.552063,
          -0.690654,
          -0.849882,
          -1.038798,
          -1.271676,
          -1.572673,
          -1.986459,
          -2.606246,
          -3.664955,
          -5.955117,
          -15.044779,
          29.724687,
          7.438788,
          4.202122,
          2.885294,
          2.159729,
          1.692612,
          1.361121,
          1.109293,
          0.907908,
          0.740149,
          0.595585,
          0.467324,
          0.350552,
          0.241716,
          0.138034,
          0.037184,
          -0.062916,
          -0.164287,
          -0.269055,
          -0.379636,
          -0.498972,
          -0.630883,
          -0.780615,
          -0.95578,
          -1.168078,
          -1.43669,
          -1.795673,
          -2.312175,
          -3.140027,
          -4.727131,
          -9.164303,
          -111.305605,
          11.004529,
          5.196658,
          3.357872,
          2.442439,
          1.885828,
          1.505489,
          1.224426,
          1.004451,
          0.824374,
          0.671377,
          0.537117,
          0.415755,
          0.302849,
          0.194643,
          0.087496,
          -0.022743,
          -0.141664,
          -0.278071,
          -0.448066,
          -0.686376,
          -1.086869,
          -2.027291,
          -8.629834,
          4.037845,
          1.605177,
          0.968288,
          0.666343,
          0.486549,
          0.365833,
          0.278792,
          0.213153
         ],
         "yaxis": "y",
         "type": "scatter"
        }
       ],
       "layout": {
        "template": {
         "data": {
          "histogram2dcontour": [
           {
            "type": "histogram2dcontour",
            "colorbar": {
             "outlinewidth": 0,
             "ticks": ""
            },
            "colorscale": [
             [
              0.0,
              "#0d0887"
             ],
             [
              0.1111111111111111,
              "#46039f"
             ],
             [
              0.2222222222222222,
              "#7201a8"
             ],
             [
              0.3333333333333333,
              "#9c179e"
             ],
             [
              0.4444444444444444,
              "#bd3786"
             ],
             [
              0.5555555555555556,
              "#d8576b"
             ],
             [
              0.6666666666666666,
              "#ed7953"
             ],
             [
              0.7777777777777778,
              "#fb9f3a"
             ],
             [
              0.8888888888888888,
              "#fdca26"
             ],
             [
              1.0,
              "#f0f921"
             ]
            ]
           }
          ],
          "choropleth": [
           {
            "type": "choropleth",
            "colorbar": {
             "outlinewidth": 0,
             "ticks": ""
            }
           }
          ],
          "histogram2d": [
           {
            "type": "histogram2d",
            "colorbar": {
             "outlinewidth": 0,
             "ticks": ""
            },
            "colorscale": [
             [
              0.0,
              "#0d0887"
             ],
             [
              0.1111111111111111,
              "#46039f"
             ],
             [
              0.2222222222222222,
              "#7201a8"
             ],
             [
              0.3333333333333333,
              "#9c179e"
             ],
             [
              0.4444444444444444,
              "#bd3786"
             ],
             [
              0.5555555555555556,
              "#d8576b"
             ],
             [
              0.6666666666666666,
              "#ed7953"
             ],
             [
              0.7777777777777778,
              "#fb9f3a"
             ],
             [
              0.8888888888888888,
              "#fdca26"
             ],
             [
              1.0,
              "#f0f921"
             ]
            ]
           }
          ],
          "heatmap": [
           {
            "type": "heatmap",
            "colorbar": {
             "outlinewidth": 0,
             "ticks": ""
            },
            "colorscale": [
             [
              0.0,
              "#0d0887"
             ],
             [
              0.1111111111111111,
              "#46039f"
             ],
             [
              0.2222222222222222,
              "#7201a8"
             ],
             [
              0.3333333333333333,
              "#9c179e"
             ],
             [
              0.4444444444444444,
              "#bd3786"
             ],
             [
              0.5555555555555556,
              "#d8576b"
             ],
             [
              0.6666666666666666,
              "#ed7953"
             ],
             [
              0.7777777777777778,
              "#fb9f3a"
             ],
             [
              0.8888888888888888,
              "#fdca26"
             ],
             [
              1.0,
              "#f0f921"
             ]
            ]
           }
          ],
          "heatmapgl": [
           {
            "type": "heatmapgl",
            "colorbar": {
             "outlinewidth": 0,
             "ticks": ""
            },
            "colorscale": [
             [
              0.0,
              "#0d0887"
             ],
             [
              0.1111111111111111,
              "#46039f"
             ],
             [
              0.2222222222222222,
              "#7201a8"
             ],
             [
              0.3333333333333333,
              "#9c179e"
             ],
             [
              0.4444444444444444,
              "#bd3786"
             ],
             [
              0.5555555555555556,
              "#d8576b"
             ],
             [
              0.6666666666666666,
              "#ed7953"
             ],
             [
              0.7777777777777778,
              "#fb9f3a"
             ],
             [
              0.8888888888888888,
              "#fdca26"
             ],
             [
              1.0,
              "#f0f921"
             ]
            ]
           }
          ],
          "contourcarpet": [
           {
            "type": "contourcarpet",
            "colorbar": {
             "outlinewidth": 0,
             "ticks": ""
            }
           }
          ],
          "contour": [
           {
            "type": "contour",
            "colorbar": {
             "outlinewidth": 0,
             "ticks": ""
            },
            "colorscale": [
             [
              0.0,
              "#0d0887"
             ],
             [
              0.1111111111111111,
              "#46039f"
             ],
             [
              0.2222222222222222,
              "#7201a8"
             ],
             [
              0.3333333333333333,
              "#9c179e"
             ],
             [
              0.4444444444444444,
              "#bd3786"
             ],
             [
              0.5555555555555556,
              "#d8576b"
             ],
             [
              0.6666666666666666,
              "#ed7953"
             ],
             [
              0.7777777777777778,
              "#fb9f3a"
             ],
             [
              0.8888888888888888,
              "#fdca26"
             ],
             [
              1.0,
              "#f0f921"
             ]
            ]
           }
          ],
          "surface": [
           {
            "type": "surface",
            "colorbar": {
             "outlinewidth": 0,
             "ticks": ""
            },
            "colorscale": [
             [
              0.0,
              "#0d0887"
             ],
             [
              0.1111111111111111,
              "#46039f"
             ],
             [
              0.2222222222222222,
              "#7201a8"
             ],
             [
              0.3333333333333333,
              "#9c179e"
             ],
             [
              0.4444444444444444,
              "#bd3786"
             ],
             [
              0.5555555555555556,
              "#d8576b"
             ],
             [
              0.6666666666666666,
              "#ed7953"
             ],
             [
              0.7777777777777778,
              "#fb9f3a"
             ],
             [
              0.8888888888888888,
              "#fdca26"
             ],
             [
              1.0,
              "#f0f921"
             ]
            ]
           }
          ],
          "mesh3d": [
           {
            "type": "mesh3d",
            "colorbar": {
             "outlinewidth": 0,
             "ticks": ""
            }
           }
          ],
          "scatter": [
           {
            "fillpattern": {
             "fillmode": "overlay",
             "size": 10,
             "solidity": 0.2
            },
            "type": "scatter"
           }
          ],
          "parcoords": [
           {
            "type": "parcoords",
            "line": {
             "colorbar": {
              "outlinewidth": 0,
              "ticks": ""
             }
            }
           }
          ],
          "scatterpolargl": [
           {
            "type": "scatterpolargl",
            "marker": {
             "colorbar": {
              "outlinewidth": 0,
              "ticks": ""
             }
            }
           }
          ],
          "bar": [
           {
            "error_x": {
             "color": "#2a3f5f"
            },
            "error_y": {
             "color": "#2a3f5f"
            },
            "marker": {
             "line": {
              "color": "#E5ECF6",
              "width": 0.5
             },
             "pattern": {
              "fillmode": "overlay",
              "size": 10,
              "solidity": 0.2
             }
            },
            "type": "bar"
           }
          ],
          "scattergeo": [
           {
            "type": "scattergeo",
            "marker": {
             "colorbar": {
              "outlinewidth": 0,
              "ticks": ""
             }
            }
           }
          ],
          "scatterpolar": [
           {
            "type": "scatterpolar",
            "marker": {
             "colorbar": {
              "outlinewidth": 0,
              "ticks": ""
             }
            }
           }
          ],
          "histogram": [
           {
            "marker": {
             "pattern": {
              "fillmode": "overlay",
              "size": 10,
              "solidity": 0.2
             }
            },
            "type": "histogram"
           }
          ],
          "scattergl": [
           {
            "type": "scattergl",
            "marker": {
             "colorbar": {
              "outlinewidth": 0,
              "ticks": ""
             }
            }
           }
          ],
          "scatter3d": [
           {
            "type": "scatter3d",
            "line": {
             "colorbar": {
              "outlinewidth": 0,
              "ticks": ""
             }
            },
            "marker": {
             "colorbar": {
              "outlinewidth": 0,
              "ticks": ""
             }
            }
           }
          ],
          "scattermapbox": [
           {
            "type": "scattermapbox",
            "marker": {
             "colorbar": {
              "outlinewidth": 0,
              "ticks": ""
             }
            }
           }
          ],
          "scatterternary": [
           {
            "type": "scatterternary",
            "marker": {
             "colorbar": {
              "outlinewidth": 0,
              "ticks": ""
             }
            }
           }
          ],
          "scattercarpet": [
           {
            "type": "scattercarpet",
            "marker": {
             "colorbar": {
              "outlinewidth": 0,
              "ticks": ""
             }
            }
           }
          ],
          "carpet": [
           {
            "aaxis": {
             "endlinecolor": "#2a3f5f",
             "gridcolor": "white",
             "linecolor": "white",
             "minorgridcolor": "white",
             "startlinecolor": "#2a3f5f"
            },
            "baxis": {
             "endlinecolor": "#2a3f5f",
             "gridcolor": "white",
             "linecolor": "white",
             "minorgridcolor": "white",
             "startlinecolor": "#2a3f5f"
            },
            "type": "carpet"
           }
          ],
          "table": [
           {
            "cells": {
             "fill": {
              "color": "#EBF0F8"
             },
             "line": {
              "color": "white"
             }
            },
            "header": {
             "fill": {
              "color": "#C8D4E3"
             },
             "line": {
              "color": "white"
             }
            },
            "type": "table"
           }
          ],
          "barpolar": [
           {
            "marker": {
             "line": {
              "color": "#E5ECF6",
              "width": 0.5
             },
             "pattern": {
              "fillmode": "overlay",
              "size": 10,
              "solidity": 0.2
             }
            },
            "type": "barpolar"
           }
          ],
          "pie": [
           {
            "automargin": true,
            "type": "pie"
           }
          ]
         },
         "layout": {
          "autotypenumbers": "strict",
          "colorway": [
           "#636efa",
           "#EF553B",
           "#00cc96",
           "#ab63fa",
           "#FFA15A",
           "#19d3f3",
           "#FF6692",
           "#B6E880",
           "#FF97FF",
           "#FECB52"
          ],
          "font": {
           "color": "#2a3f5f"
          },
          "hovermode": "closest",
          "hoverlabel": {
           "align": "left"
          },
          "paper_bgcolor": "white",
          "plot_bgcolor": "#E5ECF6",
          "polar": {
           "bgcolor": "#E5ECF6",
           "angularaxis": {
            "gridcolor": "white",
            "linecolor": "white",
            "ticks": ""
           },
           "radialaxis": {
            "gridcolor": "white",
            "linecolor": "white",
            "ticks": ""
           }
          },
          "ternary": {
           "bgcolor": "#E5ECF6",
           "aaxis": {
            "gridcolor": "white",
            "linecolor": "white",
            "ticks": ""
           },
           "baxis": {
            "gridcolor": "white",
            "linecolor": "white",
            "ticks": ""
           },
           "caxis": {
            "gridcolor": "white",
            "linecolor": "white",
            "ticks": ""
           }
          },
          "coloraxis": {
           "colorbar": {
            "outlinewidth": 0,
            "ticks": ""
           }
          },
          "colorscale": {
           "sequential": [
            [
             0.0,
             "#0d0887"
            ],
            [
             0.1111111111111111,
             "#46039f"
            ],
            [
             0.2222222222222222,
             "#7201a8"
            ],
            [
             0.3333333333333333,
             "#9c179e"
            ],
            [
             0.4444444444444444,
             "#bd3786"
            ],
            [
             0.5555555555555556,
             "#d8576b"
            ],
            [
             0.6666666666666666,
             "#ed7953"
            ],
            [
             0.7777777777777778,
             "#fb9f3a"
            ],
            [
             0.8888888888888888,
             "#fdca26"
            ],
            [
             1.0,
             "#f0f921"
            ]
           ],
           "sequentialminus": [
            [
             0.0,
             "#0d0887"
            ],
            [
             0.1111111111111111,
             "#46039f"
            ],
            [
             0.2222222222222222,
             "#7201a8"
            ],
            [
             0.3333333333333333,
             "#9c179e"
            ],
            [
             0.4444444444444444,
             "#bd3786"
            ],
            [
             0.5555555555555556,
             "#d8576b"
            ],
            [
             0.6666666666666666,
             "#ed7953"
            ],
            [
             0.7777777777777778,
             "#fb9f3a"
            ],
            [
             0.8888888888888888,
             "#fdca26"
            ],
            [
             1.0,
             "#f0f921"
            ]
           ],
           "diverging": [
            [
             0,
             "#8e0152"
            ],
            [
             0.1,
             "#c51b7d"
            ],
            [
             0.2,
             "#de77ae"
            ],
            [
             0.3,
             "#f1b6da"
            ],
            [
             0.4,
             "#fde0ef"
            ],
            [
             0.5,
             "#f7f7f7"
            ],
            [
             0.6,
             "#e6f5d0"
            ],
            [
             0.7,
             "#b8e186"
            ],
            [
             0.8,
             "#7fbc41"
            ],
            [
             0.9,
             "#4d9221"
            ],
            [
             1,
             "#276419"
            ]
           ]
          },
          "xaxis": {
           "gridcolor": "white",
           "linecolor": "white",
           "ticks": "",
           "title": {
            "standoff": 15
           },
           "zerolinecolor": "white",
           "automargin": true,
           "zerolinewidth": 2
          },
          "yaxis": {
           "gridcolor": "white",
           "linecolor": "white",
           "ticks": "",
           "title": {
            "standoff": 15
           },
           "zerolinecolor": "white",
           "automargin": true,
           "zerolinewidth": 2
          },
          "scene": {
           "xaxis": {
            "backgroundcolor": "#E5ECF6",
            "gridcolor": "white",
            "linecolor": "white",
            "showbackground": true,
            "ticks": "",
            "zerolinecolor": "white",
            "gridwidth": 2
           },
           "yaxis": {
            "backgroundcolor": "#E5ECF6",
            "gridcolor": "white",
            "linecolor": "white",
            "showbackground": true,
            "ticks": "",
            "zerolinecolor": "white",
            "gridwidth": 2
           },
           "zaxis": {
            "backgroundcolor": "#E5ECF6",
            "gridcolor": "white",
            "linecolor": "white",
            "showbackground": true,
            "ticks": "",
            "zerolinecolor": "white",
            "gridwidth": 2
           }
          },
          "shapedefaults": {
           "line": {
            "color": "#2a3f5f"
           }
          },
          "annotationdefaults": {
           "arrowcolor": "#2a3f5f",
           "arrowhead": 0,
           "arrowwidth": 1
          },
          "geo": {
           "bgcolor": "white",
           "landcolor": "#E5ECF6",
           "subunitcolor": "white",
           "showland": true,
           "showlakes": true,
           "lakecolor": "white"
          },
          "title": {
           "x": 0.05
          },
          "mapbox": {
           "style": "light"
          }
         }
        },
        "xaxis": {
         "anchor": "y",
         "domain": [
          0.0,
          1.0
         ],
         "title": {
          "text": "x"
         }
        },
        "yaxis": {
         "anchor": "x",
         "domain": [
          0.0,
          1.0
         ],
         "title": {
          "text": "y"
         }
        },
        "legend": {
         "tracegroupgap": 0
        },
        "title": {
         "text": "cot"
        }
       },
       "config": {
        "plotlyServerURL": "https://plot.ly"
       }
      },
      "text/html": "<div>                            <div id=\"e94ecbd6-8fa5-46f7-a485-a227e8b0c015\" class=\"plotly-graph-div\" style=\"height:525px; width:100%;\"></div>            <script type=\"text/javascript\">                require([\"plotly\"], function(Plotly) {                    window.PLOTLYENV=window.PLOTLYENV || {};                                    if (document.getElementById(\"e94ecbd6-8fa5-46f7-a485-a227e8b0c015\")) {                    Plotly.newPlot(                        \"e94ecbd6-8fa5-46f7-a485-a227e8b0c015\",                        [{\"hovertemplate\":\"x=%{x}\\u003cbr\\u003ey=%{y}\\u003cextra\\u003e\\u003c\\u002fextra\\u003e\",\"legendgroup\":\"\",\"line\":{\"color\":\"#636efa\",\"dash\":\"solid\"},\"marker\":{\"symbol\":\"circle\"},\"mode\":\"lines\",\"name\":\"\",\"orientation\":\"v\",\"showlegend\":false,\"x\":[-9.424778,-9.324778,-9.224778,-9.124778,-9.024778,-8.924778,-8.824778,-8.724778,-8.624778,-8.524778,-8.424778,-8.324778,-8.224778,-8.124778,-8.024778,-7.924778,-7.824778,-7.724778,-7.624778,-7.524778,-7.424778,-7.324778,-7.224778,-7.124778,-7.024778,-6.924778,-6.824778,-6.724778,-6.624778,-6.524778,-6.424778,-6.324778,-6.224778,-6.124778,-6.024778,-5.924778,-5.824778,-5.724778,-5.624778,-5.524778,-5.424778,-5.324778,-5.224778,-5.124778,-5.024778,-4.924778,-4.824778,-4.724778,-4.624778,-4.524778,-4.424778,-4.324778,-4.224778,-4.124778,-4.024778,-3.924778,-3.824778,-3.724778,-3.624778,-3.524778,-3.424778,-3.324778,-3.224778,-3.124778,-3.024778,-2.924778,-2.824778,-2.724778,-2.624778,-2.524778,-2.424778,-2.324778,-2.224778,-2.124778,-2.024778,-1.924778,-1.824778,-1.724778,-1.624778,-1.524778,-1.424778,-1.324778,-1.224778,-1.124778,-1.024778,-0.924778,-0.824778,-0.724778,-0.624778,-0.524778,-0.424778,-0.324778,-0.224778,-0.124778,-0.024778,0.075222,0.175222,0.275222,0.375222,0.475222,0.575222,0.675222,0.775222,0.875222,0.975222,1.075222,1.175222,1.275222,1.375222,1.475222,1.575222,1.675222,1.775222,1.875222,1.975222,2.075222,2.175222,2.275222,2.375222,2.475222,2.575222,2.675222,2.775222,2.875222,2.975222,3.075222,3.175222,3.275222,3.375222,3.475222,3.575222,3.675222,3.775222,3.875222,3.975222,4.075222,4.175222,4.275222,4.375222,4.475222,4.575222,4.675222,4.775222,4.875222,4.975222,5.075222,5.175222,5.275222,5.375222,5.475222,5.575222,5.675222,5.775222,5.875222,5.975222,6.075222,6.175222,6.275222,6.375222,6.475222,6.575222,6.675222,6.775222,6.875222,6.975222,7.075222,7.175222,7.275222,7.375222,7.475222,7.575222,7.675222,7.775222,7.875222,7.975222,8.075222,8.175222,8.275222,8.375222,8.475222,8.575222,8.675222,8.775222,8.875222,8.975222,9.075222,9.175222,9.275222,9.375222],\"xaxis\":\"x\",\"y\":[-24.304387,-25.824271,-27.856393,-30.718147,-35.029744,-42.18949,-56.159054,-94.348108,-566.93316,110.086001,44.613567,25.766762,16.950291,11.918382,8.713914,6.525779,4.956582,3.78829,2.890943,2.181882,1.605529,1.122444,0.702856,0.322339,-0.041687,-0.413841,-0.826834,-1.334157,-2.043714,-3.234072,-5.965462,-21.729873,15.27574,5.784581,3.564274,2.549597,1.954914,1.555812,1.263645,1.036191,0.850655,0.693556,0.556324,0.433163,0.319932,0.213495,0.111338,0.011297,-0.088621,-0.19041,-0.296224,-0.408565,-0.530543,-0.666263,-0.821448,-1.004526,-1.228656,-1.515824,-1.906016,-2.480742,-3.436384,-5.397786,-11.993657,59.466336,8.521606,4.539739,3.050103,2.258574,1.759511,1.410216,1.147516,0.939061,0.766506,0.618597,0.487975,0.369547,0.259587,0.15521,0.054034,-0.046051,-0.147065,-0.251105,-0.360523,-0.478154,-0.60764,-0.753941,-0.924187,-1.129233,-1.38668,-1.727344,-2.210845,-2.969998,-4.373655,-7.9726,-40.350187,13.268893,5.648517,3.541223,2.538825,1.943435,1.542351,1.248768,1.020562,0.834751,0.677659,0.54057,0.417586,0.304494,0.198107,0.095866,-0.004426,-0.104807,-0.207322,-0.314192,-0.42802,-0.552063,-0.690654,-0.849882,-1.038798,-1.271676,-1.572673,-1.986459,-2.606246,-3.664955,-5.955117,-15.044779,29.724687,7.438788,4.202122,2.885294,2.159729,1.692612,1.361121,1.109293,0.907908,0.740149,0.595585,0.467324,0.350552,0.241716,0.138034,0.037184,-0.062916,-0.164287,-0.269055,-0.379636,-0.498972,-0.630883,-0.780615,-0.95578,-1.168078,-1.43669,-1.795673,-2.312175,-3.140027,-4.727131,-9.164303,-111.305605,11.004529,5.196658,3.357872,2.442439,1.885828,1.505489,1.224426,1.004451,0.824374,0.671377,0.537117,0.415755,0.302849,0.194643,0.087496,-0.022743,-0.141664,-0.278071,-0.448066,-0.686376,-1.086869,-2.027291,-8.629834,4.037845,1.605177,0.968288,0.666343,0.486549,0.365833,0.278792,0.213153],\"yaxis\":\"y\",\"type\":\"scatter\"}],                        {\"template\":{\"data\":{\"histogram2dcontour\":[{\"type\":\"histogram2dcontour\",\"colorbar\":{\"outlinewidth\":0,\"ticks\":\"\"},\"colorscale\":[[0.0,\"#0d0887\"],[0.1111111111111111,\"#46039f\"],[0.2222222222222222,\"#7201a8\"],[0.3333333333333333,\"#9c179e\"],[0.4444444444444444,\"#bd3786\"],[0.5555555555555556,\"#d8576b\"],[0.6666666666666666,\"#ed7953\"],[0.7777777777777778,\"#fb9f3a\"],[0.8888888888888888,\"#fdca26\"],[1.0,\"#f0f921\"]]}],\"choropleth\":[{\"type\":\"choropleth\",\"colorbar\":{\"outlinewidth\":0,\"ticks\":\"\"}}],\"histogram2d\":[{\"type\":\"histogram2d\",\"colorbar\":{\"outlinewidth\":0,\"ticks\":\"\"},\"colorscale\":[[0.0,\"#0d0887\"],[0.1111111111111111,\"#46039f\"],[0.2222222222222222,\"#7201a8\"],[0.3333333333333333,\"#9c179e\"],[0.4444444444444444,\"#bd3786\"],[0.5555555555555556,\"#d8576b\"],[0.6666666666666666,\"#ed7953\"],[0.7777777777777778,\"#fb9f3a\"],[0.8888888888888888,\"#fdca26\"],[1.0,\"#f0f921\"]]}],\"heatmap\":[{\"type\":\"heatmap\",\"colorbar\":{\"outlinewidth\":0,\"ticks\":\"\"},\"colorscale\":[[0.0,\"#0d0887\"],[0.1111111111111111,\"#46039f\"],[0.2222222222222222,\"#7201a8\"],[0.3333333333333333,\"#9c179e\"],[0.4444444444444444,\"#bd3786\"],[0.5555555555555556,\"#d8576b\"],[0.6666666666666666,\"#ed7953\"],[0.7777777777777778,\"#fb9f3a\"],[0.8888888888888888,\"#fdca26\"],[1.0,\"#f0f921\"]]}],\"heatmapgl\":[{\"type\":\"heatmapgl\",\"colorbar\":{\"outlinewidth\":0,\"ticks\":\"\"},\"colorscale\":[[0.0,\"#0d0887\"],[0.1111111111111111,\"#46039f\"],[0.2222222222222222,\"#7201a8\"],[0.3333333333333333,\"#9c179e\"],[0.4444444444444444,\"#bd3786\"],[0.5555555555555556,\"#d8576b\"],[0.6666666666666666,\"#ed7953\"],[0.7777777777777778,\"#fb9f3a\"],[0.8888888888888888,\"#fdca26\"],[1.0,\"#f0f921\"]]}],\"contourcarpet\":[{\"type\":\"contourcarpet\",\"colorbar\":{\"outlinewidth\":0,\"ticks\":\"\"}}],\"contour\":[{\"type\":\"contour\",\"colorbar\":{\"outlinewidth\":0,\"ticks\":\"\"},\"colorscale\":[[0.0,\"#0d0887\"],[0.1111111111111111,\"#46039f\"],[0.2222222222222222,\"#7201a8\"],[0.3333333333333333,\"#9c179e\"],[0.4444444444444444,\"#bd3786\"],[0.5555555555555556,\"#d8576b\"],[0.6666666666666666,\"#ed7953\"],[0.7777777777777778,\"#fb9f3a\"],[0.8888888888888888,\"#fdca26\"],[1.0,\"#f0f921\"]]}],\"surface\":[{\"type\":\"surface\",\"colorbar\":{\"outlinewidth\":0,\"ticks\":\"\"},\"colorscale\":[[0.0,\"#0d0887\"],[0.1111111111111111,\"#46039f\"],[0.2222222222222222,\"#7201a8\"],[0.3333333333333333,\"#9c179e\"],[0.4444444444444444,\"#bd3786\"],[0.5555555555555556,\"#d8576b\"],[0.6666666666666666,\"#ed7953\"],[0.7777777777777778,\"#fb9f3a\"],[0.8888888888888888,\"#fdca26\"],[1.0,\"#f0f921\"]]}],\"mesh3d\":[{\"type\":\"mesh3d\",\"colorbar\":{\"outlinewidth\":0,\"ticks\":\"\"}}],\"scatter\":[{\"fillpattern\":{\"fillmode\":\"overlay\",\"size\":10,\"solidity\":0.2},\"type\":\"scatter\"}],\"parcoords\":[{\"type\":\"parcoords\",\"line\":{\"colorbar\":{\"outlinewidth\":0,\"ticks\":\"\"}}}],\"scatterpolargl\":[{\"type\":\"scatterpolargl\",\"marker\":{\"colorbar\":{\"outlinewidth\":0,\"ticks\":\"\"}}}],\"bar\":[{\"error_x\":{\"color\":\"#2a3f5f\"},\"error_y\":{\"color\":\"#2a3f5f\"},\"marker\":{\"line\":{\"color\":\"#E5ECF6\",\"width\":0.5},\"pattern\":{\"fillmode\":\"overlay\",\"size\":10,\"solidity\":0.2}},\"type\":\"bar\"}],\"scattergeo\":[{\"type\":\"scattergeo\",\"marker\":{\"colorbar\":{\"outlinewidth\":0,\"ticks\":\"\"}}}],\"scatterpolar\":[{\"type\":\"scatterpolar\",\"marker\":{\"colorbar\":{\"outlinewidth\":0,\"ticks\":\"\"}}}],\"histogram\":[{\"marker\":{\"pattern\":{\"fillmode\":\"overlay\",\"size\":10,\"solidity\":0.2}},\"type\":\"histogram\"}],\"scattergl\":[{\"type\":\"scattergl\",\"marker\":{\"colorbar\":{\"outlinewidth\":0,\"ticks\":\"\"}}}],\"scatter3d\":[{\"type\":\"scatter3d\",\"line\":{\"colorbar\":{\"outlinewidth\":0,\"ticks\":\"\"}},\"marker\":{\"colorbar\":{\"outlinewidth\":0,\"ticks\":\"\"}}}],\"scattermapbox\":[{\"type\":\"scattermapbox\",\"marker\":{\"colorbar\":{\"outlinewidth\":0,\"ticks\":\"\"}}}],\"scatterternary\":[{\"type\":\"scatterternary\",\"marker\":{\"colorbar\":{\"outlinewidth\":0,\"ticks\":\"\"}}}],\"scattercarpet\":[{\"type\":\"scattercarpet\",\"marker\":{\"colorbar\":{\"outlinewidth\":0,\"ticks\":\"\"}}}],\"carpet\":[{\"aaxis\":{\"endlinecolor\":\"#2a3f5f\",\"gridcolor\":\"white\",\"linecolor\":\"white\",\"minorgridcolor\":\"white\",\"startlinecolor\":\"#2a3f5f\"},\"baxis\":{\"endlinecolor\":\"#2a3f5f\",\"gridcolor\":\"white\",\"linecolor\":\"white\",\"minorgridcolor\":\"white\",\"startlinecolor\":\"#2a3f5f\"},\"type\":\"carpet\"}],\"table\":[{\"cells\":{\"fill\":{\"color\":\"#EBF0F8\"},\"line\":{\"color\":\"white\"}},\"header\":{\"fill\":{\"color\":\"#C8D4E3\"},\"line\":{\"color\":\"white\"}},\"type\":\"table\"}],\"barpolar\":[{\"marker\":{\"line\":{\"color\":\"#E5ECF6\",\"width\":0.5},\"pattern\":{\"fillmode\":\"overlay\",\"size\":10,\"solidity\":0.2}},\"type\":\"barpolar\"}],\"pie\":[{\"automargin\":true,\"type\":\"pie\"}]},\"layout\":{\"autotypenumbers\":\"strict\",\"colorway\":[\"#636efa\",\"#EF553B\",\"#00cc96\",\"#ab63fa\",\"#FFA15A\",\"#19d3f3\",\"#FF6692\",\"#B6E880\",\"#FF97FF\",\"#FECB52\"],\"font\":{\"color\":\"#2a3f5f\"},\"hovermode\":\"closest\",\"hoverlabel\":{\"align\":\"left\"},\"paper_bgcolor\":\"white\",\"plot_bgcolor\":\"#E5ECF6\",\"polar\":{\"bgcolor\":\"#E5ECF6\",\"angularaxis\":{\"gridcolor\":\"white\",\"linecolor\":\"white\",\"ticks\":\"\"},\"radialaxis\":{\"gridcolor\":\"white\",\"linecolor\":\"white\",\"ticks\":\"\"}},\"ternary\":{\"bgcolor\":\"#E5ECF6\",\"aaxis\":{\"gridcolor\":\"white\",\"linecolor\":\"white\",\"ticks\":\"\"},\"baxis\":{\"gridcolor\":\"white\",\"linecolor\":\"white\",\"ticks\":\"\"},\"caxis\":{\"gridcolor\":\"white\",\"linecolor\":\"white\",\"ticks\":\"\"}},\"coloraxis\":{\"colorbar\":{\"outlinewidth\":0,\"ticks\":\"\"}},\"colorscale\":{\"sequential\":[[0.0,\"#0d0887\"],[0.1111111111111111,\"#46039f\"],[0.2222222222222222,\"#7201a8\"],[0.3333333333333333,\"#9c179e\"],[0.4444444444444444,\"#bd3786\"],[0.5555555555555556,\"#d8576b\"],[0.6666666666666666,\"#ed7953\"],[0.7777777777777778,\"#fb9f3a\"],[0.8888888888888888,\"#fdca26\"],[1.0,\"#f0f921\"]],\"sequentialminus\":[[0.0,\"#0d0887\"],[0.1111111111111111,\"#46039f\"],[0.2222222222222222,\"#7201a8\"],[0.3333333333333333,\"#9c179e\"],[0.4444444444444444,\"#bd3786\"],[0.5555555555555556,\"#d8576b\"],[0.6666666666666666,\"#ed7953\"],[0.7777777777777778,\"#fb9f3a\"],[0.8888888888888888,\"#fdca26\"],[1.0,\"#f0f921\"]],\"diverging\":[[0,\"#8e0152\"],[0.1,\"#c51b7d\"],[0.2,\"#de77ae\"],[0.3,\"#f1b6da\"],[0.4,\"#fde0ef\"],[0.5,\"#f7f7f7\"],[0.6,\"#e6f5d0\"],[0.7,\"#b8e186\"],[0.8,\"#7fbc41\"],[0.9,\"#4d9221\"],[1,\"#276419\"]]},\"xaxis\":{\"gridcolor\":\"white\",\"linecolor\":\"white\",\"ticks\":\"\",\"title\":{\"standoff\":15},\"zerolinecolor\":\"white\",\"automargin\":true,\"zerolinewidth\":2},\"yaxis\":{\"gridcolor\":\"white\",\"linecolor\":\"white\",\"ticks\":\"\",\"title\":{\"standoff\":15},\"zerolinecolor\":\"white\",\"automargin\":true,\"zerolinewidth\":2},\"scene\":{\"xaxis\":{\"backgroundcolor\":\"#E5ECF6\",\"gridcolor\":\"white\",\"linecolor\":\"white\",\"showbackground\":true,\"ticks\":\"\",\"zerolinecolor\":\"white\",\"gridwidth\":2},\"yaxis\":{\"backgroundcolor\":\"#E5ECF6\",\"gridcolor\":\"white\",\"linecolor\":\"white\",\"showbackground\":true,\"ticks\":\"\",\"zerolinecolor\":\"white\",\"gridwidth\":2},\"zaxis\":{\"backgroundcolor\":\"#E5ECF6\",\"gridcolor\":\"white\",\"linecolor\":\"white\",\"showbackground\":true,\"ticks\":\"\",\"zerolinecolor\":\"white\",\"gridwidth\":2}},\"shapedefaults\":{\"line\":{\"color\":\"#2a3f5f\"}},\"annotationdefaults\":{\"arrowcolor\":\"#2a3f5f\",\"arrowhead\":0,\"arrowwidth\":1},\"geo\":{\"bgcolor\":\"white\",\"landcolor\":\"#E5ECF6\",\"subunitcolor\":\"white\",\"showland\":true,\"showlakes\":true,\"lakecolor\":\"white\"},\"title\":{\"x\":0.05},\"mapbox\":{\"style\":\"light\"}}},\"xaxis\":{\"anchor\":\"y\",\"domain\":[0.0,1.0],\"title\":{\"text\":\"x\"}},\"yaxis\":{\"anchor\":\"x\",\"domain\":[0.0,1.0],\"title\":{\"text\":\"y\"}},\"legend\":{\"tracegroupgap\":0},\"title\":{\"text\":\"cot\"}},                        {\"responsive\": true}                    ).then(function(){\n                            \nvar gd = document.getElementById('e94ecbd6-8fa5-46f7-a485-a227e8b0c015');\nvar x = new MutationObserver(function (mutations, observer) {{\n        var display = window.getComputedStyle(gd).display;\n        if (!display || display === 'none') {{\n            console.log([gd, 'removed!']);\n            Plotly.purge(gd);\n            observer.disconnect();\n        }}\n}});\n\n// Listen for the removal of the full notebook cells\nvar notebookContainer = gd.closest('#notebook-container');\nif (notebookContainer) {{\n    x.observe(notebookContainer, {childList: true});\n}}\n\n// Listen for the clearing of the current output cell\nvar outputEl = gd.closest('.output');\nif (outputEl) {{\n    x.observe(outputEl, {childList: true});\n}}\n\n                        })                };                });            </script>        </div>"
     },
     "metadata": {},
     "output_type": "display_data"
    },
    {
     "data": {
      "application/vnd.plotly.v1+json": {
       "data": [
        {
         "hovertemplate": "x=%{x}<br>y=%{y}<extra></extra>",
         "legendgroup": "",
         "line": {
          "color": "#636efa",
          "dash": "solid"
         },
         "marker": {
          "symbol": "circle"
         },
         "mode": "lines",
         "name": "",
         "orientation": "v",
         "showlegend": false,
         "x": [
          0.1,
          0.2,
          0.3,
          0.4,
          0.5,
          0.6,
          0.7,
          0.8,
          0.9,
          1.0,
          1.1,
          1.2,
          1.3,
          1.4,
          1.5,
          1.6,
          1.7,
          1.8,
          1.9,
          2.0,
          2.1,
          2.2,
          2.3,
          2.4,
          2.5,
          2.6,
          2.7,
          2.8,
          2.9,
          3.0,
          3.1,
          3.2,
          3.3,
          3.4,
          3.5,
          3.6,
          3.7,
          3.8,
          3.9,
          4.0,
          4.1,
          4.2,
          4.3,
          4.4,
          4.5,
          4.6,
          4.7,
          4.8,
          4.9,
          5.0,
          5.1,
          5.2,
          5.3,
          5.4,
          5.5,
          5.6,
          5.7,
          5.8,
          5.9,
          6.0,
          6.1,
          6.2,
          6.3,
          6.4,
          6.5,
          6.6,
          6.7,
          6.8,
          6.9,
          7.0,
          7.1,
          7.2,
          7.3,
          7.4,
          7.5,
          7.6,
          7.7,
          7.8,
          7.9,
          8.0,
          8.1,
          8.2,
          8.3,
          8.4,
          8.5,
          8.6,
          8.7,
          8.8,
          8.9,
          9.0,
          9.1,
          9.2,
          9.3,
          9.4,
          9.5,
          9.6,
          9.7,
          9.8,
          9.9,
          10.0,
          10.1,
          10.2,
          10.3,
          10.4,
          10.5,
          10.6,
          10.7,
          10.8,
          10.9,
          11.0
         ],
         "xaxis": "x",
         "y": [
          -2.298904,
          -1.609406,
          -1.203973,
          -0.916291,
          -0.693147,
          -0.510826,
          -0.356675,
          -0.223144,
          -0.105361,
          -0.0,
          0.09531,
          0.182322,
          0.262364,
          0.336472,
          0.405465,
          0.470004,
          0.530628,
          0.587787,
          0.641854,
          0.693147,
          0.741937,
          0.788457,
          0.832909,
          0.875469,
          0.916291,
          0.955511,
          0.993252,
          1.029619,
          1.064711,
          1.098612,
          1.131402,
          1.163151,
          1.193922,
          1.223775,
          1.252762,
          1.280933,
          1.308332,
          1.334999,
          1.360974,
          1.386291,
          1.410983,
          1.435079,
          1.458608,
          1.481596,
          1.504066,
          1.526042,
          1.547545,
          1.568594,
          1.589209,
          1.609406,
          1.629202,
          1.648612,
          1.667652,
          1.686335,
          1.704673,
          1.722679,
          1.740365,
          1.757741,
          1.774818,
          1.791606,
          1.808115,
          1.824352,
          1.840328,
          1.856048,
          1.871523,
          1.886758,
          1.901761,
          1.916538,
          1.931096,
          1.945441,
          1.959579,
          1.973515,
          1.987255,
          2.000803,
          2.014166,
          2.027347,
          2.040351,
          2.053182,
          2.065846,
          2.078344,
          2.090683,
          2.102864,
          2.114893,
          2.126772,
          2.138505,
          2.150094,
          2.161544,
          2.172857,
          2.184036,
          2.195083,
          2.206003,
          2.216796,
          2.227466,
          2.238016,
          2.248447,
          2.258761,
          2.268962,
          2.279052,
          2.289032,
          2.298904,
          2.308671,
          2.318334,
          2.327896,
          2.337358,
          2.346721,
          2.355989,
          2.365161,
          2.374241,
          2.383229,
          2.392127
         ],
         "yaxis": "y",
         "type": "scatter"
        }
       ],
       "layout": {
        "template": {
         "data": {
          "histogram2dcontour": [
           {
            "type": "histogram2dcontour",
            "colorbar": {
             "outlinewidth": 0,
             "ticks": ""
            },
            "colorscale": [
             [
              0.0,
              "#0d0887"
             ],
             [
              0.1111111111111111,
              "#46039f"
             ],
             [
              0.2222222222222222,
              "#7201a8"
             ],
             [
              0.3333333333333333,
              "#9c179e"
             ],
             [
              0.4444444444444444,
              "#bd3786"
             ],
             [
              0.5555555555555556,
              "#d8576b"
             ],
             [
              0.6666666666666666,
              "#ed7953"
             ],
             [
              0.7777777777777778,
              "#fb9f3a"
             ],
             [
              0.8888888888888888,
              "#fdca26"
             ],
             [
              1.0,
              "#f0f921"
             ]
            ]
           }
          ],
          "choropleth": [
           {
            "type": "choropleth",
            "colorbar": {
             "outlinewidth": 0,
             "ticks": ""
            }
           }
          ],
          "histogram2d": [
           {
            "type": "histogram2d",
            "colorbar": {
             "outlinewidth": 0,
             "ticks": ""
            },
            "colorscale": [
             [
              0.0,
              "#0d0887"
             ],
             [
              0.1111111111111111,
              "#46039f"
             ],
             [
              0.2222222222222222,
              "#7201a8"
             ],
             [
              0.3333333333333333,
              "#9c179e"
             ],
             [
              0.4444444444444444,
              "#bd3786"
             ],
             [
              0.5555555555555556,
              "#d8576b"
             ],
             [
              0.6666666666666666,
              "#ed7953"
             ],
             [
              0.7777777777777778,
              "#fb9f3a"
             ],
             [
              0.8888888888888888,
              "#fdca26"
             ],
             [
              1.0,
              "#f0f921"
             ]
            ]
           }
          ],
          "heatmap": [
           {
            "type": "heatmap",
            "colorbar": {
             "outlinewidth": 0,
             "ticks": ""
            },
            "colorscale": [
             [
              0.0,
              "#0d0887"
             ],
             [
              0.1111111111111111,
              "#46039f"
             ],
             [
              0.2222222222222222,
              "#7201a8"
             ],
             [
              0.3333333333333333,
              "#9c179e"
             ],
             [
              0.4444444444444444,
              "#bd3786"
             ],
             [
              0.5555555555555556,
              "#d8576b"
             ],
             [
              0.6666666666666666,
              "#ed7953"
             ],
             [
              0.7777777777777778,
              "#fb9f3a"
             ],
             [
              0.8888888888888888,
              "#fdca26"
             ],
             [
              1.0,
              "#f0f921"
             ]
            ]
           }
          ],
          "heatmapgl": [
           {
            "type": "heatmapgl",
            "colorbar": {
             "outlinewidth": 0,
             "ticks": ""
            },
            "colorscale": [
             [
              0.0,
              "#0d0887"
             ],
             [
              0.1111111111111111,
              "#46039f"
             ],
             [
              0.2222222222222222,
              "#7201a8"
             ],
             [
              0.3333333333333333,
              "#9c179e"
             ],
             [
              0.4444444444444444,
              "#bd3786"
             ],
             [
              0.5555555555555556,
              "#d8576b"
             ],
             [
              0.6666666666666666,
              "#ed7953"
             ],
             [
              0.7777777777777778,
              "#fb9f3a"
             ],
             [
              0.8888888888888888,
              "#fdca26"
             ],
             [
              1.0,
              "#f0f921"
             ]
            ]
           }
          ],
          "contourcarpet": [
           {
            "type": "contourcarpet",
            "colorbar": {
             "outlinewidth": 0,
             "ticks": ""
            }
           }
          ],
          "contour": [
           {
            "type": "contour",
            "colorbar": {
             "outlinewidth": 0,
             "ticks": ""
            },
            "colorscale": [
             [
              0.0,
              "#0d0887"
             ],
             [
              0.1111111111111111,
              "#46039f"
             ],
             [
              0.2222222222222222,
              "#7201a8"
             ],
             [
              0.3333333333333333,
              "#9c179e"
             ],
             [
              0.4444444444444444,
              "#bd3786"
             ],
             [
              0.5555555555555556,
              "#d8576b"
             ],
             [
              0.6666666666666666,
              "#ed7953"
             ],
             [
              0.7777777777777778,
              "#fb9f3a"
             ],
             [
              0.8888888888888888,
              "#fdca26"
             ],
             [
              1.0,
              "#f0f921"
             ]
            ]
           }
          ],
          "surface": [
           {
            "type": "surface",
            "colorbar": {
             "outlinewidth": 0,
             "ticks": ""
            },
            "colorscale": [
             [
              0.0,
              "#0d0887"
             ],
             [
              0.1111111111111111,
              "#46039f"
             ],
             [
              0.2222222222222222,
              "#7201a8"
             ],
             [
              0.3333333333333333,
              "#9c179e"
             ],
             [
              0.4444444444444444,
              "#bd3786"
             ],
             [
              0.5555555555555556,
              "#d8576b"
             ],
             [
              0.6666666666666666,
              "#ed7953"
             ],
             [
              0.7777777777777778,
              "#fb9f3a"
             ],
             [
              0.8888888888888888,
              "#fdca26"
             ],
             [
              1.0,
              "#f0f921"
             ]
            ]
           }
          ],
          "mesh3d": [
           {
            "type": "mesh3d",
            "colorbar": {
             "outlinewidth": 0,
             "ticks": ""
            }
           }
          ],
          "scatter": [
           {
            "fillpattern": {
             "fillmode": "overlay",
             "size": 10,
             "solidity": 0.2
            },
            "type": "scatter"
           }
          ],
          "parcoords": [
           {
            "type": "parcoords",
            "line": {
             "colorbar": {
              "outlinewidth": 0,
              "ticks": ""
             }
            }
           }
          ],
          "scatterpolargl": [
           {
            "type": "scatterpolargl",
            "marker": {
             "colorbar": {
              "outlinewidth": 0,
              "ticks": ""
             }
            }
           }
          ],
          "bar": [
           {
            "error_x": {
             "color": "#2a3f5f"
            },
            "error_y": {
             "color": "#2a3f5f"
            },
            "marker": {
             "line": {
              "color": "#E5ECF6",
              "width": 0.5
             },
             "pattern": {
              "fillmode": "overlay",
              "size": 10,
              "solidity": 0.2
             }
            },
            "type": "bar"
           }
          ],
          "scattergeo": [
           {
            "type": "scattergeo",
            "marker": {
             "colorbar": {
              "outlinewidth": 0,
              "ticks": ""
             }
            }
           }
          ],
          "scatterpolar": [
           {
            "type": "scatterpolar",
            "marker": {
             "colorbar": {
              "outlinewidth": 0,
              "ticks": ""
             }
            }
           }
          ],
          "histogram": [
           {
            "marker": {
             "pattern": {
              "fillmode": "overlay",
              "size": 10,
              "solidity": 0.2
             }
            },
            "type": "histogram"
           }
          ],
          "scattergl": [
           {
            "type": "scattergl",
            "marker": {
             "colorbar": {
              "outlinewidth": 0,
              "ticks": ""
             }
            }
           }
          ],
          "scatter3d": [
           {
            "type": "scatter3d",
            "line": {
             "colorbar": {
              "outlinewidth": 0,
              "ticks": ""
             }
            },
            "marker": {
             "colorbar": {
              "outlinewidth": 0,
              "ticks": ""
             }
            }
           }
          ],
          "scattermapbox": [
           {
            "type": "scattermapbox",
            "marker": {
             "colorbar": {
              "outlinewidth": 0,
              "ticks": ""
             }
            }
           }
          ],
          "scatterternary": [
           {
            "type": "scatterternary",
            "marker": {
             "colorbar": {
              "outlinewidth": 0,
              "ticks": ""
             }
            }
           }
          ],
          "scattercarpet": [
           {
            "type": "scattercarpet",
            "marker": {
             "colorbar": {
              "outlinewidth": 0,
              "ticks": ""
             }
            }
           }
          ],
          "carpet": [
           {
            "aaxis": {
             "endlinecolor": "#2a3f5f",
             "gridcolor": "white",
             "linecolor": "white",
             "minorgridcolor": "white",
             "startlinecolor": "#2a3f5f"
            },
            "baxis": {
             "endlinecolor": "#2a3f5f",
             "gridcolor": "white",
             "linecolor": "white",
             "minorgridcolor": "white",
             "startlinecolor": "#2a3f5f"
            },
            "type": "carpet"
           }
          ],
          "table": [
           {
            "cells": {
             "fill": {
              "color": "#EBF0F8"
             },
             "line": {
              "color": "white"
             }
            },
            "header": {
             "fill": {
              "color": "#C8D4E3"
             },
             "line": {
              "color": "white"
             }
            },
            "type": "table"
           }
          ],
          "barpolar": [
           {
            "marker": {
             "line": {
              "color": "#E5ECF6",
              "width": 0.5
             },
             "pattern": {
              "fillmode": "overlay",
              "size": 10,
              "solidity": 0.2
             }
            },
            "type": "barpolar"
           }
          ],
          "pie": [
           {
            "automargin": true,
            "type": "pie"
           }
          ]
         },
         "layout": {
          "autotypenumbers": "strict",
          "colorway": [
           "#636efa",
           "#EF553B",
           "#00cc96",
           "#ab63fa",
           "#FFA15A",
           "#19d3f3",
           "#FF6692",
           "#B6E880",
           "#FF97FF",
           "#FECB52"
          ],
          "font": {
           "color": "#2a3f5f"
          },
          "hovermode": "closest",
          "hoverlabel": {
           "align": "left"
          },
          "paper_bgcolor": "white",
          "plot_bgcolor": "#E5ECF6",
          "polar": {
           "bgcolor": "#E5ECF6",
           "angularaxis": {
            "gridcolor": "white",
            "linecolor": "white",
            "ticks": ""
           },
           "radialaxis": {
            "gridcolor": "white",
            "linecolor": "white",
            "ticks": ""
           }
          },
          "ternary": {
           "bgcolor": "#E5ECF6",
           "aaxis": {
            "gridcolor": "white",
            "linecolor": "white",
            "ticks": ""
           },
           "baxis": {
            "gridcolor": "white",
            "linecolor": "white",
            "ticks": ""
           },
           "caxis": {
            "gridcolor": "white",
            "linecolor": "white",
            "ticks": ""
           }
          },
          "coloraxis": {
           "colorbar": {
            "outlinewidth": 0,
            "ticks": ""
           }
          },
          "colorscale": {
           "sequential": [
            [
             0.0,
             "#0d0887"
            ],
            [
             0.1111111111111111,
             "#46039f"
            ],
            [
             0.2222222222222222,
             "#7201a8"
            ],
            [
             0.3333333333333333,
             "#9c179e"
            ],
            [
             0.4444444444444444,
             "#bd3786"
            ],
            [
             0.5555555555555556,
             "#d8576b"
            ],
            [
             0.6666666666666666,
             "#ed7953"
            ],
            [
             0.7777777777777778,
             "#fb9f3a"
            ],
            [
             0.8888888888888888,
             "#fdca26"
            ],
            [
             1.0,
             "#f0f921"
            ]
           ],
           "sequentialminus": [
            [
             0.0,
             "#0d0887"
            ],
            [
             0.1111111111111111,
             "#46039f"
            ],
            [
             0.2222222222222222,
             "#7201a8"
            ],
            [
             0.3333333333333333,
             "#9c179e"
            ],
            [
             0.4444444444444444,
             "#bd3786"
            ],
            [
             0.5555555555555556,
             "#d8576b"
            ],
            [
             0.6666666666666666,
             "#ed7953"
            ],
            [
             0.7777777777777778,
             "#fb9f3a"
            ],
            [
             0.8888888888888888,
             "#fdca26"
            ],
            [
             1.0,
             "#f0f921"
            ]
           ],
           "diverging": [
            [
             0,
             "#8e0152"
            ],
            [
             0.1,
             "#c51b7d"
            ],
            [
             0.2,
             "#de77ae"
            ],
            [
             0.3,
             "#f1b6da"
            ],
            [
             0.4,
             "#fde0ef"
            ],
            [
             0.5,
             "#f7f7f7"
            ],
            [
             0.6,
             "#e6f5d0"
            ],
            [
             0.7,
             "#b8e186"
            ],
            [
             0.8,
             "#7fbc41"
            ],
            [
             0.9,
             "#4d9221"
            ],
            [
             1,
             "#276419"
            ]
           ]
          },
          "xaxis": {
           "gridcolor": "white",
           "linecolor": "white",
           "ticks": "",
           "title": {
            "standoff": 15
           },
           "zerolinecolor": "white",
           "automargin": true,
           "zerolinewidth": 2
          },
          "yaxis": {
           "gridcolor": "white",
           "linecolor": "white",
           "ticks": "",
           "title": {
            "standoff": 15
           },
           "zerolinecolor": "white",
           "automargin": true,
           "zerolinewidth": 2
          },
          "scene": {
           "xaxis": {
            "backgroundcolor": "#E5ECF6",
            "gridcolor": "white",
            "linecolor": "white",
            "showbackground": true,
            "ticks": "",
            "zerolinecolor": "white",
            "gridwidth": 2
           },
           "yaxis": {
            "backgroundcolor": "#E5ECF6",
            "gridcolor": "white",
            "linecolor": "white",
            "showbackground": true,
            "ticks": "",
            "zerolinecolor": "white",
            "gridwidth": 2
           },
           "zaxis": {
            "backgroundcolor": "#E5ECF6",
            "gridcolor": "white",
            "linecolor": "white",
            "showbackground": true,
            "ticks": "",
            "zerolinecolor": "white",
            "gridwidth": 2
           }
          },
          "shapedefaults": {
           "line": {
            "color": "#2a3f5f"
           }
          },
          "annotationdefaults": {
           "arrowcolor": "#2a3f5f",
           "arrowhead": 0,
           "arrowwidth": 1
          },
          "geo": {
           "bgcolor": "white",
           "landcolor": "#E5ECF6",
           "subunitcolor": "white",
           "showland": true,
           "showlakes": true,
           "lakecolor": "white"
          },
          "title": {
           "x": 0.05
          },
          "mapbox": {
           "style": "light"
          }
         }
        },
        "xaxis": {
         "anchor": "y",
         "domain": [
          0.0,
          1.0
         ],
         "title": {
          "text": "x"
         }
        },
        "yaxis": {
         "anchor": "x",
         "domain": [
          0.0,
          1.0
         ],
         "title": {
          "text": "y"
         }
        },
        "legend": {
         "tracegroupgap": 0
        },
        "title": {
         "text": "ln"
        }
       },
       "config": {
        "plotlyServerURL": "https://plot.ly"
       }
      },
      "text/html": "<div>                            <div id=\"38260378-10e0-4ab0-9991-8e39c00ad695\" class=\"plotly-graph-div\" style=\"height:525px; width:100%;\"></div>            <script type=\"text/javascript\">                require([\"plotly\"], function(Plotly) {                    window.PLOTLYENV=window.PLOTLYENV || {};                                    if (document.getElementById(\"38260378-10e0-4ab0-9991-8e39c00ad695\")) {                    Plotly.newPlot(                        \"38260378-10e0-4ab0-9991-8e39c00ad695\",                        [{\"hovertemplate\":\"x=%{x}\\u003cbr\\u003ey=%{y}\\u003cextra\\u003e\\u003c\\u002fextra\\u003e\",\"legendgroup\":\"\",\"line\":{\"color\":\"#636efa\",\"dash\":\"solid\"},\"marker\":{\"symbol\":\"circle\"},\"mode\":\"lines\",\"name\":\"\",\"orientation\":\"v\",\"showlegend\":false,\"x\":[0.1,0.2,0.3,0.4,0.5,0.6,0.7,0.8,0.9,1.0,1.1,1.2,1.3,1.4,1.5,1.6,1.7,1.8,1.9,2.0,2.1,2.2,2.3,2.4,2.5,2.6,2.7,2.8,2.9,3.0,3.1,3.2,3.3,3.4,3.5,3.6,3.7,3.8,3.9,4.0,4.1,4.2,4.3,4.4,4.5,4.6,4.7,4.8,4.9,5.0,5.1,5.2,5.3,5.4,5.5,5.6,5.7,5.8,5.9,6.0,6.1,6.2,6.3,6.4,6.5,6.6,6.7,6.8,6.9,7.0,7.1,7.2,7.3,7.4,7.5,7.6,7.7,7.8,7.9,8.0,8.1,8.2,8.3,8.4,8.5,8.6,8.7,8.8,8.9,9.0,9.1,9.2,9.3,9.4,9.5,9.6,9.7,9.8,9.9,10.0,10.1,10.2,10.3,10.4,10.5,10.6,10.7,10.8,10.9,11.0],\"xaxis\":\"x\",\"y\":[-2.298904,-1.609406,-1.203973,-0.916291,-0.693147,-0.510826,-0.356675,-0.223144,-0.105361,-0.0,0.09531,0.182322,0.262364,0.336472,0.405465,0.470004,0.530628,0.587787,0.641854,0.693147,0.741937,0.788457,0.832909,0.875469,0.916291,0.955511,0.993252,1.029619,1.064711,1.098612,1.131402,1.163151,1.193922,1.223775,1.252762,1.280933,1.308332,1.334999,1.360974,1.386291,1.410983,1.435079,1.458608,1.481596,1.504066,1.526042,1.547545,1.568594,1.589209,1.609406,1.629202,1.648612,1.667652,1.686335,1.704673,1.722679,1.740365,1.757741,1.774818,1.791606,1.808115,1.824352,1.840328,1.856048,1.871523,1.886758,1.901761,1.916538,1.931096,1.945441,1.959579,1.973515,1.987255,2.000803,2.014166,2.027347,2.040351,2.053182,2.065846,2.078344,2.090683,2.102864,2.114893,2.126772,2.138505,2.150094,2.161544,2.172857,2.184036,2.195083,2.206003,2.216796,2.227466,2.238016,2.248447,2.258761,2.268962,2.279052,2.289032,2.298904,2.308671,2.318334,2.327896,2.337358,2.346721,2.355989,2.365161,2.374241,2.383229,2.392127],\"yaxis\":\"y\",\"type\":\"scatter\"}],                        {\"template\":{\"data\":{\"histogram2dcontour\":[{\"type\":\"histogram2dcontour\",\"colorbar\":{\"outlinewidth\":0,\"ticks\":\"\"},\"colorscale\":[[0.0,\"#0d0887\"],[0.1111111111111111,\"#46039f\"],[0.2222222222222222,\"#7201a8\"],[0.3333333333333333,\"#9c179e\"],[0.4444444444444444,\"#bd3786\"],[0.5555555555555556,\"#d8576b\"],[0.6666666666666666,\"#ed7953\"],[0.7777777777777778,\"#fb9f3a\"],[0.8888888888888888,\"#fdca26\"],[1.0,\"#f0f921\"]]}],\"choropleth\":[{\"type\":\"choropleth\",\"colorbar\":{\"outlinewidth\":0,\"ticks\":\"\"}}],\"histogram2d\":[{\"type\":\"histogram2d\",\"colorbar\":{\"outlinewidth\":0,\"ticks\":\"\"},\"colorscale\":[[0.0,\"#0d0887\"],[0.1111111111111111,\"#46039f\"],[0.2222222222222222,\"#7201a8\"],[0.3333333333333333,\"#9c179e\"],[0.4444444444444444,\"#bd3786\"],[0.5555555555555556,\"#d8576b\"],[0.6666666666666666,\"#ed7953\"],[0.7777777777777778,\"#fb9f3a\"],[0.8888888888888888,\"#fdca26\"],[1.0,\"#f0f921\"]]}],\"heatmap\":[{\"type\":\"heatmap\",\"colorbar\":{\"outlinewidth\":0,\"ticks\":\"\"},\"colorscale\":[[0.0,\"#0d0887\"],[0.1111111111111111,\"#46039f\"],[0.2222222222222222,\"#7201a8\"],[0.3333333333333333,\"#9c179e\"],[0.4444444444444444,\"#bd3786\"],[0.5555555555555556,\"#d8576b\"],[0.6666666666666666,\"#ed7953\"],[0.7777777777777778,\"#fb9f3a\"],[0.8888888888888888,\"#fdca26\"],[1.0,\"#f0f921\"]]}],\"heatmapgl\":[{\"type\":\"heatmapgl\",\"colorbar\":{\"outlinewidth\":0,\"ticks\":\"\"},\"colorscale\":[[0.0,\"#0d0887\"],[0.1111111111111111,\"#46039f\"],[0.2222222222222222,\"#7201a8\"],[0.3333333333333333,\"#9c179e\"],[0.4444444444444444,\"#bd3786\"],[0.5555555555555556,\"#d8576b\"],[0.6666666666666666,\"#ed7953\"],[0.7777777777777778,\"#fb9f3a\"],[0.8888888888888888,\"#fdca26\"],[1.0,\"#f0f921\"]]}],\"contourcarpet\":[{\"type\":\"contourcarpet\",\"colorbar\":{\"outlinewidth\":0,\"ticks\":\"\"}}],\"contour\":[{\"type\":\"contour\",\"colorbar\":{\"outlinewidth\":0,\"ticks\":\"\"},\"colorscale\":[[0.0,\"#0d0887\"],[0.1111111111111111,\"#46039f\"],[0.2222222222222222,\"#7201a8\"],[0.3333333333333333,\"#9c179e\"],[0.4444444444444444,\"#bd3786\"],[0.5555555555555556,\"#d8576b\"],[0.6666666666666666,\"#ed7953\"],[0.7777777777777778,\"#fb9f3a\"],[0.8888888888888888,\"#fdca26\"],[1.0,\"#f0f921\"]]}],\"surface\":[{\"type\":\"surface\",\"colorbar\":{\"outlinewidth\":0,\"ticks\":\"\"},\"colorscale\":[[0.0,\"#0d0887\"],[0.1111111111111111,\"#46039f\"],[0.2222222222222222,\"#7201a8\"],[0.3333333333333333,\"#9c179e\"],[0.4444444444444444,\"#bd3786\"],[0.5555555555555556,\"#d8576b\"],[0.6666666666666666,\"#ed7953\"],[0.7777777777777778,\"#fb9f3a\"],[0.8888888888888888,\"#fdca26\"],[1.0,\"#f0f921\"]]}],\"mesh3d\":[{\"type\":\"mesh3d\",\"colorbar\":{\"outlinewidth\":0,\"ticks\":\"\"}}],\"scatter\":[{\"fillpattern\":{\"fillmode\":\"overlay\",\"size\":10,\"solidity\":0.2},\"type\":\"scatter\"}],\"parcoords\":[{\"type\":\"parcoords\",\"line\":{\"colorbar\":{\"outlinewidth\":0,\"ticks\":\"\"}}}],\"scatterpolargl\":[{\"type\":\"scatterpolargl\",\"marker\":{\"colorbar\":{\"outlinewidth\":0,\"ticks\":\"\"}}}],\"bar\":[{\"error_x\":{\"color\":\"#2a3f5f\"},\"error_y\":{\"color\":\"#2a3f5f\"},\"marker\":{\"line\":{\"color\":\"#E5ECF6\",\"width\":0.5},\"pattern\":{\"fillmode\":\"overlay\",\"size\":10,\"solidity\":0.2}},\"type\":\"bar\"}],\"scattergeo\":[{\"type\":\"scattergeo\",\"marker\":{\"colorbar\":{\"outlinewidth\":0,\"ticks\":\"\"}}}],\"scatterpolar\":[{\"type\":\"scatterpolar\",\"marker\":{\"colorbar\":{\"outlinewidth\":0,\"ticks\":\"\"}}}],\"histogram\":[{\"marker\":{\"pattern\":{\"fillmode\":\"overlay\",\"size\":10,\"solidity\":0.2}},\"type\":\"histogram\"}],\"scattergl\":[{\"type\":\"scattergl\",\"marker\":{\"colorbar\":{\"outlinewidth\":0,\"ticks\":\"\"}}}],\"scatter3d\":[{\"type\":\"scatter3d\",\"line\":{\"colorbar\":{\"outlinewidth\":0,\"ticks\":\"\"}},\"marker\":{\"colorbar\":{\"outlinewidth\":0,\"ticks\":\"\"}}}],\"scattermapbox\":[{\"type\":\"scattermapbox\",\"marker\":{\"colorbar\":{\"outlinewidth\":0,\"ticks\":\"\"}}}],\"scatterternary\":[{\"type\":\"scatterternary\",\"marker\":{\"colorbar\":{\"outlinewidth\":0,\"ticks\":\"\"}}}],\"scattercarpet\":[{\"type\":\"scattercarpet\",\"marker\":{\"colorbar\":{\"outlinewidth\":0,\"ticks\":\"\"}}}],\"carpet\":[{\"aaxis\":{\"endlinecolor\":\"#2a3f5f\",\"gridcolor\":\"white\",\"linecolor\":\"white\",\"minorgridcolor\":\"white\",\"startlinecolor\":\"#2a3f5f\"},\"baxis\":{\"endlinecolor\":\"#2a3f5f\",\"gridcolor\":\"white\",\"linecolor\":\"white\",\"minorgridcolor\":\"white\",\"startlinecolor\":\"#2a3f5f\"},\"type\":\"carpet\"}],\"table\":[{\"cells\":{\"fill\":{\"color\":\"#EBF0F8\"},\"line\":{\"color\":\"white\"}},\"header\":{\"fill\":{\"color\":\"#C8D4E3\"},\"line\":{\"color\":\"white\"}},\"type\":\"table\"}],\"barpolar\":[{\"marker\":{\"line\":{\"color\":\"#E5ECF6\",\"width\":0.5},\"pattern\":{\"fillmode\":\"overlay\",\"size\":10,\"solidity\":0.2}},\"type\":\"barpolar\"}],\"pie\":[{\"automargin\":true,\"type\":\"pie\"}]},\"layout\":{\"autotypenumbers\":\"strict\",\"colorway\":[\"#636efa\",\"#EF553B\",\"#00cc96\",\"#ab63fa\",\"#FFA15A\",\"#19d3f3\",\"#FF6692\",\"#B6E880\",\"#FF97FF\",\"#FECB52\"],\"font\":{\"color\":\"#2a3f5f\"},\"hovermode\":\"closest\",\"hoverlabel\":{\"align\":\"left\"},\"paper_bgcolor\":\"white\",\"plot_bgcolor\":\"#E5ECF6\",\"polar\":{\"bgcolor\":\"#E5ECF6\",\"angularaxis\":{\"gridcolor\":\"white\",\"linecolor\":\"white\",\"ticks\":\"\"},\"radialaxis\":{\"gridcolor\":\"white\",\"linecolor\":\"white\",\"ticks\":\"\"}},\"ternary\":{\"bgcolor\":\"#E5ECF6\",\"aaxis\":{\"gridcolor\":\"white\",\"linecolor\":\"white\",\"ticks\":\"\"},\"baxis\":{\"gridcolor\":\"white\",\"linecolor\":\"white\",\"ticks\":\"\"},\"caxis\":{\"gridcolor\":\"white\",\"linecolor\":\"white\",\"ticks\":\"\"}},\"coloraxis\":{\"colorbar\":{\"outlinewidth\":0,\"ticks\":\"\"}},\"colorscale\":{\"sequential\":[[0.0,\"#0d0887\"],[0.1111111111111111,\"#46039f\"],[0.2222222222222222,\"#7201a8\"],[0.3333333333333333,\"#9c179e\"],[0.4444444444444444,\"#bd3786\"],[0.5555555555555556,\"#d8576b\"],[0.6666666666666666,\"#ed7953\"],[0.7777777777777778,\"#fb9f3a\"],[0.8888888888888888,\"#fdca26\"],[1.0,\"#f0f921\"]],\"sequentialminus\":[[0.0,\"#0d0887\"],[0.1111111111111111,\"#46039f\"],[0.2222222222222222,\"#7201a8\"],[0.3333333333333333,\"#9c179e\"],[0.4444444444444444,\"#bd3786\"],[0.5555555555555556,\"#d8576b\"],[0.6666666666666666,\"#ed7953\"],[0.7777777777777778,\"#fb9f3a\"],[0.8888888888888888,\"#fdca26\"],[1.0,\"#f0f921\"]],\"diverging\":[[0,\"#8e0152\"],[0.1,\"#c51b7d\"],[0.2,\"#de77ae\"],[0.3,\"#f1b6da\"],[0.4,\"#fde0ef\"],[0.5,\"#f7f7f7\"],[0.6,\"#e6f5d0\"],[0.7,\"#b8e186\"],[0.8,\"#7fbc41\"],[0.9,\"#4d9221\"],[1,\"#276419\"]]},\"xaxis\":{\"gridcolor\":\"white\",\"linecolor\":\"white\",\"ticks\":\"\",\"title\":{\"standoff\":15},\"zerolinecolor\":\"white\",\"automargin\":true,\"zerolinewidth\":2},\"yaxis\":{\"gridcolor\":\"white\",\"linecolor\":\"white\",\"ticks\":\"\",\"title\":{\"standoff\":15},\"zerolinecolor\":\"white\",\"automargin\":true,\"zerolinewidth\":2},\"scene\":{\"xaxis\":{\"backgroundcolor\":\"#E5ECF6\",\"gridcolor\":\"white\",\"linecolor\":\"white\",\"showbackground\":true,\"ticks\":\"\",\"zerolinecolor\":\"white\",\"gridwidth\":2},\"yaxis\":{\"backgroundcolor\":\"#E5ECF6\",\"gridcolor\":\"white\",\"linecolor\":\"white\",\"showbackground\":true,\"ticks\":\"\",\"zerolinecolor\":\"white\",\"gridwidth\":2},\"zaxis\":{\"backgroundcolor\":\"#E5ECF6\",\"gridcolor\":\"white\",\"linecolor\":\"white\",\"showbackground\":true,\"ticks\":\"\",\"zerolinecolor\":\"white\",\"gridwidth\":2}},\"shapedefaults\":{\"line\":{\"color\":\"#2a3f5f\"}},\"annotationdefaults\":{\"arrowcolor\":\"#2a3f5f\",\"arrowhead\":0,\"arrowwidth\":1},\"geo\":{\"bgcolor\":\"white\",\"landcolor\":\"#E5ECF6\",\"subunitcolor\":\"white\",\"showland\":true,\"showlakes\":true,\"lakecolor\":\"white\"},\"title\":{\"x\":0.05},\"mapbox\":{\"style\":\"light\"}}},\"xaxis\":{\"anchor\":\"y\",\"domain\":[0.0,1.0],\"title\":{\"text\":\"x\"}},\"yaxis\":{\"anchor\":\"x\",\"domain\":[0.0,1.0],\"title\":{\"text\":\"y\"}},\"legend\":{\"tracegroupgap\":0},\"title\":{\"text\":\"ln\"}},                        {\"responsive\": true}                    ).then(function(){\n                            \nvar gd = document.getElementById('38260378-10e0-4ab0-9991-8e39c00ad695');\nvar x = new MutationObserver(function (mutations, observer) {{\n        var display = window.getComputedStyle(gd).display;\n        if (!display || display === 'none') {{\n            console.log([gd, 'removed!']);\n            Plotly.purge(gd);\n            observer.disconnect();\n        }}\n}});\n\n// Listen for the removal of the full notebook cells\nvar notebookContainer = gd.closest('#notebook-container');\nif (notebookContainer) {{\n    x.observe(notebookContainer, {childList: true});\n}}\n\n// Listen for the clearing of the current output cell\nvar outputEl = gd.closest('.output');\nif (outputEl) {{\n    x.observe(outputEl, {childList: true});\n}}\n\n                        })                };                });            </script>        </div>"
     },
     "metadata": {},
     "output_type": "display_data"
    },
    {
     "data": {
      "application/vnd.plotly.v1+json": {
       "data": [
        {
         "hovertemplate": "x=%{x}<br>y=%{y}<extra></extra>",
         "legendgroup": "",
         "line": {
          "color": "#636efa",
          "dash": "solid"
         },
         "marker": {
          "symbol": "circle"
         },
         "mode": "lines",
         "name": "",
         "orientation": "v",
         "showlegend": false,
         "x": [
          0.1,
          0.2,
          0.3,
          0.4,
          0.5,
          0.6,
          0.7,
          0.8,
          0.9,
          1.0,
          1.1,
          1.2,
          1.3,
          1.4,
          1.5,
          1.6,
          1.7,
          1.8,
          1.9,
          2.0,
          2.1,
          2.2,
          2.3,
          2.4,
          2.5,
          2.6,
          2.7,
          2.8,
          2.9,
          3.0,
          3.1,
          3.2,
          3.3,
          3.4,
          3.5,
          3.6,
          3.7,
          3.8,
          3.9,
          4.0,
          4.1,
          4.2,
          4.3,
          4.4,
          4.5,
          4.6,
          4.7,
          4.8,
          4.9,
          5.0,
          5.1,
          5.2,
          5.3,
          5.4,
          5.5,
          5.6,
          5.7,
          5.8,
          5.9,
          6.0,
          6.1,
          6.2,
          6.3,
          6.4,
          6.5,
          6.6,
          6.7,
          6.8,
          6.9,
          7.0,
          7.1,
          7.2,
          7.3,
          7.4,
          7.5,
          7.6,
          7.7,
          7.8,
          7.9,
          8.0,
          8.1,
          8.2,
          8.3,
          8.4,
          8.5,
          8.6,
          8.7,
          8.8,
          8.9,
          9.0,
          9.1,
          9.2,
          9.3,
          9.4,
          9.5,
          9.6,
          9.7,
          9.8,
          9.9,
          10.0,
          10.1,
          10.2,
          10.3,
          10.4,
          10.5,
          10.6,
          10.7,
          10.8,
          10.9,
          11.0
         ],
         "xaxis": "x",
         "y": [
          -3.316618,
          -2.321882,
          -1.736965,
          -1.321928,
          -1.0,
          -0.736966,
          -0.514573,
          -0.321928,
          -0.152003,
          -0.0,
          0.137504,
          0.263034,
          0.378512,
          0.485427,
          0.584963,
          0.678072,
          0.765535,
          0.847997,
          0.925999,
          1.0,
          1.070389,
          1.137504,
          1.201634,
          1.263034,
          1.321928,
          1.378512,
          1.432959,
          1.485427,
          1.536053,
          1.584962,
          1.632268,
          1.678072,
          1.722466,
          1.765534,
          1.807354,
          1.847996,
          1.887524,
          1.925997,
          1.963471,
          1.999996,
          2.035618,
          2.070381,
          2.104326,
          2.13749,
          2.169909,
          2.201613,
          2.232635,
          2.263003,
          2.292743,
          2.321882,
          2.350441,
          2.378445,
          2.405913,
          2.432867,
          2.459323,
          2.4853,
          2.510816,
          2.535884,
          2.560522,
          2.584742,
          2.608558,
          2.631984,
          2.655031,
          2.677712,
          2.700037,
          2.722016,
          2.743661,
          2.76498,
          2.785983,
          2.806678,
          2.827074,
          2.84718,
          2.867002,
          2.886549,
          2.905827,
          2.924843,
          2.943604,
          2.962116,
          2.980385,
          2.998417,
          3.016218,
          3.033792,
          3.051146,
          3.068283,
          3.08521,
          3.10193,
          3.118449,
          3.13477,
          3.150897,
          3.166836,
          3.182589,
          3.198161,
          3.213554,
          3.228774,
          3.243823,
          3.258704,
          3.273421,
          3.287977,
          3.302375,
          3.316618,
          3.330708,
          3.344649,
          3.358444,
          3.372094,
          3.385603,
          3.398973,
          3.412206,
          3.425305,
          3.438273,
          3.45111
         ],
         "yaxis": "y",
         "type": "scatter"
        }
       ],
       "layout": {
        "template": {
         "data": {
          "histogram2dcontour": [
           {
            "type": "histogram2dcontour",
            "colorbar": {
             "outlinewidth": 0,
             "ticks": ""
            },
            "colorscale": [
             [
              0.0,
              "#0d0887"
             ],
             [
              0.1111111111111111,
              "#46039f"
             ],
             [
              0.2222222222222222,
              "#7201a8"
             ],
             [
              0.3333333333333333,
              "#9c179e"
             ],
             [
              0.4444444444444444,
              "#bd3786"
             ],
             [
              0.5555555555555556,
              "#d8576b"
             ],
             [
              0.6666666666666666,
              "#ed7953"
             ],
             [
              0.7777777777777778,
              "#fb9f3a"
             ],
             [
              0.8888888888888888,
              "#fdca26"
             ],
             [
              1.0,
              "#f0f921"
             ]
            ]
           }
          ],
          "choropleth": [
           {
            "type": "choropleth",
            "colorbar": {
             "outlinewidth": 0,
             "ticks": ""
            }
           }
          ],
          "histogram2d": [
           {
            "type": "histogram2d",
            "colorbar": {
             "outlinewidth": 0,
             "ticks": ""
            },
            "colorscale": [
             [
              0.0,
              "#0d0887"
             ],
             [
              0.1111111111111111,
              "#46039f"
             ],
             [
              0.2222222222222222,
              "#7201a8"
             ],
             [
              0.3333333333333333,
              "#9c179e"
             ],
             [
              0.4444444444444444,
              "#bd3786"
             ],
             [
              0.5555555555555556,
              "#d8576b"
             ],
             [
              0.6666666666666666,
              "#ed7953"
             ],
             [
              0.7777777777777778,
              "#fb9f3a"
             ],
             [
              0.8888888888888888,
              "#fdca26"
             ],
             [
              1.0,
              "#f0f921"
             ]
            ]
           }
          ],
          "heatmap": [
           {
            "type": "heatmap",
            "colorbar": {
             "outlinewidth": 0,
             "ticks": ""
            },
            "colorscale": [
             [
              0.0,
              "#0d0887"
             ],
             [
              0.1111111111111111,
              "#46039f"
             ],
             [
              0.2222222222222222,
              "#7201a8"
             ],
             [
              0.3333333333333333,
              "#9c179e"
             ],
             [
              0.4444444444444444,
              "#bd3786"
             ],
             [
              0.5555555555555556,
              "#d8576b"
             ],
             [
              0.6666666666666666,
              "#ed7953"
             ],
             [
              0.7777777777777778,
              "#fb9f3a"
             ],
             [
              0.8888888888888888,
              "#fdca26"
             ],
             [
              1.0,
              "#f0f921"
             ]
            ]
           }
          ],
          "heatmapgl": [
           {
            "type": "heatmapgl",
            "colorbar": {
             "outlinewidth": 0,
             "ticks": ""
            },
            "colorscale": [
             [
              0.0,
              "#0d0887"
             ],
             [
              0.1111111111111111,
              "#46039f"
             ],
             [
              0.2222222222222222,
              "#7201a8"
             ],
             [
              0.3333333333333333,
              "#9c179e"
             ],
             [
              0.4444444444444444,
              "#bd3786"
             ],
             [
              0.5555555555555556,
              "#d8576b"
             ],
             [
              0.6666666666666666,
              "#ed7953"
             ],
             [
              0.7777777777777778,
              "#fb9f3a"
             ],
             [
              0.8888888888888888,
              "#fdca26"
             ],
             [
              1.0,
              "#f0f921"
             ]
            ]
           }
          ],
          "contourcarpet": [
           {
            "type": "contourcarpet",
            "colorbar": {
             "outlinewidth": 0,
             "ticks": ""
            }
           }
          ],
          "contour": [
           {
            "type": "contour",
            "colorbar": {
             "outlinewidth": 0,
             "ticks": ""
            },
            "colorscale": [
             [
              0.0,
              "#0d0887"
             ],
             [
              0.1111111111111111,
              "#46039f"
             ],
             [
              0.2222222222222222,
              "#7201a8"
             ],
             [
              0.3333333333333333,
              "#9c179e"
             ],
             [
              0.4444444444444444,
              "#bd3786"
             ],
             [
              0.5555555555555556,
              "#d8576b"
             ],
             [
              0.6666666666666666,
              "#ed7953"
             ],
             [
              0.7777777777777778,
              "#fb9f3a"
             ],
             [
              0.8888888888888888,
              "#fdca26"
             ],
             [
              1.0,
              "#f0f921"
             ]
            ]
           }
          ],
          "surface": [
           {
            "type": "surface",
            "colorbar": {
             "outlinewidth": 0,
             "ticks": ""
            },
            "colorscale": [
             [
              0.0,
              "#0d0887"
             ],
             [
              0.1111111111111111,
              "#46039f"
             ],
             [
              0.2222222222222222,
              "#7201a8"
             ],
             [
              0.3333333333333333,
              "#9c179e"
             ],
             [
              0.4444444444444444,
              "#bd3786"
             ],
             [
              0.5555555555555556,
              "#d8576b"
             ],
             [
              0.6666666666666666,
              "#ed7953"
             ],
             [
              0.7777777777777778,
              "#fb9f3a"
             ],
             [
              0.8888888888888888,
              "#fdca26"
             ],
             [
              1.0,
              "#f0f921"
             ]
            ]
           }
          ],
          "mesh3d": [
           {
            "type": "mesh3d",
            "colorbar": {
             "outlinewidth": 0,
             "ticks": ""
            }
           }
          ],
          "scatter": [
           {
            "fillpattern": {
             "fillmode": "overlay",
             "size": 10,
             "solidity": 0.2
            },
            "type": "scatter"
           }
          ],
          "parcoords": [
           {
            "type": "parcoords",
            "line": {
             "colorbar": {
              "outlinewidth": 0,
              "ticks": ""
             }
            }
           }
          ],
          "scatterpolargl": [
           {
            "type": "scatterpolargl",
            "marker": {
             "colorbar": {
              "outlinewidth": 0,
              "ticks": ""
             }
            }
           }
          ],
          "bar": [
           {
            "error_x": {
             "color": "#2a3f5f"
            },
            "error_y": {
             "color": "#2a3f5f"
            },
            "marker": {
             "line": {
              "color": "#E5ECF6",
              "width": 0.5
             },
             "pattern": {
              "fillmode": "overlay",
              "size": 10,
              "solidity": 0.2
             }
            },
            "type": "bar"
           }
          ],
          "scattergeo": [
           {
            "type": "scattergeo",
            "marker": {
             "colorbar": {
              "outlinewidth": 0,
              "ticks": ""
             }
            }
           }
          ],
          "scatterpolar": [
           {
            "type": "scatterpolar",
            "marker": {
             "colorbar": {
              "outlinewidth": 0,
              "ticks": ""
             }
            }
           }
          ],
          "histogram": [
           {
            "marker": {
             "pattern": {
              "fillmode": "overlay",
              "size": 10,
              "solidity": 0.2
             }
            },
            "type": "histogram"
           }
          ],
          "scattergl": [
           {
            "type": "scattergl",
            "marker": {
             "colorbar": {
              "outlinewidth": 0,
              "ticks": ""
             }
            }
           }
          ],
          "scatter3d": [
           {
            "type": "scatter3d",
            "line": {
             "colorbar": {
              "outlinewidth": 0,
              "ticks": ""
             }
            },
            "marker": {
             "colorbar": {
              "outlinewidth": 0,
              "ticks": ""
             }
            }
           }
          ],
          "scattermapbox": [
           {
            "type": "scattermapbox",
            "marker": {
             "colorbar": {
              "outlinewidth": 0,
              "ticks": ""
             }
            }
           }
          ],
          "scatterternary": [
           {
            "type": "scatterternary",
            "marker": {
             "colorbar": {
              "outlinewidth": 0,
              "ticks": ""
             }
            }
           }
          ],
          "scattercarpet": [
           {
            "type": "scattercarpet",
            "marker": {
             "colorbar": {
              "outlinewidth": 0,
              "ticks": ""
             }
            }
           }
          ],
          "carpet": [
           {
            "aaxis": {
             "endlinecolor": "#2a3f5f",
             "gridcolor": "white",
             "linecolor": "white",
             "minorgridcolor": "white",
             "startlinecolor": "#2a3f5f"
            },
            "baxis": {
             "endlinecolor": "#2a3f5f",
             "gridcolor": "white",
             "linecolor": "white",
             "minorgridcolor": "white",
             "startlinecolor": "#2a3f5f"
            },
            "type": "carpet"
           }
          ],
          "table": [
           {
            "cells": {
             "fill": {
              "color": "#EBF0F8"
             },
             "line": {
              "color": "white"
             }
            },
            "header": {
             "fill": {
              "color": "#C8D4E3"
             },
             "line": {
              "color": "white"
             }
            },
            "type": "table"
           }
          ],
          "barpolar": [
           {
            "marker": {
             "line": {
              "color": "#E5ECF6",
              "width": 0.5
             },
             "pattern": {
              "fillmode": "overlay",
              "size": 10,
              "solidity": 0.2
             }
            },
            "type": "barpolar"
           }
          ],
          "pie": [
           {
            "automargin": true,
            "type": "pie"
           }
          ]
         },
         "layout": {
          "autotypenumbers": "strict",
          "colorway": [
           "#636efa",
           "#EF553B",
           "#00cc96",
           "#ab63fa",
           "#FFA15A",
           "#19d3f3",
           "#FF6692",
           "#B6E880",
           "#FF97FF",
           "#FECB52"
          ],
          "font": {
           "color": "#2a3f5f"
          },
          "hovermode": "closest",
          "hoverlabel": {
           "align": "left"
          },
          "paper_bgcolor": "white",
          "plot_bgcolor": "#E5ECF6",
          "polar": {
           "bgcolor": "#E5ECF6",
           "angularaxis": {
            "gridcolor": "white",
            "linecolor": "white",
            "ticks": ""
           },
           "radialaxis": {
            "gridcolor": "white",
            "linecolor": "white",
            "ticks": ""
           }
          },
          "ternary": {
           "bgcolor": "#E5ECF6",
           "aaxis": {
            "gridcolor": "white",
            "linecolor": "white",
            "ticks": ""
           },
           "baxis": {
            "gridcolor": "white",
            "linecolor": "white",
            "ticks": ""
           },
           "caxis": {
            "gridcolor": "white",
            "linecolor": "white",
            "ticks": ""
           }
          },
          "coloraxis": {
           "colorbar": {
            "outlinewidth": 0,
            "ticks": ""
           }
          },
          "colorscale": {
           "sequential": [
            [
             0.0,
             "#0d0887"
            ],
            [
             0.1111111111111111,
             "#46039f"
            ],
            [
             0.2222222222222222,
             "#7201a8"
            ],
            [
             0.3333333333333333,
             "#9c179e"
            ],
            [
             0.4444444444444444,
             "#bd3786"
            ],
            [
             0.5555555555555556,
             "#d8576b"
            ],
            [
             0.6666666666666666,
             "#ed7953"
            ],
            [
             0.7777777777777778,
             "#fb9f3a"
            ],
            [
             0.8888888888888888,
             "#fdca26"
            ],
            [
             1.0,
             "#f0f921"
            ]
           ],
           "sequentialminus": [
            [
             0.0,
             "#0d0887"
            ],
            [
             0.1111111111111111,
             "#46039f"
            ],
            [
             0.2222222222222222,
             "#7201a8"
            ],
            [
             0.3333333333333333,
             "#9c179e"
            ],
            [
             0.4444444444444444,
             "#bd3786"
            ],
            [
             0.5555555555555556,
             "#d8576b"
            ],
            [
             0.6666666666666666,
             "#ed7953"
            ],
            [
             0.7777777777777778,
             "#fb9f3a"
            ],
            [
             0.8888888888888888,
             "#fdca26"
            ],
            [
             1.0,
             "#f0f921"
            ]
           ],
           "diverging": [
            [
             0,
             "#8e0152"
            ],
            [
             0.1,
             "#c51b7d"
            ],
            [
             0.2,
             "#de77ae"
            ],
            [
             0.3,
             "#f1b6da"
            ],
            [
             0.4,
             "#fde0ef"
            ],
            [
             0.5,
             "#f7f7f7"
            ],
            [
             0.6,
             "#e6f5d0"
            ],
            [
             0.7,
             "#b8e186"
            ],
            [
             0.8,
             "#7fbc41"
            ],
            [
             0.9,
             "#4d9221"
            ],
            [
             1,
             "#276419"
            ]
           ]
          },
          "xaxis": {
           "gridcolor": "white",
           "linecolor": "white",
           "ticks": "",
           "title": {
            "standoff": 15
           },
           "zerolinecolor": "white",
           "automargin": true,
           "zerolinewidth": 2
          },
          "yaxis": {
           "gridcolor": "white",
           "linecolor": "white",
           "ticks": "",
           "title": {
            "standoff": 15
           },
           "zerolinecolor": "white",
           "automargin": true,
           "zerolinewidth": 2
          },
          "scene": {
           "xaxis": {
            "backgroundcolor": "#E5ECF6",
            "gridcolor": "white",
            "linecolor": "white",
            "showbackground": true,
            "ticks": "",
            "zerolinecolor": "white",
            "gridwidth": 2
           },
           "yaxis": {
            "backgroundcolor": "#E5ECF6",
            "gridcolor": "white",
            "linecolor": "white",
            "showbackground": true,
            "ticks": "",
            "zerolinecolor": "white",
            "gridwidth": 2
           },
           "zaxis": {
            "backgroundcolor": "#E5ECF6",
            "gridcolor": "white",
            "linecolor": "white",
            "showbackground": true,
            "ticks": "",
            "zerolinecolor": "white",
            "gridwidth": 2
           }
          },
          "shapedefaults": {
           "line": {
            "color": "#2a3f5f"
           }
          },
          "annotationdefaults": {
           "arrowcolor": "#2a3f5f",
           "arrowhead": 0,
           "arrowwidth": 1
          },
          "geo": {
           "bgcolor": "white",
           "landcolor": "#E5ECF6",
           "subunitcolor": "white",
           "showland": true,
           "showlakes": true,
           "lakecolor": "white"
          },
          "title": {
           "x": 0.05
          },
          "mapbox": {
           "style": "light"
          }
         }
        },
        "xaxis": {
         "anchor": "y",
         "domain": [
          0.0,
          1.0
         ],
         "title": {
          "text": "x"
         }
        },
        "yaxis": {
         "anchor": "x",
         "domain": [
          0.0,
          1.0
         ],
         "title": {
          "text": "y"
         }
        },
        "legend": {
         "tracegroupgap": 0
        },
        "title": {
         "text": "log2"
        }
       },
       "config": {
        "plotlyServerURL": "https://plot.ly"
       }
      },
      "text/html": "<div>                            <div id=\"1ef5fd69-e912-4f0a-b9ad-fec352e4a501\" class=\"plotly-graph-div\" style=\"height:525px; width:100%;\"></div>            <script type=\"text/javascript\">                require([\"plotly\"], function(Plotly) {                    window.PLOTLYENV=window.PLOTLYENV || {};                                    if (document.getElementById(\"1ef5fd69-e912-4f0a-b9ad-fec352e4a501\")) {                    Plotly.newPlot(                        \"1ef5fd69-e912-4f0a-b9ad-fec352e4a501\",                        [{\"hovertemplate\":\"x=%{x}\\u003cbr\\u003ey=%{y}\\u003cextra\\u003e\\u003c\\u002fextra\\u003e\",\"legendgroup\":\"\",\"line\":{\"color\":\"#636efa\",\"dash\":\"solid\"},\"marker\":{\"symbol\":\"circle\"},\"mode\":\"lines\",\"name\":\"\",\"orientation\":\"v\",\"showlegend\":false,\"x\":[0.1,0.2,0.3,0.4,0.5,0.6,0.7,0.8,0.9,1.0,1.1,1.2,1.3,1.4,1.5,1.6,1.7,1.8,1.9,2.0,2.1,2.2,2.3,2.4,2.5,2.6,2.7,2.8,2.9,3.0,3.1,3.2,3.3,3.4,3.5,3.6,3.7,3.8,3.9,4.0,4.1,4.2,4.3,4.4,4.5,4.6,4.7,4.8,4.9,5.0,5.1,5.2,5.3,5.4,5.5,5.6,5.7,5.8,5.9,6.0,6.1,6.2,6.3,6.4,6.5,6.6,6.7,6.8,6.9,7.0,7.1,7.2,7.3,7.4,7.5,7.6,7.7,7.8,7.9,8.0,8.1,8.2,8.3,8.4,8.5,8.6,8.7,8.8,8.9,9.0,9.1,9.2,9.3,9.4,9.5,9.6,9.7,9.8,9.9,10.0,10.1,10.2,10.3,10.4,10.5,10.6,10.7,10.8,10.9,11.0],\"xaxis\":\"x\",\"y\":[-3.316618,-2.321882,-1.736965,-1.321928,-1.0,-0.736966,-0.514573,-0.321928,-0.152003,-0.0,0.137504,0.263034,0.378512,0.485427,0.584963,0.678072,0.765535,0.847997,0.925999,1.0,1.070389,1.137504,1.201634,1.263034,1.321928,1.378512,1.432959,1.485427,1.536053,1.584962,1.632268,1.678072,1.722466,1.765534,1.807354,1.847996,1.887524,1.925997,1.963471,1.999996,2.035618,2.070381,2.104326,2.13749,2.169909,2.201613,2.232635,2.263003,2.292743,2.321882,2.350441,2.378445,2.405913,2.432867,2.459323,2.4853,2.510816,2.535884,2.560522,2.584742,2.608558,2.631984,2.655031,2.677712,2.700037,2.722016,2.743661,2.76498,2.785983,2.806678,2.827074,2.84718,2.867002,2.886549,2.905827,2.924843,2.943604,2.962116,2.980385,2.998417,3.016218,3.033792,3.051146,3.068283,3.08521,3.10193,3.118449,3.13477,3.150897,3.166836,3.182589,3.198161,3.213554,3.228774,3.243823,3.258704,3.273421,3.287977,3.302375,3.316618,3.330708,3.344649,3.358444,3.372094,3.385603,3.398973,3.412206,3.425305,3.438273,3.45111],\"yaxis\":\"y\",\"type\":\"scatter\"}],                        {\"template\":{\"data\":{\"histogram2dcontour\":[{\"type\":\"histogram2dcontour\",\"colorbar\":{\"outlinewidth\":0,\"ticks\":\"\"},\"colorscale\":[[0.0,\"#0d0887\"],[0.1111111111111111,\"#46039f\"],[0.2222222222222222,\"#7201a8\"],[0.3333333333333333,\"#9c179e\"],[0.4444444444444444,\"#bd3786\"],[0.5555555555555556,\"#d8576b\"],[0.6666666666666666,\"#ed7953\"],[0.7777777777777778,\"#fb9f3a\"],[0.8888888888888888,\"#fdca26\"],[1.0,\"#f0f921\"]]}],\"choropleth\":[{\"type\":\"choropleth\",\"colorbar\":{\"outlinewidth\":0,\"ticks\":\"\"}}],\"histogram2d\":[{\"type\":\"histogram2d\",\"colorbar\":{\"outlinewidth\":0,\"ticks\":\"\"},\"colorscale\":[[0.0,\"#0d0887\"],[0.1111111111111111,\"#46039f\"],[0.2222222222222222,\"#7201a8\"],[0.3333333333333333,\"#9c179e\"],[0.4444444444444444,\"#bd3786\"],[0.5555555555555556,\"#d8576b\"],[0.6666666666666666,\"#ed7953\"],[0.7777777777777778,\"#fb9f3a\"],[0.8888888888888888,\"#fdca26\"],[1.0,\"#f0f921\"]]}],\"heatmap\":[{\"type\":\"heatmap\",\"colorbar\":{\"outlinewidth\":0,\"ticks\":\"\"},\"colorscale\":[[0.0,\"#0d0887\"],[0.1111111111111111,\"#46039f\"],[0.2222222222222222,\"#7201a8\"],[0.3333333333333333,\"#9c179e\"],[0.4444444444444444,\"#bd3786\"],[0.5555555555555556,\"#d8576b\"],[0.6666666666666666,\"#ed7953\"],[0.7777777777777778,\"#fb9f3a\"],[0.8888888888888888,\"#fdca26\"],[1.0,\"#f0f921\"]]}],\"heatmapgl\":[{\"type\":\"heatmapgl\",\"colorbar\":{\"outlinewidth\":0,\"ticks\":\"\"},\"colorscale\":[[0.0,\"#0d0887\"],[0.1111111111111111,\"#46039f\"],[0.2222222222222222,\"#7201a8\"],[0.3333333333333333,\"#9c179e\"],[0.4444444444444444,\"#bd3786\"],[0.5555555555555556,\"#d8576b\"],[0.6666666666666666,\"#ed7953\"],[0.7777777777777778,\"#fb9f3a\"],[0.8888888888888888,\"#fdca26\"],[1.0,\"#f0f921\"]]}],\"contourcarpet\":[{\"type\":\"contourcarpet\",\"colorbar\":{\"outlinewidth\":0,\"ticks\":\"\"}}],\"contour\":[{\"type\":\"contour\",\"colorbar\":{\"outlinewidth\":0,\"ticks\":\"\"},\"colorscale\":[[0.0,\"#0d0887\"],[0.1111111111111111,\"#46039f\"],[0.2222222222222222,\"#7201a8\"],[0.3333333333333333,\"#9c179e\"],[0.4444444444444444,\"#bd3786\"],[0.5555555555555556,\"#d8576b\"],[0.6666666666666666,\"#ed7953\"],[0.7777777777777778,\"#fb9f3a\"],[0.8888888888888888,\"#fdca26\"],[1.0,\"#f0f921\"]]}],\"surface\":[{\"type\":\"surface\",\"colorbar\":{\"outlinewidth\":0,\"ticks\":\"\"},\"colorscale\":[[0.0,\"#0d0887\"],[0.1111111111111111,\"#46039f\"],[0.2222222222222222,\"#7201a8\"],[0.3333333333333333,\"#9c179e\"],[0.4444444444444444,\"#bd3786\"],[0.5555555555555556,\"#d8576b\"],[0.6666666666666666,\"#ed7953\"],[0.7777777777777778,\"#fb9f3a\"],[0.8888888888888888,\"#fdca26\"],[1.0,\"#f0f921\"]]}],\"mesh3d\":[{\"type\":\"mesh3d\",\"colorbar\":{\"outlinewidth\":0,\"ticks\":\"\"}}],\"scatter\":[{\"fillpattern\":{\"fillmode\":\"overlay\",\"size\":10,\"solidity\":0.2},\"type\":\"scatter\"}],\"parcoords\":[{\"type\":\"parcoords\",\"line\":{\"colorbar\":{\"outlinewidth\":0,\"ticks\":\"\"}}}],\"scatterpolargl\":[{\"type\":\"scatterpolargl\",\"marker\":{\"colorbar\":{\"outlinewidth\":0,\"ticks\":\"\"}}}],\"bar\":[{\"error_x\":{\"color\":\"#2a3f5f\"},\"error_y\":{\"color\":\"#2a3f5f\"},\"marker\":{\"line\":{\"color\":\"#E5ECF6\",\"width\":0.5},\"pattern\":{\"fillmode\":\"overlay\",\"size\":10,\"solidity\":0.2}},\"type\":\"bar\"}],\"scattergeo\":[{\"type\":\"scattergeo\",\"marker\":{\"colorbar\":{\"outlinewidth\":0,\"ticks\":\"\"}}}],\"scatterpolar\":[{\"type\":\"scatterpolar\",\"marker\":{\"colorbar\":{\"outlinewidth\":0,\"ticks\":\"\"}}}],\"histogram\":[{\"marker\":{\"pattern\":{\"fillmode\":\"overlay\",\"size\":10,\"solidity\":0.2}},\"type\":\"histogram\"}],\"scattergl\":[{\"type\":\"scattergl\",\"marker\":{\"colorbar\":{\"outlinewidth\":0,\"ticks\":\"\"}}}],\"scatter3d\":[{\"type\":\"scatter3d\",\"line\":{\"colorbar\":{\"outlinewidth\":0,\"ticks\":\"\"}},\"marker\":{\"colorbar\":{\"outlinewidth\":0,\"ticks\":\"\"}}}],\"scattermapbox\":[{\"type\":\"scattermapbox\",\"marker\":{\"colorbar\":{\"outlinewidth\":0,\"ticks\":\"\"}}}],\"scatterternary\":[{\"type\":\"scatterternary\",\"marker\":{\"colorbar\":{\"outlinewidth\":0,\"ticks\":\"\"}}}],\"scattercarpet\":[{\"type\":\"scattercarpet\",\"marker\":{\"colorbar\":{\"outlinewidth\":0,\"ticks\":\"\"}}}],\"carpet\":[{\"aaxis\":{\"endlinecolor\":\"#2a3f5f\",\"gridcolor\":\"white\",\"linecolor\":\"white\",\"minorgridcolor\":\"white\",\"startlinecolor\":\"#2a3f5f\"},\"baxis\":{\"endlinecolor\":\"#2a3f5f\",\"gridcolor\":\"white\",\"linecolor\":\"white\",\"minorgridcolor\":\"white\",\"startlinecolor\":\"#2a3f5f\"},\"type\":\"carpet\"}],\"table\":[{\"cells\":{\"fill\":{\"color\":\"#EBF0F8\"},\"line\":{\"color\":\"white\"}},\"header\":{\"fill\":{\"color\":\"#C8D4E3\"},\"line\":{\"color\":\"white\"}},\"type\":\"table\"}],\"barpolar\":[{\"marker\":{\"line\":{\"color\":\"#E5ECF6\",\"width\":0.5},\"pattern\":{\"fillmode\":\"overlay\",\"size\":10,\"solidity\":0.2}},\"type\":\"barpolar\"}],\"pie\":[{\"automargin\":true,\"type\":\"pie\"}]},\"layout\":{\"autotypenumbers\":\"strict\",\"colorway\":[\"#636efa\",\"#EF553B\",\"#00cc96\",\"#ab63fa\",\"#FFA15A\",\"#19d3f3\",\"#FF6692\",\"#B6E880\",\"#FF97FF\",\"#FECB52\"],\"font\":{\"color\":\"#2a3f5f\"},\"hovermode\":\"closest\",\"hoverlabel\":{\"align\":\"left\"},\"paper_bgcolor\":\"white\",\"plot_bgcolor\":\"#E5ECF6\",\"polar\":{\"bgcolor\":\"#E5ECF6\",\"angularaxis\":{\"gridcolor\":\"white\",\"linecolor\":\"white\",\"ticks\":\"\"},\"radialaxis\":{\"gridcolor\":\"white\",\"linecolor\":\"white\",\"ticks\":\"\"}},\"ternary\":{\"bgcolor\":\"#E5ECF6\",\"aaxis\":{\"gridcolor\":\"white\",\"linecolor\":\"white\",\"ticks\":\"\"},\"baxis\":{\"gridcolor\":\"white\",\"linecolor\":\"white\",\"ticks\":\"\"},\"caxis\":{\"gridcolor\":\"white\",\"linecolor\":\"white\",\"ticks\":\"\"}},\"coloraxis\":{\"colorbar\":{\"outlinewidth\":0,\"ticks\":\"\"}},\"colorscale\":{\"sequential\":[[0.0,\"#0d0887\"],[0.1111111111111111,\"#46039f\"],[0.2222222222222222,\"#7201a8\"],[0.3333333333333333,\"#9c179e\"],[0.4444444444444444,\"#bd3786\"],[0.5555555555555556,\"#d8576b\"],[0.6666666666666666,\"#ed7953\"],[0.7777777777777778,\"#fb9f3a\"],[0.8888888888888888,\"#fdca26\"],[1.0,\"#f0f921\"]],\"sequentialminus\":[[0.0,\"#0d0887\"],[0.1111111111111111,\"#46039f\"],[0.2222222222222222,\"#7201a8\"],[0.3333333333333333,\"#9c179e\"],[0.4444444444444444,\"#bd3786\"],[0.5555555555555556,\"#d8576b\"],[0.6666666666666666,\"#ed7953\"],[0.7777777777777778,\"#fb9f3a\"],[0.8888888888888888,\"#fdca26\"],[1.0,\"#f0f921\"]],\"diverging\":[[0,\"#8e0152\"],[0.1,\"#c51b7d\"],[0.2,\"#de77ae\"],[0.3,\"#f1b6da\"],[0.4,\"#fde0ef\"],[0.5,\"#f7f7f7\"],[0.6,\"#e6f5d0\"],[0.7,\"#b8e186\"],[0.8,\"#7fbc41\"],[0.9,\"#4d9221\"],[1,\"#276419\"]]},\"xaxis\":{\"gridcolor\":\"white\",\"linecolor\":\"white\",\"ticks\":\"\",\"title\":{\"standoff\":15},\"zerolinecolor\":\"white\",\"automargin\":true,\"zerolinewidth\":2},\"yaxis\":{\"gridcolor\":\"white\",\"linecolor\":\"white\",\"ticks\":\"\",\"title\":{\"standoff\":15},\"zerolinecolor\":\"white\",\"automargin\":true,\"zerolinewidth\":2},\"scene\":{\"xaxis\":{\"backgroundcolor\":\"#E5ECF6\",\"gridcolor\":\"white\",\"linecolor\":\"white\",\"showbackground\":true,\"ticks\":\"\",\"zerolinecolor\":\"white\",\"gridwidth\":2},\"yaxis\":{\"backgroundcolor\":\"#E5ECF6\",\"gridcolor\":\"white\",\"linecolor\":\"white\",\"showbackground\":true,\"ticks\":\"\",\"zerolinecolor\":\"white\",\"gridwidth\":2},\"zaxis\":{\"backgroundcolor\":\"#E5ECF6\",\"gridcolor\":\"white\",\"linecolor\":\"white\",\"showbackground\":true,\"ticks\":\"\",\"zerolinecolor\":\"white\",\"gridwidth\":2}},\"shapedefaults\":{\"line\":{\"color\":\"#2a3f5f\"}},\"annotationdefaults\":{\"arrowcolor\":\"#2a3f5f\",\"arrowhead\":0,\"arrowwidth\":1},\"geo\":{\"bgcolor\":\"white\",\"landcolor\":\"#E5ECF6\",\"subunitcolor\":\"white\",\"showland\":true,\"showlakes\":true,\"lakecolor\":\"white\"},\"title\":{\"x\":0.05},\"mapbox\":{\"style\":\"light\"}}},\"xaxis\":{\"anchor\":\"y\",\"domain\":[0.0,1.0],\"title\":{\"text\":\"x\"}},\"yaxis\":{\"anchor\":\"x\",\"domain\":[0.0,1.0],\"title\":{\"text\":\"y\"}},\"legend\":{\"tracegroupgap\":0},\"title\":{\"text\":\"log2\"}},                        {\"responsive\": true}                    ).then(function(){\n                            \nvar gd = document.getElementById('1ef5fd69-e912-4f0a-b9ad-fec352e4a501');\nvar x = new MutationObserver(function (mutations, observer) {{\n        var display = window.getComputedStyle(gd).display;\n        if (!display || display === 'none') {{\n            console.log([gd, 'removed!']);\n            Plotly.purge(gd);\n            observer.disconnect();\n        }}\n}});\n\n// Listen for the removal of the full notebook cells\nvar notebookContainer = gd.closest('#notebook-container');\nif (notebookContainer) {{\n    x.observe(notebookContainer, {childList: true});\n}}\n\n// Listen for the clearing of the current output cell\nvar outputEl = gd.closest('.output');\nif (outputEl) {{\n    x.observe(outputEl, {childList: true});\n}}\n\n                        })                };                });            </script>        </div>"
     },
     "metadata": {},
     "output_type": "display_data"
    },
    {
     "data": {
      "application/vnd.plotly.v1+json": {
       "data": [
        {
         "hovertemplate": "x=%{x}<br>y=%{y}<extra></extra>",
         "legendgroup": "",
         "line": {
          "color": "#636efa",
          "dash": "solid"
         },
         "marker": {
          "symbol": "circle"
         },
         "mode": "lines",
         "name": "",
         "showlegend": false,
         "x": [
          -10.0,
          -9.99,
          -9.98,
          -9.97,
          -9.96,
          -9.95,
          -9.94,
          -9.93,
          -9.92,
          -9.91,
          -9.9,
          -9.89,
          -9.88,
          -9.87,
          -9.86,
          -9.85,
          -9.84,
          -9.83,
          -9.82,
          -9.81,
          -9.8,
          -9.79,
          -9.78,
          -9.77,
          -9.76,
          -9.75,
          -9.74,
          -9.73,
          -9.72,
          -9.71,
          -9.7,
          -9.69,
          -9.68,
          -9.67,
          -9.66,
          -9.65,
          -9.64,
          -9.63,
          -9.62,
          -9.61,
          -9.6,
          -9.59,
          -9.58,
          -9.57,
          -9.56,
          -9.55,
          -9.54,
          -9.53,
          -9.52,
          -9.51,
          -9.5,
          -9.49,
          -9.48,
          -9.47,
          -9.46,
          -9.45,
          -9.44,
          -9.43,
          -9.42,
          -9.41,
          -9.4,
          -9.39,
          -9.38,
          -9.37,
          -9.36,
          -9.35,
          -9.34,
          -9.33,
          -9.32,
          -9.31,
          -9.3,
          -9.29,
          -9.28,
          -9.27,
          -9.26,
          -9.25,
          -9.24,
          -9.23,
          -9.22,
          -9.21,
          -9.2,
          -9.19,
          -9.18,
          -9.17,
          -9.16,
          -9.15,
          -9.14,
          -9.13,
          -9.12,
          -9.11,
          -9.1,
          -9.09,
          -9.08,
          -9.07,
          -9.06,
          -9.05,
          -9.04,
          -9.03,
          -9.02,
          -9.01,
          -9.0,
          -8.99,
          -8.98,
          -8.97,
          -8.96,
          -8.95,
          -8.94,
          -8.93,
          -8.92,
          -8.91,
          -8.9,
          -8.89,
          -8.88,
          -8.87,
          -8.86,
          -8.85,
          -8.84,
          -8.83,
          -8.82,
          -8.81,
          -8.8,
          -8.79,
          -8.78,
          -8.77,
          -8.76,
          -8.75,
          -8.74,
          -8.73,
          -8.72,
          -8.71,
          -8.7,
          -8.69,
          -8.68,
          -8.67,
          -8.66,
          -8.65,
          -8.64,
          -8.63,
          -8.62,
          -8.61,
          -8.6,
          -8.59,
          -8.58,
          -8.57,
          -8.56,
          -8.55,
          -8.54,
          -8.53,
          -8.52,
          -8.51,
          -8.5,
          -8.49,
          -8.48,
          -8.47,
          -8.46,
          -8.45,
          -8.44,
          -8.43,
          -8.42,
          -8.41,
          -8.4,
          -8.39,
          -8.38,
          -8.37,
          -8.36,
          -8.35,
          -8.34,
          -8.33,
          -8.32,
          -8.31,
          -8.3,
          -8.29,
          -8.28,
          -8.27,
          -8.26,
          -8.25,
          -8.24,
          -8.23,
          -8.22,
          -8.21,
          -8.2,
          -8.19,
          -8.18,
          -8.17,
          -8.16,
          -8.15,
          -8.14,
          -8.13,
          -8.12,
          -8.11,
          -8.1,
          -8.09,
          -8.08,
          -8.07,
          -8.06,
          -8.05,
          -8.04,
          -8.03,
          -8.02,
          -8.01,
          -8.0,
          -7.99,
          -7.98,
          -7.97,
          -7.96,
          -7.95,
          -7.94,
          -7.93,
          -7.92,
          -7.91,
          -7.9,
          -7.89,
          -7.88,
          -7.87,
          -7.86,
          -7.85,
          -7.84,
          -7.83,
          -7.82,
          -7.81,
          -7.8,
          -7.79,
          -7.78,
          -7.77,
          -7.76,
          -7.75,
          -7.74,
          -7.73,
          -7.72,
          -7.71,
          -7.7,
          -7.69,
          -7.68,
          -7.67,
          -7.66,
          -7.65,
          -7.64,
          -7.63,
          -7.62,
          -7.61,
          -7.6,
          -7.59,
          -7.58,
          -7.57,
          -7.56,
          -7.55,
          -7.54,
          -7.53,
          -7.52,
          -7.51,
          -7.5,
          -7.49,
          -7.48,
          -7.47,
          -7.46,
          -7.45,
          -7.44,
          -7.43,
          -7.42,
          -7.41,
          -7.4,
          -7.39,
          -7.38,
          -7.37,
          -7.36,
          -7.35,
          -7.34,
          -7.33,
          -7.32,
          -7.31,
          -7.3,
          -7.29,
          -7.28,
          -7.27,
          -7.26,
          -7.25,
          -7.24,
          -7.23,
          -7.22,
          -7.21,
          -7.2,
          -7.19,
          -7.18,
          -7.17,
          -7.16,
          -7.15,
          -7.14,
          -7.13,
          -7.12,
          -7.11,
          -7.1,
          -7.09,
          -7.08,
          -7.07,
          -7.06,
          -7.05,
          -7.04,
          -7.03,
          -7.02,
          -7.01,
          -7.0,
          -6.99,
          -6.98,
          -6.97,
          -6.96,
          -6.95,
          -6.94,
          -6.93,
          -6.92,
          -6.91,
          -6.9,
          -6.89,
          -6.88,
          -6.87,
          -6.86,
          -6.85,
          -6.84,
          -6.83,
          -6.82,
          -6.81,
          -6.8,
          -6.79,
          -6.78,
          -6.77,
          -6.76,
          -6.75,
          -6.74,
          -6.73,
          -6.72,
          -6.71,
          -6.7,
          -6.69,
          -6.68,
          -6.67,
          -6.66,
          -6.65,
          -6.64,
          -6.63,
          -6.62,
          -6.61,
          -6.6,
          -6.59,
          -6.58,
          -6.57,
          -6.56,
          -6.55,
          -6.54,
          -6.53,
          -6.52,
          -6.51,
          -6.5,
          -6.49,
          -6.48,
          -6.47,
          -6.46,
          -6.45,
          -6.44,
          -6.43,
          -6.42,
          -6.41,
          -6.4,
          -6.39,
          -6.38,
          -6.37,
          -6.36,
          -6.35,
          -6.34,
          -6.33,
          -6.32,
          -6.31,
          -6.3,
          -6.29,
          -6.28,
          -6.27,
          -6.26,
          -6.25,
          -6.24,
          -6.23,
          -6.22,
          -6.21,
          -6.2,
          -6.19,
          -6.18,
          -6.17,
          -6.16,
          -6.15,
          -6.14,
          -6.13,
          -6.12,
          -6.11,
          -6.1,
          -6.09,
          -6.08,
          -6.07,
          -6.06,
          -6.05,
          -6.04,
          -6.03,
          -6.02,
          -6.01,
          -6.0,
          -5.99,
          -5.98,
          -5.97,
          -5.96,
          -5.95,
          -5.94,
          -5.93,
          -5.92,
          -5.91,
          -5.9,
          -5.89,
          -5.88,
          -5.87,
          -5.86,
          -5.85,
          -5.84,
          -5.83,
          -5.82,
          -5.81,
          -5.8,
          -5.79,
          -5.78,
          -5.77,
          -5.76,
          -5.75,
          -5.74,
          -5.73,
          -5.72,
          -5.71,
          -5.7,
          -5.69,
          -5.68,
          -5.67,
          -5.66,
          -5.65,
          -5.64,
          -5.63,
          -5.62,
          -5.61,
          -5.6,
          -5.59,
          -5.58,
          -5.57,
          -5.56,
          -5.55,
          -5.54,
          -5.53,
          -5.52,
          -5.51,
          -5.5,
          -5.49,
          -5.48,
          -5.47,
          -5.46,
          -5.45,
          -5.44,
          -5.43,
          -5.42,
          -5.41,
          -5.4,
          -5.39,
          -5.38,
          -5.37,
          -5.36,
          -5.35,
          -5.34,
          -5.33,
          -5.32,
          -5.31,
          -5.3,
          -5.29,
          -5.28,
          -5.27,
          -5.26,
          -5.25,
          -5.24,
          -5.23,
          -5.22,
          -5.21,
          -5.2,
          -5.19,
          -5.18,
          -5.17,
          -5.16,
          -5.15,
          -5.14,
          -5.13,
          -5.12,
          -5.11,
          -5.1,
          -5.09,
          -5.08,
          -5.07,
          -5.06,
          -5.05,
          -5.04,
          -5.03,
          -5.02,
          -5.01,
          -5.0,
          -4.99,
          -4.98,
          -4.97,
          -4.96,
          -4.95,
          -4.94,
          -4.93,
          -4.92,
          -4.91,
          -4.9,
          -4.89,
          -4.88,
          -4.87,
          -4.86,
          -4.85,
          -4.84,
          -4.83,
          -4.82,
          -4.81,
          -4.8,
          -4.79,
          -4.78,
          -4.77,
          -4.76,
          -4.75,
          -4.74,
          -4.73,
          -4.72,
          -4.71,
          -4.7,
          -4.69,
          -4.68,
          -4.67,
          -4.66,
          -4.65,
          -4.64,
          -4.63,
          -4.62,
          -4.61,
          -4.6,
          -4.59,
          -4.58,
          -4.57,
          -4.56,
          -4.55,
          -4.54,
          -4.53,
          -4.52,
          -4.51,
          -4.5,
          -4.49,
          -4.48,
          -4.47,
          -4.46,
          -4.45,
          -4.44,
          -4.43,
          -4.42,
          -4.41,
          -4.4,
          -4.39,
          -4.38,
          -4.37,
          -4.36,
          -4.35,
          -4.34,
          -4.33,
          -4.32,
          -4.31,
          -4.3,
          -4.29,
          -4.28,
          -4.27,
          -4.26,
          -4.25,
          -4.24,
          -4.23,
          -4.22,
          -4.21,
          -4.2,
          -4.19,
          -4.18,
          -4.17,
          -4.16,
          -4.15,
          -4.14,
          -4.13,
          -4.12,
          -4.11,
          -4.1,
          -4.09,
          -4.08,
          -4.07,
          -4.06,
          -4.05,
          -4.04,
          -4.03,
          -4.02,
          -4.01,
          -4.0,
          -3.99,
          -3.98,
          -3.97,
          -3.96,
          -3.95,
          -3.94,
          -3.93,
          -3.92,
          -3.91,
          -3.9,
          -3.89,
          -3.88,
          -3.87,
          -3.86,
          -3.85,
          -3.84,
          -3.83,
          -3.82,
          -3.81,
          -3.8,
          -3.79,
          -3.78,
          -3.77,
          -3.76,
          -3.75,
          -3.74,
          -3.73,
          -3.72,
          -3.71,
          -3.7,
          -3.69,
          -3.68,
          -3.67,
          -3.66,
          -3.65,
          -3.64,
          -3.63,
          -3.62,
          -3.61,
          -3.6,
          -3.59,
          -3.58,
          -3.57,
          -3.56,
          -3.55,
          -3.54,
          -3.53,
          -3.52,
          -3.51,
          -3.5,
          -3.49,
          -3.48,
          -3.47,
          -3.46,
          -3.45,
          -3.44,
          -3.43,
          -3.42,
          -3.41,
          -3.4,
          -3.39,
          -3.38,
          -3.37,
          -3.36,
          -3.35,
          -3.34,
          -3.33,
          -3.32,
          -3.31,
          -3.3,
          -3.29,
          -3.28,
          -3.27,
          -3.26,
          -3.25,
          -3.24,
          -3.23,
          -3.22,
          -3.21,
          -3.2,
          -3.19,
          -3.18,
          -3.17,
          -3.16,
          -3.15,
          -3.14,
          -3.13,
          -3.12,
          -3.11,
          -3.1,
          -3.09,
          -3.08,
          -3.07,
          -3.06,
          -3.05,
          -3.04,
          -3.03,
          -3.02,
          -3.01,
          -3.0,
          -2.99,
          -2.98,
          -2.97,
          -2.96,
          -2.95,
          -2.94,
          -2.93,
          -2.92,
          -2.91,
          -2.9,
          -2.89,
          -2.88,
          -2.87,
          -2.86,
          -2.85,
          -2.84,
          -2.83,
          -2.82,
          -2.81,
          -2.8,
          -2.79,
          -2.78,
          -2.77,
          -2.76,
          -2.75,
          -2.74,
          -2.73,
          -2.72,
          -2.71,
          -2.7,
          -2.69,
          -2.68,
          -2.67,
          -2.66,
          -2.65,
          -2.64,
          -2.63,
          -2.62,
          -2.61,
          -2.6,
          -2.59,
          -2.58,
          -2.57,
          -2.56,
          -2.55,
          -2.54,
          -2.53,
          -2.52,
          -2.51,
          -2.5,
          -2.49,
          -2.48,
          -2.47,
          -2.46,
          -2.45,
          -2.44,
          -2.43,
          -2.42,
          -2.41,
          -2.4,
          -2.39,
          -2.38,
          -2.37,
          -2.36,
          -2.35,
          -2.34,
          -2.33,
          -2.32,
          -2.31,
          -2.3,
          -2.29,
          -2.28,
          -2.27,
          -2.26,
          -2.25,
          -2.24,
          -2.23,
          -2.22,
          -2.21,
          -2.2,
          -2.19,
          -2.18,
          -2.17,
          -2.16,
          -2.15,
          -2.14,
          -2.13,
          -2.12,
          -2.11,
          -2.1,
          -2.09,
          -2.08,
          -2.07,
          -2.06,
          -2.05,
          -2.04,
          -2.03,
          -2.02,
          -2.01,
          -2.0,
          -1.99,
          -1.98,
          -1.97,
          -1.96,
          -1.95,
          -1.94,
          -1.93,
          -1.92,
          -1.91,
          -1.9,
          -1.89,
          -1.88,
          -1.87,
          -1.86,
          -1.85,
          -1.84,
          -1.83,
          -1.82,
          -1.81,
          -1.8,
          -1.79,
          -1.78,
          -1.77,
          -1.76,
          -1.75,
          -1.74,
          -1.73,
          -1.72,
          -1.71,
          -1.7,
          -1.69,
          -1.68,
          -1.67,
          -1.66,
          -1.65,
          -1.64,
          -1.63,
          -1.62,
          -1.61,
          -1.6,
          -1.59,
          -1.58,
          -1.57,
          -1.56,
          -1.55,
          -1.54,
          -1.53,
          -1.52,
          -1.51,
          -1.5,
          -1.49,
          -1.48,
          -1.47,
          -1.46,
          -1.45,
          -1.44,
          -1.43,
          -1.42,
          -1.41,
          -1.4,
          -1.39,
          -1.38,
          -1.37,
          -1.36,
          -1.35,
          -1.34,
          -1.33,
          -1.32,
          -1.31,
          -1.3,
          -1.29,
          -1.28,
          -1.27,
          -1.26,
          -1.25,
          -1.24,
          -1.23,
          -1.22,
          -1.21,
          -1.2,
          -1.19,
          -1.18,
          -1.17,
          -1.16,
          -1.15,
          -1.14,
          -1.13,
          -1.12,
          -1.11,
          -1.1,
          -1.09,
          -1.08,
          -1.07,
          -1.06,
          -1.05,
          -1.04,
          -1.03,
          -1.02,
          -1.01,
          -1.0,
          -0.99,
          -0.98,
          -0.97,
          -0.96,
          -0.95,
          -0.94,
          -0.93,
          -0.92,
          -0.91,
          -0.9,
          -0.89,
          -0.88,
          -0.87,
          -0.86,
          -0.85,
          -0.84,
          -0.83,
          -0.82,
          -0.81,
          -0.8,
          -0.79,
          -0.78,
          -0.77,
          -0.76,
          -0.75,
          -0.74,
          -0.73,
          -0.72,
          -0.71,
          -0.7,
          -0.69,
          -0.68,
          -0.67,
          -0.66,
          -0.65,
          -0.64,
          -0.63,
          -0.62,
          -0.61,
          -0.6,
          -0.59,
          -0.58,
          -0.57,
          -0.56,
          -0.55,
          -0.54,
          -0.53,
          -0.52,
          -0.51,
          -0.5,
          -0.49,
          -0.48,
          -0.47,
          -0.46,
          -0.45,
          -0.44,
          -0.43,
          -0.42,
          -0.41,
          -0.4,
          -0.39,
          -0.38,
          -0.37,
          -0.36,
          -0.35,
          -0.34,
          -0.33,
          -0.32,
          -0.31,
          -0.3,
          -0.29,
          -0.28,
          -0.27,
          -0.26,
          -0.25,
          -0.24,
          -0.23,
          -0.22,
          -0.21,
          -0.2,
          -0.19,
          -0.18,
          -0.17,
          -0.16,
          -0.15,
          -0.14,
          -0.13,
          -0.12,
          -0.11,
          -0.1,
          -0.09,
          -0.08,
          -0.07,
          -0.06,
          -0.05,
          -0.04,
          -0.03,
          -0.02,
          -0.01,
          -0.0,
          0.01,
          0.02,
          0.03,
          0.04,
          0.05,
          0.06,
          0.07,
          0.08,
          0.09,
          0.1,
          0.11,
          0.12,
          0.13,
          0.14,
          0.15,
          0.16,
          0.17,
          0.18,
          0.19,
          0.2,
          0.21,
          0.22,
          0.23,
          0.24,
          0.25,
          0.26,
          0.27,
          0.28,
          0.29,
          0.3,
          0.31,
          0.32,
          0.33,
          0.34,
          0.35,
          0.36,
          0.37,
          0.38,
          0.39,
          0.4,
          0.41,
          0.42,
          0.43,
          0.44,
          0.45,
          0.46,
          0.47,
          0.48,
          0.49,
          0.5,
          0.51,
          0.52,
          0.53,
          0.54,
          0.55,
          0.56,
          0.57,
          0.58,
          0.59,
          0.6,
          0.61,
          0.62,
          0.63,
          0.64,
          0.65,
          0.66,
          0.67,
          0.68,
          0.69,
          0.7,
          0.71,
          0.72,
          0.73,
          0.74,
          0.75,
          0.76,
          0.77,
          0.78,
          0.79,
          0.8,
          0.81,
          0.82,
          0.83,
          0.84,
          0.85,
          0.86,
          0.87,
          0.88,
          0.89,
          0.9,
          0.91,
          0.92,
          0.93,
          0.94,
          0.95,
          0.96,
          0.97,
          0.98,
          0.99,
          1.0,
          1.01,
          1.02,
          1.03,
          1.04,
          1.05,
          1.06,
          1.07,
          1.08,
          1.09,
          1.1,
          1.11,
          1.12,
          1.13,
          1.14,
          1.15,
          1.16,
          1.17,
          1.18,
          1.19,
          1.2,
          1.21,
          1.22,
          1.23,
          1.24,
          1.25,
          1.26,
          1.27,
          1.28,
          1.29,
          1.3,
          1.31,
          1.32,
          1.33,
          1.34,
          1.35,
          1.36,
          1.37,
          1.38,
          1.39,
          1.4,
          1.41,
          1.42,
          1.43,
          1.44,
          1.45,
          1.46,
          1.47,
          1.48,
          1.49,
          1.5,
          1.51,
          1.52,
          1.53,
          1.54,
          1.55,
          1.56,
          1.57,
          1.58,
          1.59,
          1.6,
          1.61,
          1.62,
          1.63,
          1.64,
          1.65,
          1.66,
          1.67,
          1.68,
          1.69,
          1.7,
          1.71,
          1.72,
          1.73,
          1.74,
          1.75,
          1.76,
          1.77,
          1.78,
          1.79,
          1.8,
          1.81,
          1.82,
          1.83,
          1.84,
          1.85,
          1.86,
          1.87,
          1.88,
          1.89,
          1.9,
          1.91,
          1.92,
          1.93,
          1.94,
          1.95,
          1.96,
          1.97,
          1.98,
          1.99,
          2.0,
          2.01,
          2.02,
          2.03,
          2.04,
          2.05,
          2.06,
          2.07,
          2.08,
          2.09,
          2.1,
          2.11,
          2.12,
          2.13,
          2.14,
          2.15,
          2.16,
          2.17,
          2.18,
          2.19,
          2.2,
          2.21,
          2.22,
          2.23,
          2.24,
          2.25,
          2.26,
          2.27,
          2.28,
          2.29,
          2.3,
          2.31,
          2.32,
          2.33,
          2.34,
          2.35,
          2.36,
          2.37,
          2.38,
          2.39,
          2.4,
          2.41,
          2.42,
          2.43,
          2.44,
          2.45,
          2.46,
          2.47,
          2.48,
          2.49,
          2.5,
          2.51,
          2.52,
          2.53,
          2.54,
          2.55,
          2.56,
          2.57,
          2.58,
          2.59,
          2.6,
          2.61,
          2.62,
          2.63,
          2.64,
          2.65,
          2.66,
          2.67,
          2.68,
          2.69,
          2.7,
          2.71,
          2.72,
          2.73,
          2.74,
          2.75,
          2.76,
          2.77,
          2.78,
          2.79,
          2.8,
          2.81,
          2.82,
          2.83,
          2.84,
          2.85,
          2.86,
          2.87,
          2.88,
          2.89,
          2.9,
          2.91,
          2.92,
          2.93,
          2.94,
          2.95,
          2.96,
          2.97,
          2.98,
          2.99,
          3.0,
          3.01,
          3.02,
          3.03,
          3.04,
          3.05,
          3.06,
          3.07,
          3.08,
          3.09,
          3.1,
          3.11,
          3.12,
          3.13,
          3.14,
          3.15,
          3.16,
          3.17,
          3.18,
          3.19,
          3.2,
          3.21,
          3.22,
          3.23,
          3.24,
          3.25,
          3.26,
          3.27,
          3.28,
          3.29,
          3.3,
          3.31,
          3.32,
          3.33,
          3.34,
          3.35,
          3.36,
          3.37,
          3.38,
          3.39,
          3.4,
          3.41,
          3.42,
          3.43,
          3.44,
          3.45,
          3.46,
          3.47,
          3.48,
          3.49,
          3.5,
          3.51,
          3.52,
          3.53,
          3.54,
          3.55,
          3.56,
          3.57,
          3.58,
          3.59,
          3.6,
          3.61,
          3.62,
          3.63,
          3.64,
          3.65,
          3.66,
          3.67,
          3.68,
          3.69,
          3.7,
          3.71,
          3.72,
          3.73,
          3.74,
          3.75,
          3.76,
          3.77,
          3.78,
          3.79,
          3.8,
          3.81,
          3.82,
          3.83,
          3.84,
          3.85,
          3.86,
          3.87,
          3.88,
          3.89,
          3.9,
          3.91,
          3.92,
          3.93,
          3.94,
          3.95,
          3.96,
          3.97,
          3.98,
          3.99,
          4.0,
          4.01,
          4.02,
          4.03,
          4.04,
          4.05,
          4.06,
          4.07,
          4.08,
          4.09,
          4.1,
          4.11,
          4.12,
          4.13,
          4.14,
          4.15,
          4.16,
          4.17,
          4.18,
          4.19,
          4.2,
          4.21,
          4.22,
          4.23,
          4.24,
          4.25,
          4.26,
          4.27,
          4.28,
          4.29,
          4.3,
          4.31,
          4.32,
          4.33,
          4.34,
          4.35,
          4.36,
          4.37,
          4.38,
          4.39,
          4.4,
          4.41,
          4.42,
          4.43,
          4.44,
          4.45,
          4.46,
          4.47,
          4.48,
          4.49,
          4.5,
          4.51,
          4.52,
          4.53,
          4.54,
          4.55,
          4.56,
          4.57,
          4.58,
          4.59,
          4.6,
          4.61,
          4.62,
          4.63,
          4.64,
          4.65,
          4.66,
          4.67,
          4.68,
          4.69,
          4.7,
          4.71,
          4.72,
          4.73,
          4.74,
          4.75,
          4.76,
          4.77,
          4.78,
          4.79,
          4.8,
          4.81,
          4.82,
          4.83,
          4.84,
          4.85,
          4.86,
          4.87,
          4.88,
          4.89,
          4.9,
          4.91,
          4.92,
          4.93,
          4.94,
          4.95,
          4.96,
          4.97,
          4.98,
          4.99,
          5.0,
          5.01,
          5.02,
          5.03,
          5.04,
          5.05,
          5.06,
          5.07,
          5.08,
          5.09,
          5.1,
          5.11,
          5.12,
          5.13,
          5.14,
          5.15,
          5.16,
          5.17,
          5.18,
          5.19,
          5.2,
          5.21,
          5.22,
          5.23,
          5.24,
          5.25,
          5.26,
          5.27,
          5.28,
          5.29,
          5.3,
          5.31,
          5.32,
          5.33,
          5.34,
          5.35,
          5.36,
          5.37,
          5.38,
          5.39,
          5.4,
          5.41,
          5.42,
          5.43,
          5.44,
          5.45,
          5.46,
          5.47,
          5.48,
          5.49,
          5.5,
          5.51,
          5.52,
          5.53,
          5.54,
          5.55,
          5.56,
          5.57,
          5.58,
          5.59,
          5.6,
          5.61,
          5.62,
          5.63,
          5.64,
          5.65,
          5.66,
          5.67,
          5.68,
          5.69,
          5.7,
          5.71,
          5.72,
          5.73,
          5.74,
          5.75,
          5.76,
          5.77,
          5.78,
          5.79,
          5.8,
          5.81,
          5.82,
          5.83,
          5.84,
          5.85,
          5.86,
          5.87,
          5.88,
          5.89,
          5.9,
          5.91,
          5.92,
          5.93,
          5.94,
          5.95,
          5.96,
          5.97,
          5.98,
          5.99,
          6.0,
          6.01,
          6.02,
          6.03,
          6.04,
          6.05,
          6.06,
          6.07,
          6.08,
          6.09,
          6.1,
          6.11,
          6.12,
          6.13,
          6.14,
          6.15,
          6.16,
          6.17,
          6.18,
          6.19,
          6.2,
          6.21,
          6.22,
          6.23,
          6.24,
          6.25,
          6.26,
          6.27,
          6.28,
          6.29,
          6.3,
          6.31,
          6.32,
          6.33,
          6.34,
          6.35,
          6.36,
          6.37,
          6.38,
          6.39,
          6.4,
          6.41,
          6.42,
          6.43,
          6.44,
          6.45,
          6.46,
          6.47,
          6.48,
          6.49,
          6.5,
          6.51,
          6.52,
          6.53,
          6.54,
          6.55,
          6.56,
          6.57,
          6.58,
          6.59,
          6.6,
          6.61,
          6.62,
          6.63,
          6.64,
          6.65,
          6.66,
          6.67,
          6.68,
          6.69,
          6.7,
          6.71,
          6.72,
          6.73,
          6.74,
          6.75,
          6.76,
          6.77,
          6.78,
          6.79,
          6.8,
          6.81,
          6.82,
          6.83,
          6.84,
          6.85,
          6.86,
          6.87,
          6.88,
          6.89,
          6.9,
          6.91,
          6.92,
          6.93,
          6.94,
          6.95,
          6.96,
          6.97,
          6.98,
          6.99,
          7.0,
          7.01,
          7.02,
          7.03,
          7.04,
          7.05,
          7.06,
          7.07,
          7.08,
          7.09,
          7.1,
          7.11,
          7.12,
          7.13,
          7.14,
          7.15,
          7.16,
          7.17,
          7.18,
          7.19,
          7.2,
          7.21,
          7.22,
          7.23,
          7.24,
          7.25,
          7.26,
          7.27,
          7.28,
          7.29,
          7.3,
          7.31,
          7.32,
          7.33,
          7.34,
          7.35,
          7.36,
          7.37,
          7.38,
          7.39,
          7.4,
          7.41,
          7.42,
          7.43,
          7.44,
          7.45,
          7.46,
          7.47,
          7.48,
          7.49,
          7.5,
          7.51,
          7.52,
          7.53,
          7.54,
          7.55,
          7.56,
          7.57,
          7.58,
          7.59,
          7.6,
          7.61,
          7.62,
          7.63,
          7.64,
          7.65,
          7.66,
          7.67,
          7.68,
          7.69,
          7.7,
          7.71,
          7.72,
          7.73,
          7.74,
          7.75,
          7.76,
          7.77,
          7.78,
          7.79,
          7.8,
          7.81,
          7.82,
          7.83,
          7.84,
          7.85,
          7.86,
          7.87,
          7.88,
          7.89,
          7.9,
          7.91,
          7.92,
          7.93,
          7.94,
          7.95,
          7.96,
          7.97,
          7.98,
          7.99,
          8.0,
          8.01,
          8.02,
          8.03,
          8.04,
          8.05,
          8.06,
          8.07,
          8.08,
          8.09,
          8.1,
          8.11,
          8.12,
          8.13,
          8.14,
          8.15,
          8.16,
          8.17,
          8.18,
          8.19,
          8.2,
          8.21,
          8.22,
          8.23,
          8.24,
          8.25,
          8.26,
          8.27,
          8.28,
          8.29,
          8.3,
          8.31,
          8.32,
          8.33,
          8.34,
          8.35,
          8.36,
          8.37,
          8.38,
          8.39,
          8.4,
          8.41,
          8.42,
          8.43,
          8.44,
          8.45,
          8.46,
          8.47,
          8.48,
          8.49,
          8.5,
          8.51,
          8.52,
          8.53,
          8.54,
          8.55,
          8.56,
          8.57,
          8.58,
          8.59,
          8.6,
          8.61,
          8.62,
          8.63,
          8.64,
          8.65,
          8.66,
          8.67,
          8.68,
          8.69,
          8.7,
          8.71,
          8.72,
          8.73,
          8.74,
          8.75,
          8.76,
          8.77,
          8.78,
          8.79,
          8.8,
          8.81,
          8.82,
          8.83,
          8.84,
          8.85,
          8.86,
          8.87,
          8.88,
          8.89,
          8.9,
          8.91,
          8.92,
          8.93,
          8.94,
          8.95,
          8.96,
          8.97,
          8.98,
          8.99,
          9.0,
          9.01,
          9.02,
          9.03,
          9.04,
          9.05,
          9.06,
          9.07,
          9.08,
          9.09,
          9.1,
          9.11,
          9.12,
          9.13,
          9.14,
          9.15,
          9.16,
          9.17,
          9.18,
          9.19,
          9.2,
          9.21,
          9.22,
          9.23,
          9.24,
          9.25,
          9.26,
          9.27,
          9.28,
          9.29,
          9.3,
          9.31,
          9.32,
          9.33,
          9.34,
          9.35,
          9.36,
          9.37,
          9.38,
          9.39,
          9.4,
          9.41,
          9.42,
          9.43,
          9.44,
          9.45,
          9.46,
          9.47,
          9.48,
          9.49,
          9.5,
          9.51,
          9.52,
          9.53,
          9.54,
          9.55,
          9.56,
          9.57,
          9.58,
          9.59,
          9.6,
          9.61,
          9.62,
          9.63,
          9.64,
          9.65,
          9.66,
          9.67,
          9.68,
          9.69,
          9.7,
          9.71,
          9.72,
          9.73,
          9.74,
          9.75,
          9.76,
          9.77,
          9.78,
          9.79,
          9.8,
          9.81,
          9.82,
          9.83,
          9.84,
          9.85,
          9.86,
          9.87,
          9.88,
          9.89,
          9.9,
          9.91,
          9.92,
          9.93,
          9.94,
          9.95,
          9.96,
          9.97,
          9.98,
          9.99,
          10.0
         ],
         "xaxis": "x",
         "y": [
          1.170143,
          1.197778,
          1.226126,
          1.255208,
          1.285044,
          1.315659,
          1.347074,
          1.379315,
          1.412407,
          1.446375,
          1.481247,
          1.517052,
          1.553817,
          1.591574,
          1.630354,
          1.67019,
          1.711115,
          1.753166,
          1.796379,
          1.840792,
          1.886446,
          1.933381,
          1.981642,
          2.031273,
          2.082321,
          2.134836,
          2.188868,
          2.244472,
          2.301703,
          2.360619,
          2.421282,
          2.483754,
          2.548104,
          2.6144,
          2.682715,
          2.753128,
          2.825716,
          2.900566,
          2.977764,
          3.057404,
          3.139584,
          3.224404,
          3.311973,
          3.402404,
          3.495815,
          3.592332,
          3.692088,
          3.79522,
          3.901875,
          4.01221,
          4.126386,
          4.244577,
          4.366965,
          4.493744,
          4.625118,
          4.761304,
          4.902533,
          5.049047,
          5.201106,
          5.358985,
          5.522976,
          5.693391,
          5.870561,
          6.05484,
          6.246605,
          6.446258,
          6.65423,
          6.870979,
          7.097,
          7.33282,
          7.579005,
          7.836162,
          8.104946,
          8.38606,
          8.68026,
          8.988364,
          9.311254,
          9.649881,
          10.005279,
          10.378565,
          10.770952,
          11.183758,
          11.618416,
          12.07649,
          12.559685,
          13.069864,
          13.609068,
          14.179535,
          14.783722,
          15.424334,
          16.104354,
          16.827075,
          17.596145,
          18.415607,
          19.289957,
          20.224207,
          21.223952,
          22.295456,
          23.445753,
          24.68276,
          26.015416,
          27.453841,
          29.009531,
          30.69559,
          32.527003,
          34.520973,
          36.697327,
          39.079009,
          41.692689,
          44.569513,
          47.746032,
          51.265375,
          55.178715,
          59.547141,
          64.44406,
          69.958294,
          76.19814,
          83.296725,
          91.419164,
          100.772245,
          111.617717,
          124.290793,
          139.226361,
          156.996775,
          178.36749,
          204.380857,
          236.485611,
          276.742935,
          328.165584,
          395.29813,
          485.256202,
          609.691904,
          788.764493,
          1059.847165,
          1498.726614,
          2278.934424,
          3873.805474,
          7988.525553,
          25101.117084,
          484346.268655,
          84668.974389,
          14483.996139,
          5755.966222,
          3068.718118,
          1903.148898,
          1294.557688,
          937.259386,
          709.776832,
          556.064492,
          447.356478,
          367.655094,
          307.487688,
          260.955134,
          224.228157,
          194.733234,
          170.688969,
          150.830546,
          134.239855,
          120.237396,
          108.311547,
          98.071144,
          89.212982,
          81.499103,
          74.740644,
          68.786164,
          63.513085,
          58.821336,
          54.628566,
          50.866509,
          47.478191,
          44.415756,
          41.638773,
          39.112893,
          36.808783,
          34.701274,
          32.768669,
          30.992185,
          29.355493,
          27.844349,
          26.446275,
          25.150307,
          23.94678,
          22.827146,
          21.783822,
          20.810065,
          19.899858,
          19.047825,
          18.249143,
          17.499482,
          16.79494,
          16.131998,
          15.507472,
          14.918479,
          14.3624,
          13.836854,
          13.33967,
          12.868868,
          12.422639,
          11.999324,
          11.597403,
          11.21548,
          10.852273,
          10.506597,
          10.177363,
          9.863565,
          9.564271,
          9.278619,
          9.005811,
          8.745107,
          8.495818,
          8.257305,
          8.028971,
          7.810263,
          7.600662,
          7.399687,
          7.206884,
          7.021833,
          6.844138,
          6.673429,
          6.509359,
          6.351602,
          6.199853,
          6.053824,
          5.913245,
          5.777861,
          5.647433,
          5.521736,
          5.400555,
          5.283691,
          5.170953,
          5.062162,
          4.957149,
          4.855752,
          4.757822,
          4.663213,
          4.571789,
          4.483422,
          4.397989,
          4.315373,
          4.235465,
          4.15816,
          4.083357,
          4.010964,
          3.940889,
          3.873046,
          3.807356,
          3.743739,
          3.682123,
          3.622436,
          3.564612,
          3.508588,
          3.454301,
          3.401695,
          3.350713,
          3.301304,
          3.253416,
          3.207002,
          3.162016,
          3.118414,
          3.076155,
          3.035199,
          2.995507,
          2.957045,
          2.919776,
          2.883669,
          2.848692,
          2.814815,
          2.782011,
          2.750251,
          2.71951,
          2.689764,
          2.660991,
          2.633167,
          2.606272,
          2.580286,
          2.555192,
          2.530971,
          2.507608,
          2.485087,
          2.463393,
          2.442514,
          2.422438,
          2.403152,
          2.384648,
          2.366914,
          2.349945,
          2.333731,
          2.318267,
          2.303547,
          2.289567,
          2.276325,
          2.263817,
          2.252042,
          2.241001,
          2.230694,
          2.221125,
          2.212296,
          2.204213,
          2.196881,
          2.190309,
          2.184504,
          2.179479,
          2.175245,
          2.171816,
          2.169209,
          2.16744,
          2.166531,
          2.166504,
          2.167383,
          2.169197,
          2.171974,
          2.175751,
          2.180562,
          2.18645,
          2.193458,
          2.201638,
          2.211041,
          2.22173,
          2.233769,
          2.24723,
          2.262194,
          2.278748,
          2.296989,
          2.317026,
          2.338975,
          2.36297,
          2.389156,
          2.417694,
          2.448767,
          2.482576,
          2.519346,
          2.559331,
          2.602817,
          2.650123,
          2.701613,
          2.757699,
          2.818848,
          2.885597,
          2.958557,
          3.038434,
          3.126043,
          3.222328,
          3.328392,
          3.445527,
          3.575254,
          3.71938,
          3.880055,
          4.059865,
          4.261937,
          4.490084,
          4.748997,
          5.0445,
          5.3839,
          5.776467,
          6.234114,
          6.772357,
          7.41173,
          8.179874,
          9.114747,
          10.269647,
          11.721382,
          13.58401,
          16.033026,
          19.350147,
          24.011634,
          30.876316,
          41.626849,
          59.946429,
          95.263532,
          178.282027,
          462.873179,
          3368.640932,
          6066.932208,
          523.701888,
          176.293087,
          86.289662,
          50.542312,
          32.920235,
          23.008837,
          16.914104,
          12.916702,
          10.163718,
          8.193809,
          6.740145,
          5.639927,
          4.789389,
          4.11994,
          3.584821,
          3.151303,
          2.795946,
          2.501622,
          2.255592,
          2.048231,
          1.872162,
          1.721662,
          1.592235,
          1.480317,
          1.383051,
          1.29813,
          1.223675,
          1.158143,
          1.100261,
          1.048967,
          1.003376,
          0.962741,
          0.926433,
          0.893916,
          0.864731,
          0.838488,
          0.814847,
          0.793519,
          0.77425,
          0.756819,
          0.741036,
          0.726731,
          0.713757,
          0.701984,
          0.691297,
          0.681595,
          0.672787,
          0.664793,
          0.657541,
          0.650969,
          0.645018,
          0.639638,
          0.634782,
          0.63041,
          0.626483,
          0.622969,
          0.619837,
          0.61706,
          0.614612,
          0.612471,
          0.610616,
          0.609029,
          0.607693,
          0.606592,
          0.605713,
          0.605041,
          0.604566,
          0.604277,
          0.604164,
          0.604217,
          0.604429,
          0.604793,
          0.6053,
          0.605945,
          0.606723,
          0.607627,
          0.608652,
          0.609796,
          0.611052,
          0.612418,
          0.613891,
          0.615466,
          0.617142,
          0.618916,
          0.620785,
          0.622747,
          0.6248,
          0.626944,
          0.629175,
          0.631493,
          0.633897,
          0.636386,
          0.638958,
          0.641612,
          0.644349,
          0.647168,
          0.650068,
          0.653049,
          0.656111,
          0.659253,
          0.662475,
          0.665779,
          0.669163,
          0.672627,
          0.676174,
          0.679802,
          0.683512,
          0.687304,
          0.69118,
          0.69514,
          0.699184,
          0.703314,
          0.70753,
          0.711833,
          0.716224,
          0.720705,
          0.725276,
          0.729939,
          0.734694,
          0.739543,
          0.744488,
          0.74953,
          0.75467,
          0.759911,
          0.765252,
          0.770697,
          0.776248,
          0.781904,
          0.78767,
          0.793546,
          0.799536,
          0.805639,
          0.81186,
          0.818201,
          0.824662,
          0.831248,
          0.83796,
          0.844802,
          0.851775,
          0.858882,
          0.866127,
          0.873512,
          0.88104,
          0.888715,
          0.896539,
          0.904517,
          0.91265,
          0.920944,
          0.929401,
          0.938026,
          0.946822,
          0.955793,
          0.964943,
          0.974278,
          0.983801,
          0.993516,
          1.003429,
          1.013545,
          1.023868,
          1.034405,
          1.045159,
          1.056137,
          1.067345,
          1.078788,
          1.090473,
          1.102407,
          1.114595,
          1.127045,
          1.139763,
          1.152758,
          1.166037,
          1.179607,
          1.193477,
          1.207655,
          1.222151,
          1.236972,
          1.252129,
          1.267632,
          1.28349,
          1.299714,
          1.316316,
          1.333305,
          1.350695,
          1.368497,
          1.386725,
          1.40539,
          1.424508,
          1.444093,
          1.464158,
          1.484721,
          1.505796,
          1.527402,
          1.549554,
          1.572272,
          1.595574,
          1.619481,
          1.644013,
          1.669191,
          1.695038,
          1.721578,
          1.748835,
          1.776835,
          1.805604,
          1.83517,
          1.865564,
          1.896815,
          1.928956,
          1.96202,
          1.996044,
          2.031062,
          2.067116,
          2.104245,
          2.142491,
          2.181901,
          2.222521,
          2.2644,
          2.307592,
          2.35215,
          2.398133,
          2.445602,
          2.494621,
          2.545257,
          2.597583,
          2.651673,
          2.707608,
          2.765471,
          2.825353,
          2.887348,
          2.951554,
          3.01808,
          3.087037,
          3.158545,
          3.23273,
          3.309728,
          3.389681,
          3.472744,
          3.559078,
          3.648856,
          3.742265,
          3.839502,
          3.940779,
          4.046322,
          4.156373,
          4.271192,
          4.391059,
          4.516273,
          4.647156,
          4.784055,
          4.927345,
          5.077427,
          5.234739,
          5.39975,
          5.572973,
          5.754959,
          5.94631,
          6.147678,
          6.359774,
          6.583375,
          6.819325,
          7.068552,
          7.332069,
          7.610989,
          7.906537,
          8.220059,
          8.553042,
          8.907131,
          9.284147,
          9.686111,
          10.115274,
          10.574145,
          11.06553,
          11.592575,
          12.158813,
          12.768229,
          13.425326,
          14.13521,
          14.903689,
          15.737394,
          16.643918,
          17.631994,
          18.711706,
          19.894744,
          21.194724,
          22.627582,
          24.212061,
          25.970333,
          27.928774,
          30.118962,
          32.578955,
          35.354958,
          38.503507,
          42.094372,
          46.214453,
          50.973092,
          56.509397,
          63.00253,
          70.686383,
          79.870942,
          90.974046,
          104.569768,
          121.464132,
          142.817394,
          170.348702,
          206.693259,
          256.057197,
          325.491588,
          427.557589,
          586.434111,
          853.675722,
          1355.986687,
          2478.55455,
          5902.832588,
          28295.357949,
          788475.637106,
          14882.288193,
          4289.783371,
          2003.984717,
          1156.271499,
          751.538184,
          527.363292,
          390.372299,
          300.586328,
          238.568294,
          193.945322,
          160.771795,
          135.4412,
          115.662831,
          99.925091,
          87.197858,
          76.759525,
          68.092417,
          60.817345,
          54.651418,
          49.380117,
          44.838387,
          40.897553,
          37.456106,
          34.433101,
          31.763353,
          29.393891,
          27.281316,
          25.389794,
          23.689526,
          22.155574,
          20.766933,
          19.505814,
          18.357069,
          17.307733,
          16.346659,
          15.464221,
          14.652069,
          13.902932,
          13.210458,
          12.569072,
          11.973873,
          11.420529,
          10.905207,
          10.424502,
          9.975384,
          9.555143,
          9.161359,
          8.791855,
          8.444677,
          8.118063,
          7.81042,
          7.520309,
          7.246422,
          6.987572,
          6.742679,
          6.510758,
          6.29091,
          6.08231,
          5.884206,
          5.695906,
          5.516773,
          5.346223,
          5.183716,
          5.028755,
          4.880881,
          4.739668,
          4.604723,
          4.475681,
          4.352202,
          4.233973,
          4.1207,
          4.01211,
          3.90795,
          3.807982,
          3.711985,
          3.619751,
          3.531087,
          3.445811,
          3.363754,
          3.284755,
          3.208666,
          3.135346,
          3.064661,
          2.996488,
          2.93071,
          2.867216,
          2.805902,
          2.74667,
          2.689427,
          2.634086,
          2.580562,
          2.528779,
          2.478662,
          2.43014,
          2.383148,
          2.337621,
          2.293499,
          2.250727,
          2.20925,
          2.169016,
          2.129977,
          2.092086,
          2.055299,
          2.019574,
          1.984871,
          1.951151,
          1.918379,
          1.886519,
          1.855538,
          1.825404,
          1.796088,
          1.76756,
          1.739793,
          1.712759,
          1.686435,
          1.660795,
          1.635817,
          1.611478,
          1.587757,
          1.564634,
          1.542089,
          1.520103,
          1.498658,
          1.477737,
          1.457324,
          1.437402,
          1.417956,
          1.398971,
          1.380434,
          1.362331,
          1.344648,
          1.327373,
          1.310494,
          1.293999,
          1.277878,
          1.262118,
          1.24671,
          1.231644,
          1.216909,
          1.202498,
          1.188399,
          1.174606,
          1.161109,
          1.147901,
          1.134973,
          1.122318,
          1.109928,
          1.097798,
          1.085919,
          1.074285,
          1.06289,
          1.051728,
          1.040792,
          1.030078,
          1.019578,
          1.009289,
          0.999204,
          0.989319,
          0.979629,
          0.970128,
          0.960813,
          0.951679,
          0.942721,
          0.933936,
          0.925319,
          0.916866,
          0.908574,
          0.900439,
          0.892457,
          0.884624,
          0.876938,
          0.869395,
          0.861991,
          0.854725,
          0.847592,
          0.84059,
          0.833716,
          0.826967,
          0.82034,
          0.813833,
          0.807444,
          0.801169,
          0.795007,
          0.788955,
          0.783011,
          0.777173,
          0.771438,
          0.765804,
          0.76027,
          0.754833,
          0.749492,
          0.744244,
          0.739088,
          0.734022,
          0.729044,
          0.724152,
          0.719346,
          0.714623,
          0.709981,
          0.70542,
          0.700938,
          0.696533,
          0.692204,
          0.687949,
          0.683768,
          0.679658,
          0.675619,
          0.671649,
          0.667748,
          0.663914,
          0.660145,
          0.656441,
          0.652801,
          0.649223,
          0.645707,
          0.642251,
          0.638855,
          0.635518,
          0.632238,
          0.629015,
          0.625847,
          0.622735,
          0.619676,
          0.616671,
          0.613718,
          0.610817,
          0.607967,
          0.605167,
          0.602416,
          0.599714,
          0.597059,
          0.594452,
          0.591892,
          0.589377,
          0.586908,
          0.584483,
          0.582102,
          0.579765,
          0.577471,
          0.575219,
          0.573009,
          0.57084,
          0.568711,
          0.566623,
          0.564574,
          0.562565,
          0.560594,
          0.558662,
          0.556767,
          0.554909,
          0.553089,
          0.551305,
          0.549557,
          0.547844,
          0.546167,
          0.544525,
          0.542917,
          0.541344,
          0.539804,
          0.538298,
          0.536824,
          0.535384,
          0.533976,
          0.5326,
          0.531256,
          0.529943,
          0.528662,
          0.527412,
          0.526192,
          0.525003,
          0.523844,
          0.522715,
          0.521616,
          0.520546,
          0.519505,
          0.518493,
          0.517511,
          0.516556,
          0.515631,
          0.514733,
          0.513863,
          0.513022,
          0.512208,
          0.511421,
          0.510662,
          0.509929,
          0.509224,
          0.508546,
          0.507895,
          0.50727,
          0.506671,
          0.506099,
          0.505553,
          0.505034,
          0.50454,
          0.504072,
          0.50363,
          0.503214,
          0.502823,
          0.502458,
          0.502118,
          0.501804,
          0.501516,
          0.501252,
          0.501014,
          0.500801,
          0.500613,
          0.50045,
          0.500313,
          0.5002,
          0.500113,
          0.50005,
          0.500013,
          5.782267029122538E9,
          -744.360843,
          -584.907458,
          -469.977445,
          -384.908006,
          -320.413299,
          -270.453524,
          -231.001208,
          -199.307775,
          -173.456527,
          -152.083731,
          -134.200758,
          -119.078294,
          -106.169516,
          -95.05818,
          -85.422955,
          -77.012519,
          -69.627912,
          -63.109848,
          -57.329468,
          -52.181527,
          -47.579293,
          -43.450705,
          -39.735431,
          -36.382606,
          -33.349063,
          -30.59795,
          -28.097627,
          -25.820789,
          -23.743755,
          -21.845899,
          -20.109175,
          -18.517737,
          -17.057616,
          -15.716456,
          -14.483293,
          -13.348369,
          -12.30297,
          -11.3393,
          -10.450363,
          -9.629862,
          -8.872125,
          -8.172022,
          -7.52491,
          -6.926579,
          -6.3732,
          -5.861286,
          -5.387658,
          -4.949413,
          -4.543892,
          -4.168661,
          -3.821486,
          -3.500314,
          -3.203256,
          -2.928572,
          -2.67466,
          -2.440037,
          -2.223334,
          -2.023286,
          -1.838719,
          -1.668546,
          -1.511758,
          -1.367419,
          -1.234656,
          -1.112662,
          -1.000681,
          -0.898011,
          -0.803998,
          -0.71803,
          -0.639537,
          -0.567986,
          -0.502881,
          -0.443754,
          -0.390171,
          -0.341723,
          -0.298029,
          -0.25873,
          -0.223492,
          -0.191998,
          -0.163954,
          -0.139083,
          -0.117123,
          -0.097832,
          -0.080978,
          -0.066345,
          -0.053732,
          -0.042946,
          -0.033808,
          -0.026149,
          -0.01981,
          -0.01464,
          -0.0105,
          -0.007257,
          -0.004784,
          -0.002965,
          -0.001689,
          -8.52E-4,
          -3.54E-4,
          -1.03E-4,
          -1.3E-5,
          -0.0,
          1.2E-5,
          9.7E-5,
          3.23E-4,
          7.55E-4,
          0.001454,
          0.002476,
          0.003877,
          0.005706,
          0.008011,
          0.010838,
          0.014227,
          0.01822,
          0.022852,
          0.028159,
          0.034173,
          0.040926,
          0.048445,
          0.056758,
          0.06589,
          0.075864,
          0.086702,
          0.098424,
          0.11105,
          0.124598,
          0.139083,
          0.154521,
          0.170925,
          0.18831,
          0.206686,
          0.226065,
          0.246458,
          0.267872,
          0.290317,
          0.3138,
          0.338328,
          0.363907,
          0.390543,
          0.41824,
          0.447003,
          0.476835,
          0.507739,
          0.539718,
          0.572775,
          0.60691,
          0.642125,
          0.678421,
          0.715797,
          0.754255,
          0.793794,
          0.834412,
          0.87611,
          0.918885,
          0.962737,
          1.007662,
          1.05366,
          1.100728,
          1.148863,
          1.198062,
          1.248323,
          1.299642,
          1.352016,
          1.405441,
          1.459914,
          1.515431,
          1.571987,
          1.629578,
          1.688201,
          1.747851,
          1.808524,
          1.870214,
          1.932917,
          1.996629,
          2.061344,
          2.127058,
          2.193765,
          2.26146,
          2.330139,
          2.399796,
          2.470425,
          2.542022,
          2.614582,
          2.688097,
          2.762564,
          2.837977,
          2.91433,
          2.991618,
          3.069835,
          3.148976,
          3.229034,
          3.310006,
          3.391884,
          3.474663,
          3.558337,
          3.642902,
          3.728351,
          3.814678,
          3.901878,
          3.989946,
          4.078876,
          4.168661,
          4.259297,
          4.350778,
          4.443097,
          4.536251,
          4.630232,
          4.725036,
          4.820657,
          4.917089,
          5.014327,
          5.112365,
          5.211199,
          5.310821,
          5.411227,
          5.512412,
          5.61437,
          5.717096,
          5.820584,
          5.924829,
          6.029826,
          6.135569,
          6.242053,
          6.349273,
          6.457224,
          6.565901,
          6.675298,
          6.78541,
          6.896232,
          7.00776,
          7.119987,
          7.23291,
          7.346523,
          7.46082,
          7.575798,
          7.691451,
          7.807775,
          7.924764,
          8.042414,
          8.16072,
          8.279678,
          8.399281,
          8.519527,
          8.64041,
          8.761925,
          8.884068,
          9.006835,
          9.130221,
          9.254221,
          9.378831,
          9.504046,
          9.629862,
          9.756275,
          9.883281,
          10.010874,
          10.139051,
          10.267807,
          10.397138,
          10.527041,
          10.65751,
          10.788541,
          10.920132,
          11.052276,
          11.184971,
          11.318213,
          11.451996,
          11.586318,
          11.721175,
          11.856562,
          11.992475,
          12.128911,
          12.265867,
          12.403337,
          12.541318,
          12.679808,
          12.818801,
          12.958294,
          13.098283,
          13.238766,
          13.379738,
          13.521195,
          13.663135,
          13.805553,
          13.948446,
          14.091811,
          14.235644,
          14.379941,
          14.5247,
          14.669917,
          14.815588,
          14.961711,
          15.108281,
          15.255296,
          15.402753,
          15.550648,
          15.698977,
          15.847739,
          15.996929,
          16.146544,
          16.296582,
          16.44704,
          16.597913,
          16.7492,
          16.900897,
          17.053001,
          17.205509,
          17.358418,
          17.511726,
          17.665429,
          17.819525,
          17.974011,
          18.128883,
          18.284139,
          18.439777,
          18.595792,
          18.752184,
          18.908948,
          19.066083,
          19.223585,
          19.381453,
          19.539682,
          19.698271,
          19.857217,
          20.016517,
          20.176169,
          20.33617,
          20.496518,
          20.65721,
          20.818243,
          20.979616,
          21.141326,
          21.303369,
          21.465745,
          21.62845,
          21.791482,
          21.954839,
          22.118518,
          22.282517,
          22.446834,
          22.611466,
          22.776411,
          22.941667,
          23.107232,
          23.273103,
          23.439278,
          23.605754,
          23.772531,
          23.939605,
          24.106974,
          24.274637,
          24.442591,
          24.610833,
          24.779363,
          24.948178,
          25.117275,
          25.286653,
          25.45631,
          25.626243,
          25.796451,
          25.966932,
          26.137683,
          26.308703,
          26.479991,
          26.651542,
          26.823357,
          26.995433,
          27.167769,
          27.340361,
          27.513209,
          27.68631,
          27.859664,
          28.033267,
          28.207118,
          28.381216,
          28.555558,
          28.730143,
          28.904969,
          29.080035,
          29.255337,
          29.430876,
          29.606649,
          29.782654,
          29.95889,
          30.135355,
          30.312048,
          30.488966,
          30.666109,
          30.843473,
          31.021059,
          31.198864,
          31.376887,
          31.555126,
          31.73358,
          31.912246,
          32.091124,
          32.270212,
          32.449508,
          32.629012,
          32.80872,
          32.988633,
          33.168748,
          33.349063,
          33.529579,
          33.710292,
          33.891202,
          34.072307,
          34.253606,
          34.435097,
          34.616779,
          34.79865,
          34.98071,
          35.162956,
          35.345388,
          35.528004,
          35.710803,
          35.893783,
          36.076943,
          36.260282,
          36.443798,
          36.62749,
          36.811357,
          36.995398,
          37.179611,
          37.363995,
          37.548548,
          37.73327,
          37.91816,
          38.103215,
          38.288436,
          38.47382,
          38.659366,
          38.845073,
          39.030941,
          39.216967,
          39.403151,
          39.589491,
          39.775987,
          39.962637,
          40.14944,
          40.336395,
          40.5235,
          40.710755,
          40.898159,
          41.08571,
          41.273408,
          41.46125,
          41.649237,
          41.837367,
          42.025639,
          42.214051,
          42.402604,
          42.591296,
          42.780125,
          42.969091,
          43.158193,
          43.347429,
          43.536799,
          43.726302,
          43.915936,
          44.105701,
          44.295596,
          44.485619,
          44.675771,
          44.866048,
          45.056452,
          45.246981,
          45.437633,
          45.628408,
          45.819306,
          46.010324,
          46.201462,
          46.39272,
          46.584096,
          46.775589,
          46.967199,
          47.158924,
          47.350764,
          47.542718,
          47.734785,
          47.926963,
          48.119253,
          48.311653,
          48.504163,
          48.696781,
          48.889507,
          49.082339,
          49.275278,
          49.468322,
          49.66147,
          49.854722,
          50.048077,
          50.241533,
          50.435091,
          50.628748,
          50.822506,
          51.016362,
          51.210316,
          51.404367,
          51.598514,
          51.792757,
          51.987095,
          52.181527,
          52.376052,
          52.57067,
          52.765379,
          52.96018,
          53.15507,
          53.350051,
          53.54512,
          53.740277,
          53.935521,
          54.130853,
          54.32627,
          54.521772,
          54.717359,
          54.913029,
          55.108783,
          55.304619,
          55.500537,
          55.696535,
          55.892615,
          56.088773,
          56.285011,
          56.481327,
          56.677721,
          56.874191,
          57.070738,
          57.267361,
          57.464059,
          57.660831,
          57.857677,
          58.054595,
          58.251587,
          58.44865,
          58.645784,
          58.842989,
          59.040264,
          59.237608,
          59.435021,
          59.632501,
          59.83005,
          60.027665,
          60.225347,
          60.423094,
          60.620906,
          60.818783,
          61.016723,
          61.214727,
          61.412794,
          61.610923,
          61.809113,
          62.007365,
          62.205677,
          62.404049,
          62.60248,
          62.80097,
          62.999518,
          63.198124,
          63.396787,
          63.595506,
          63.794282,
          63.993113,
          64.191999,
          64.390939,
          64.589933,
          64.788981,
          64.988081,
          65.187234,
          65.386438,
          65.585694,
          65.785001,
          65.984358,
          66.183764,
          66.38322,
          66.582724,
          66.782277,
          66.981877,
          67.181525,
          67.38122,
          67.58096,
          67.780747,
          67.980578,
          68.180455,
          68.380376,
          68.580341,
          68.780349,
          68.9804,
          69.180493,
          69.380629,
          69.580806,
          69.781024,
          69.981282,
          70.181581,
          70.38192,
          70.582297,
          70.782714,
          70.983169,
          71.183661,
          71.384191,
          71.584759,
          71.785362,
          71.986002,
          72.186678,
          72.387389,
          72.588134,
          72.788915,
          72.989729,
          73.190576,
          73.391457,
          73.592371,
          73.793317,
          73.994295,
          74.195304,
          74.396345,
          74.597416,
          74.798517,
          74.999649,
          75.20081,
          75.401999,
          75.603218,
          75.804465,
          76.00574,
          76.207042,
          76.408372,
          76.609728,
          76.811111,
          77.012519,
          77.213953,
          77.415413,
          77.616897,
          77.818405,
          78.019938,
          78.221495,
          78.423075,
          78.624677,
          78.826303,
          79.027951,
          79.22962,
          79.431311,
          79.633024,
          79.834757,
          80.036511,
          80.238284,
          80.440078,
          80.641891,
          80.843723,
          81.045574,
          81.247443,
          81.44933,
          81.651235,
          81.853157,
          82.055096,
          82.257052,
          82.459025,
          82.661013,
          82.863017,
          83.065036,
          83.267071,
          83.46912,
          83.671183,
          83.873261,
          84.075352,
          84.277457,
          84.479575,
          84.681705,
          84.883848,
          85.086003,
          85.28817,
          85.490349,
          85.692539,
          85.89474,
          86.096951,
          86.299173,
          86.501404,
          86.703646,
          86.905896,
          87.108156,
          87.310425,
          87.512702,
          87.714987,
          87.917281,
          88.119582,
          88.32189,
          88.524205,
          88.726527,
          88.928856,
          89.13119,
          89.333531,
          89.535877,
          89.738229,
          89.940585,
          90.142947,
          90.345313,
          90.547683,
          90.750057,
          90.952435,
          91.154816,
          91.3572,
          91.559588,
          91.761977,
          91.96437,
          92.166764,
          92.36916,
          92.571557,
          92.773956,
          92.976356,
          93.178756,
          93.381158,
          93.583559,
          93.78596,
          93.988361,
          94.190762,
          94.393161,
          94.59556,
          94.797957,
          95.000353,
          95.202747,
          95.405139,
          95.607529,
          95.809916,
          96.012301,
          96.214682,
          96.41706,
          96.619435,
          96.821806,
          97.024173,
          97.226536,
          97.428894,
          97.631248,
          97.833597,
          98.035941,
          98.238279,
          98.440612,
          98.642938,
          98.845259,
          99.047574,
          99.249882,
          99.452183,
          99.654477,
          99.856764,
          100.059044,
          100.261316,
          100.46358,
          100.665836,
          100.868083,
          101.070323,
          101.272553,
          101.474774,
          101.676987,
          101.87919,
          102.081383,
          102.283567,
          102.48574,
          102.687903,
          102.890056,
          103.092198,
          103.29433,
          103.49645,
          103.698559,
          103.900656,
          104.102742,
          104.304816,
          104.506878,
          104.708927,
          104.910964,
          105.112988,
          105.315,
          105.516998,
          105.718983,
          105.920955,
          106.122913,
          106.324857,
          106.526787,
          106.728702,
          106.930603,
          107.13249,
          107.334362,
          107.536218,
          107.73806,
          107.939886,
          108.141696,
          108.343491,
          108.54527,
          108.747032,
          108.948778,
          109.150508,
          109.352221,
          109.553917,
          109.755596,
          109.957258,
          110.158902,
          110.360529,
          110.562138,
          110.763729,
          110.965302,
          111.166856,
          111.368392,
          111.56991,
          111.771408,
          111.972888,
          112.174348,
          112.375789,
          112.57721,
          112.778612,
          112.979994,
          113.181356,
          113.382697,
          113.584019,
          113.785319,
          113.986599,
          114.187858,
          114.389097,
          114.590313,
          114.791509,
          114.992683,
          115.193835,
          115.394966,
          115.596074,
          115.79716,
          115.998224,
          116.199266,
          116.400284,
          116.60128,
          116.802253,
          117.003203,
          117.20413,
          117.405033,
          117.605913,
          117.806768,
          118.0076,
          118.208408,
          118.409192,
          118.609951,
          118.810686,
          119.011396,
          119.212082,
          119.412742,
          119.613378,
          119.813988,
          120.014573,
          120.215132,
          120.415665,
          120.616173,
          120.816655,
          121.017111,
          121.21754,
          121.417943,
          121.61832,
          121.818669,
          122.018992,
          122.219288,
          122.419557,
          122.619799,
          122.820013,
          123.0202,
          123.220359,
          123.42049,
          123.620594,
          123.820669,
          124.020716,
          124.220735,
          124.420725,
          124.620687,
          124.82062,
          125.020524,
          125.220399,
          125.420245,
          125.620062,
          125.819849,
          126.019607,
          126.219335,
          126.419033,
          126.618702,
          126.81834,
          127.017948,
          127.217526,
          127.417074,
          127.616591,
          127.816077,
          128.015532,
          128.214957,
          128.41435,
          128.613713,
          128.813044,
          129.012344,
          129.211612,
          129.410848,
          129.610053,
          129.809226,
          130.008366,
          130.207475,
          130.406551,
          130.605595,
          130.804607,
          131.003586,
          131.202532,
          131.401445,
          131.600326,
          131.799173,
          131.997987,
          132.196768,
          132.395515,
          132.594229,
          132.792909,
          132.991556,
          133.190169,
          133.388747,
          133.587292,
          133.785802,
          133.984278,
          134.182719,
          134.381126,
          134.579499,
          134.777836,
          134.976139,
          135.174407,
          135.37264,
          135.570837,
          135.768999,
          135.967126,
          136.165217,
          136.363273,
          136.561293,
          136.759277,
          136.957225,
          137.155138,
          137.353014,
          137.550853,
          137.748657,
          137.946424,
          138.144155,
          138.341848,
          138.539505,
          138.737126,
          138.934709,
          139.132255,
          139.329764,
          139.527236,
          139.724671,
          139.922068,
          140.119428,
          140.31675,
          140.514034,
          140.71128,
          140.908489,
          141.105659,
          141.302791,
          141.499885,
          141.696941,
          141.893959,
          142.090937,
          142.287878,
          142.484779,
          142.681642,
          142.878466,
          143.075251,
          143.271997,
          143.468704,
          143.665372,
          143.862,
          144.058589,
          144.255138,
          144.451648,
          144.648118,
          144.844548,
          145.040939,
          145.237289,
          145.4336,
          145.62987,
          145.8261,
          146.02229,
          146.21844,
          146.414549,
          146.610617,
          146.806645,
          147.002632,
          147.198578,
          147.394483,
          147.590348,
          147.786171,
          147.981953,
          148.177694,
          148.373394,
          148.569052,
          148.764669,
          148.960244,
          149.155778,
          149.35127,
          149.54672,
          149.742128,
          149.937494,
          150.132818,
          150.328101,
          150.52334,
          150.718538,
          150.913693,
          151.108806,
          151.303876,
          151.498904,
          151.693889,
          151.888832,
          152.083731
         ],
         "yaxis": "y",
         "type": "scattergl"
        }
       ],
       "layout": {
        "template": {
         "data": {
          "histogram2dcontour": [
           {
            "type": "histogram2dcontour",
            "colorbar": {
             "outlinewidth": 0,
             "ticks": ""
            },
            "colorscale": [
             [
              0.0,
              "#0d0887"
             ],
             [
              0.1111111111111111,
              "#46039f"
             ],
             [
              0.2222222222222222,
              "#7201a8"
             ],
             [
              0.3333333333333333,
              "#9c179e"
             ],
             [
              0.4444444444444444,
              "#bd3786"
             ],
             [
              0.5555555555555556,
              "#d8576b"
             ],
             [
              0.6666666666666666,
              "#ed7953"
             ],
             [
              0.7777777777777778,
              "#fb9f3a"
             ],
             [
              0.8888888888888888,
              "#fdca26"
             ],
             [
              1.0,
              "#f0f921"
             ]
            ]
           }
          ],
          "choropleth": [
           {
            "type": "choropleth",
            "colorbar": {
             "outlinewidth": 0,
             "ticks": ""
            }
           }
          ],
          "histogram2d": [
           {
            "type": "histogram2d",
            "colorbar": {
             "outlinewidth": 0,
             "ticks": ""
            },
            "colorscale": [
             [
              0.0,
              "#0d0887"
             ],
             [
              0.1111111111111111,
              "#46039f"
             ],
             [
              0.2222222222222222,
              "#7201a8"
             ],
             [
              0.3333333333333333,
              "#9c179e"
             ],
             [
              0.4444444444444444,
              "#bd3786"
             ],
             [
              0.5555555555555556,
              "#d8576b"
             ],
             [
              0.6666666666666666,
              "#ed7953"
             ],
             [
              0.7777777777777778,
              "#fb9f3a"
             ],
             [
              0.8888888888888888,
              "#fdca26"
             ],
             [
              1.0,
              "#f0f921"
             ]
            ]
           }
          ],
          "heatmap": [
           {
            "type": "heatmap",
            "colorbar": {
             "outlinewidth": 0,
             "ticks": ""
            },
            "colorscale": [
             [
              0.0,
              "#0d0887"
             ],
             [
              0.1111111111111111,
              "#46039f"
             ],
             [
              0.2222222222222222,
              "#7201a8"
             ],
             [
              0.3333333333333333,
              "#9c179e"
             ],
             [
              0.4444444444444444,
              "#bd3786"
             ],
             [
              0.5555555555555556,
              "#d8576b"
             ],
             [
              0.6666666666666666,
              "#ed7953"
             ],
             [
              0.7777777777777778,
              "#fb9f3a"
             ],
             [
              0.8888888888888888,
              "#fdca26"
             ],
             [
              1.0,
              "#f0f921"
             ]
            ]
           }
          ],
          "heatmapgl": [
           {
            "type": "heatmapgl",
            "colorbar": {
             "outlinewidth": 0,
             "ticks": ""
            },
            "colorscale": [
             [
              0.0,
              "#0d0887"
             ],
             [
              0.1111111111111111,
              "#46039f"
             ],
             [
              0.2222222222222222,
              "#7201a8"
             ],
             [
              0.3333333333333333,
              "#9c179e"
             ],
             [
              0.4444444444444444,
              "#bd3786"
             ],
             [
              0.5555555555555556,
              "#d8576b"
             ],
             [
              0.6666666666666666,
              "#ed7953"
             ],
             [
              0.7777777777777778,
              "#fb9f3a"
             ],
             [
              0.8888888888888888,
              "#fdca26"
             ],
             [
              1.0,
              "#f0f921"
             ]
            ]
           }
          ],
          "contourcarpet": [
           {
            "type": "contourcarpet",
            "colorbar": {
             "outlinewidth": 0,
             "ticks": ""
            }
           }
          ],
          "contour": [
           {
            "type": "contour",
            "colorbar": {
             "outlinewidth": 0,
             "ticks": ""
            },
            "colorscale": [
             [
              0.0,
              "#0d0887"
             ],
             [
              0.1111111111111111,
              "#46039f"
             ],
             [
              0.2222222222222222,
              "#7201a8"
             ],
             [
              0.3333333333333333,
              "#9c179e"
             ],
             [
              0.4444444444444444,
              "#bd3786"
             ],
             [
              0.5555555555555556,
              "#d8576b"
             ],
             [
              0.6666666666666666,
              "#ed7953"
             ],
             [
              0.7777777777777778,
              "#fb9f3a"
             ],
             [
              0.8888888888888888,
              "#fdca26"
             ],
             [
              1.0,
              "#f0f921"
             ]
            ]
           }
          ],
          "surface": [
           {
            "type": "surface",
            "colorbar": {
             "outlinewidth": 0,
             "ticks": ""
            },
            "colorscale": [
             [
              0.0,
              "#0d0887"
             ],
             [
              0.1111111111111111,
              "#46039f"
             ],
             [
              0.2222222222222222,
              "#7201a8"
             ],
             [
              0.3333333333333333,
              "#9c179e"
             ],
             [
              0.4444444444444444,
              "#bd3786"
             ],
             [
              0.5555555555555556,
              "#d8576b"
             ],
             [
              0.6666666666666666,
              "#ed7953"
             ],
             [
              0.7777777777777778,
              "#fb9f3a"
             ],
             [
              0.8888888888888888,
              "#fdca26"
             ],
             [
              1.0,
              "#f0f921"
             ]
            ]
           }
          ],
          "mesh3d": [
           {
            "type": "mesh3d",
            "colorbar": {
             "outlinewidth": 0,
             "ticks": ""
            }
           }
          ],
          "scatter": [
           {
            "fillpattern": {
             "fillmode": "overlay",
             "size": 10,
             "solidity": 0.2
            },
            "type": "scatter"
           }
          ],
          "parcoords": [
           {
            "type": "parcoords",
            "line": {
             "colorbar": {
              "outlinewidth": 0,
              "ticks": ""
             }
            }
           }
          ],
          "scatterpolargl": [
           {
            "type": "scatterpolargl",
            "marker": {
             "colorbar": {
              "outlinewidth": 0,
              "ticks": ""
             }
            }
           }
          ],
          "bar": [
           {
            "error_x": {
             "color": "#2a3f5f"
            },
            "error_y": {
             "color": "#2a3f5f"
            },
            "marker": {
             "line": {
              "color": "#E5ECF6",
              "width": 0.5
             },
             "pattern": {
              "fillmode": "overlay",
              "size": 10,
              "solidity": 0.2
             }
            },
            "type": "bar"
           }
          ],
          "scattergeo": [
           {
            "type": "scattergeo",
            "marker": {
             "colorbar": {
              "outlinewidth": 0,
              "ticks": ""
             }
            }
           }
          ],
          "scatterpolar": [
           {
            "type": "scatterpolar",
            "marker": {
             "colorbar": {
              "outlinewidth": 0,
              "ticks": ""
             }
            }
           }
          ],
          "histogram": [
           {
            "marker": {
             "pattern": {
              "fillmode": "overlay",
              "size": 10,
              "solidity": 0.2
             }
            },
            "type": "histogram"
           }
          ],
          "scattergl": [
           {
            "type": "scattergl",
            "marker": {
             "colorbar": {
              "outlinewidth": 0,
              "ticks": ""
             }
            }
           }
          ],
          "scatter3d": [
           {
            "type": "scatter3d",
            "line": {
             "colorbar": {
              "outlinewidth": 0,
              "ticks": ""
             }
            },
            "marker": {
             "colorbar": {
              "outlinewidth": 0,
              "ticks": ""
             }
            }
           }
          ],
          "scattermapbox": [
           {
            "type": "scattermapbox",
            "marker": {
             "colorbar": {
              "outlinewidth": 0,
              "ticks": ""
             }
            }
           }
          ],
          "scatterternary": [
           {
            "type": "scatterternary",
            "marker": {
             "colorbar": {
              "outlinewidth": 0,
              "ticks": ""
             }
            }
           }
          ],
          "scattercarpet": [
           {
            "type": "scattercarpet",
            "marker": {
             "colorbar": {
              "outlinewidth": 0,
              "ticks": ""
             }
            }
           }
          ],
          "carpet": [
           {
            "aaxis": {
             "endlinecolor": "#2a3f5f",
             "gridcolor": "white",
             "linecolor": "white",
             "minorgridcolor": "white",
             "startlinecolor": "#2a3f5f"
            },
            "baxis": {
             "endlinecolor": "#2a3f5f",
             "gridcolor": "white",
             "linecolor": "white",
             "minorgridcolor": "white",
             "startlinecolor": "#2a3f5f"
            },
            "type": "carpet"
           }
          ],
          "table": [
           {
            "cells": {
             "fill": {
              "color": "#EBF0F8"
             },
             "line": {
              "color": "white"
             }
            },
            "header": {
             "fill": {
              "color": "#C8D4E3"
             },
             "line": {
              "color": "white"
             }
            },
            "type": "table"
           }
          ],
          "barpolar": [
           {
            "marker": {
             "line": {
              "color": "#E5ECF6",
              "width": 0.5
             },
             "pattern": {
              "fillmode": "overlay",
              "size": 10,
              "solidity": 0.2
             }
            },
            "type": "barpolar"
           }
          ],
          "pie": [
           {
            "automargin": true,
            "type": "pie"
           }
          ]
         },
         "layout": {
          "autotypenumbers": "strict",
          "colorway": [
           "#636efa",
           "#EF553B",
           "#00cc96",
           "#ab63fa",
           "#FFA15A",
           "#19d3f3",
           "#FF6692",
           "#B6E880",
           "#FF97FF",
           "#FECB52"
          ],
          "font": {
           "color": "#2a3f5f"
          },
          "hovermode": "closest",
          "hoverlabel": {
           "align": "left"
          },
          "paper_bgcolor": "white",
          "plot_bgcolor": "#E5ECF6",
          "polar": {
           "bgcolor": "#E5ECF6",
           "angularaxis": {
            "gridcolor": "white",
            "linecolor": "white",
            "ticks": ""
           },
           "radialaxis": {
            "gridcolor": "white",
            "linecolor": "white",
            "ticks": ""
           }
          },
          "ternary": {
           "bgcolor": "#E5ECF6",
           "aaxis": {
            "gridcolor": "white",
            "linecolor": "white",
            "ticks": ""
           },
           "baxis": {
            "gridcolor": "white",
            "linecolor": "white",
            "ticks": ""
           },
           "caxis": {
            "gridcolor": "white",
            "linecolor": "white",
            "ticks": ""
           }
          },
          "coloraxis": {
           "colorbar": {
            "outlinewidth": 0,
            "ticks": ""
           }
          },
          "colorscale": {
           "sequential": [
            [
             0.0,
             "#0d0887"
            ],
            [
             0.1111111111111111,
             "#46039f"
            ],
            [
             0.2222222222222222,
             "#7201a8"
            ],
            [
             0.3333333333333333,
             "#9c179e"
            ],
            [
             0.4444444444444444,
             "#bd3786"
            ],
            [
             0.5555555555555556,
             "#d8576b"
            ],
            [
             0.6666666666666666,
             "#ed7953"
            ],
            [
             0.7777777777777778,
             "#fb9f3a"
            ],
            [
             0.8888888888888888,
             "#fdca26"
            ],
            [
             1.0,
             "#f0f921"
            ]
           ],
           "sequentialminus": [
            [
             0.0,
             "#0d0887"
            ],
            [
             0.1111111111111111,
             "#46039f"
            ],
            [
             0.2222222222222222,
             "#7201a8"
            ],
            [
             0.3333333333333333,
             "#9c179e"
            ],
            [
             0.4444444444444444,
             "#bd3786"
            ],
            [
             0.5555555555555556,
             "#d8576b"
            ],
            [
             0.6666666666666666,
             "#ed7953"
            ],
            [
             0.7777777777777778,
             "#fb9f3a"
            ],
            [
             0.8888888888888888,
             "#fdca26"
            ],
            [
             1.0,
             "#f0f921"
            ]
           ],
           "diverging": [
            [
             0,
             "#8e0152"
            ],
            [
             0.1,
             "#c51b7d"
            ],
            [
             0.2,
             "#de77ae"
            ],
            [
             0.3,
             "#f1b6da"
            ],
            [
             0.4,
             "#fde0ef"
            ],
            [
             0.5,
             "#f7f7f7"
            ],
            [
             0.6,
             "#e6f5d0"
            ],
            [
             0.7,
             "#b8e186"
            ],
            [
             0.8,
             "#7fbc41"
            ],
            [
             0.9,
             "#4d9221"
            ],
            [
             1,
             "#276419"
            ]
           ]
          },
          "xaxis": {
           "gridcolor": "white",
           "linecolor": "white",
           "ticks": "",
           "title": {
            "standoff": 15
           },
           "zerolinecolor": "white",
           "automargin": true,
           "zerolinewidth": 2
          },
          "yaxis": {
           "gridcolor": "white",
           "linecolor": "white",
           "ticks": "",
           "title": {
            "standoff": 15
           },
           "zerolinecolor": "white",
           "automargin": true,
           "zerolinewidth": 2
          },
          "scene": {
           "xaxis": {
            "backgroundcolor": "#E5ECF6",
            "gridcolor": "white",
            "linecolor": "white",
            "showbackground": true,
            "ticks": "",
            "zerolinecolor": "white",
            "gridwidth": 2
           },
           "yaxis": {
            "backgroundcolor": "#E5ECF6",
            "gridcolor": "white",
            "linecolor": "white",
            "showbackground": true,
            "ticks": "",
            "zerolinecolor": "white",
            "gridwidth": 2
           },
           "zaxis": {
            "backgroundcolor": "#E5ECF6",
            "gridcolor": "white",
            "linecolor": "white",
            "showbackground": true,
            "ticks": "",
            "zerolinecolor": "white",
            "gridwidth": 2
           }
          },
          "shapedefaults": {
           "line": {
            "color": "#2a3f5f"
           }
          },
          "annotationdefaults": {
           "arrowcolor": "#2a3f5f",
           "arrowhead": 0,
           "arrowwidth": 1
          },
          "geo": {
           "bgcolor": "white",
           "landcolor": "#E5ECF6",
           "subunitcolor": "white",
           "showland": true,
           "showlakes": true,
           "lakecolor": "white"
          },
          "title": {
           "x": 0.05
          },
          "mapbox": {
           "style": "light"
          }
         }
        },
        "xaxis": {
         "anchor": "y",
         "domain": [
          0.0,
          1.0
         ],
         "title": {
          "text": "x"
         }
        },
        "yaxis": {
         "anchor": "x",
         "domain": [
          0.0,
          1.0
         ],
         "title": {
          "text": "y"
         }
        },
        "legend": {
         "tracegroupgap": 0
        },
        "title": {
         "text": "sys"
        }
       },
       "config": {
        "plotlyServerURL": "https://plot.ly"
       }
      },
      "text/html": "<div>                            <div id=\"e8b7ba10-a953-4d70-b920-647a30605b5f\" class=\"plotly-graph-div\" style=\"height:525px; width:100%;\"></div>            <script type=\"text/javascript\">                require([\"plotly\"], function(Plotly) {                    window.PLOTLYENV=window.PLOTLYENV || {};                                    if (document.getElementById(\"e8b7ba10-a953-4d70-b920-647a30605b5f\")) {                    Plotly.newPlot(                        \"e8b7ba10-a953-4d70-b920-647a30605b5f\",                        [{\"hovertemplate\":\"x=%{x}\\u003cbr\\u003ey=%{y}\\u003cextra\\u003e\\u003c\\u002fextra\\u003e\",\"legendgroup\":\"\",\"line\":{\"color\":\"#636efa\",\"dash\":\"solid\"},\"marker\":{\"symbol\":\"circle\"},\"mode\":\"lines\",\"name\":\"\",\"showlegend\":false,\"x\":[-10.0,-9.99,-9.98,-9.97,-9.96,-9.95,-9.94,-9.93,-9.92,-9.91,-9.9,-9.89,-9.88,-9.87,-9.86,-9.85,-9.84,-9.83,-9.82,-9.81,-9.8,-9.79,-9.78,-9.77,-9.76,-9.75,-9.74,-9.73,-9.72,-9.71,-9.7,-9.69,-9.68,-9.67,-9.66,-9.65,-9.64,-9.63,-9.62,-9.61,-9.6,-9.59,-9.58,-9.57,-9.56,-9.55,-9.54,-9.53,-9.52,-9.51,-9.5,-9.49,-9.48,-9.47,-9.46,-9.45,-9.44,-9.43,-9.42,-9.41,-9.4,-9.39,-9.38,-9.37,-9.36,-9.35,-9.34,-9.33,-9.32,-9.31,-9.3,-9.29,-9.28,-9.27,-9.26,-9.25,-9.24,-9.23,-9.22,-9.21,-9.2,-9.19,-9.18,-9.17,-9.16,-9.15,-9.14,-9.13,-9.12,-9.11,-9.1,-9.09,-9.08,-9.07,-9.06,-9.05,-9.04,-9.03,-9.02,-9.01,-9.0,-8.99,-8.98,-8.97,-8.96,-8.95,-8.94,-8.93,-8.92,-8.91,-8.9,-8.89,-8.88,-8.87,-8.86,-8.85,-8.84,-8.83,-8.82,-8.81,-8.8,-8.79,-8.78,-8.77,-8.76,-8.75,-8.74,-8.73,-8.72,-8.71,-8.7,-8.69,-8.68,-8.67,-8.66,-8.65,-8.64,-8.63,-8.62,-8.61,-8.6,-8.59,-8.58,-8.57,-8.56,-8.55,-8.54,-8.53,-8.52,-8.51,-8.5,-8.49,-8.48,-8.47,-8.46,-8.45,-8.44,-8.43,-8.42,-8.41,-8.4,-8.39,-8.38,-8.37,-8.36,-8.35,-8.34,-8.33,-8.32,-8.31,-8.3,-8.29,-8.28,-8.27,-8.26,-8.25,-8.24,-8.23,-8.22,-8.21,-8.2,-8.19,-8.18,-8.17,-8.16,-8.15,-8.14,-8.13,-8.12,-8.11,-8.1,-8.09,-8.08,-8.07,-8.06,-8.05,-8.04,-8.03,-8.02,-8.01,-8.0,-7.99,-7.98,-7.97,-7.96,-7.95,-7.94,-7.93,-7.92,-7.91,-7.9,-7.89,-7.88,-7.87,-7.86,-7.85,-7.84,-7.83,-7.82,-7.81,-7.8,-7.79,-7.78,-7.77,-7.76,-7.75,-7.74,-7.73,-7.72,-7.71,-7.7,-7.69,-7.68,-7.67,-7.66,-7.65,-7.64,-7.63,-7.62,-7.61,-7.6,-7.59,-7.58,-7.57,-7.56,-7.55,-7.54,-7.53,-7.52,-7.51,-7.5,-7.49,-7.48,-7.47,-7.46,-7.45,-7.44,-7.43,-7.42,-7.41,-7.4,-7.39,-7.38,-7.37,-7.36,-7.35,-7.34,-7.33,-7.32,-7.31,-7.3,-7.29,-7.28,-7.27,-7.26,-7.25,-7.24,-7.23,-7.22,-7.21,-7.2,-7.19,-7.18,-7.17,-7.16,-7.15,-7.14,-7.13,-7.12,-7.11,-7.1,-7.09,-7.08,-7.07,-7.06,-7.05,-7.04,-7.03,-7.02,-7.01,-7.0,-6.99,-6.98,-6.97,-6.96,-6.95,-6.94,-6.93,-6.92,-6.91,-6.9,-6.89,-6.88,-6.87,-6.86,-6.85,-6.84,-6.83,-6.82,-6.81,-6.8,-6.79,-6.78,-6.77,-6.76,-6.75,-6.74,-6.73,-6.72,-6.71,-6.7,-6.69,-6.68,-6.67,-6.66,-6.65,-6.64,-6.63,-6.62,-6.61,-6.6,-6.59,-6.58,-6.57,-6.56,-6.55,-6.54,-6.53,-6.52,-6.51,-6.5,-6.49,-6.48,-6.47,-6.46,-6.45,-6.44,-6.43,-6.42,-6.41,-6.4,-6.39,-6.38,-6.37,-6.36,-6.35,-6.34,-6.33,-6.32,-6.31,-6.3,-6.29,-6.28,-6.27,-6.26,-6.25,-6.24,-6.23,-6.22,-6.21,-6.2,-6.19,-6.18,-6.17,-6.16,-6.15,-6.14,-6.13,-6.12,-6.11,-6.1,-6.09,-6.08,-6.07,-6.06,-6.05,-6.04,-6.03,-6.02,-6.01,-6.0,-5.99,-5.98,-5.97,-5.96,-5.95,-5.94,-5.93,-5.92,-5.91,-5.9,-5.89,-5.88,-5.87,-5.86,-5.85,-5.84,-5.83,-5.82,-5.81,-5.8,-5.79,-5.78,-5.77,-5.76,-5.75,-5.74,-5.73,-5.72,-5.71,-5.7,-5.69,-5.68,-5.67,-5.66,-5.65,-5.64,-5.63,-5.62,-5.61,-5.6,-5.59,-5.58,-5.57,-5.56,-5.55,-5.54,-5.53,-5.52,-5.51,-5.5,-5.49,-5.48,-5.47,-5.46,-5.45,-5.44,-5.43,-5.42,-5.41,-5.4,-5.39,-5.38,-5.37,-5.36,-5.35,-5.34,-5.33,-5.32,-5.31,-5.3,-5.29,-5.28,-5.27,-5.26,-5.25,-5.24,-5.23,-5.22,-5.21,-5.2,-5.19,-5.18,-5.17,-5.16,-5.15,-5.14,-5.13,-5.12,-5.11,-5.1,-5.09,-5.08,-5.07,-5.06,-5.05,-5.04,-5.03,-5.02,-5.01,-5.0,-4.99,-4.98,-4.97,-4.96,-4.95,-4.94,-4.93,-4.92,-4.91,-4.9,-4.89,-4.88,-4.87,-4.86,-4.85,-4.84,-4.83,-4.82,-4.81,-4.8,-4.79,-4.78,-4.77,-4.76,-4.75,-4.74,-4.73,-4.72,-4.71,-4.7,-4.69,-4.68,-4.67,-4.66,-4.65,-4.64,-4.63,-4.62,-4.61,-4.6,-4.59,-4.58,-4.57,-4.56,-4.55,-4.54,-4.53,-4.52,-4.51,-4.5,-4.49,-4.48,-4.47,-4.46,-4.45,-4.44,-4.43,-4.42,-4.41,-4.4,-4.39,-4.38,-4.37,-4.36,-4.35,-4.34,-4.33,-4.32,-4.31,-4.3,-4.29,-4.28,-4.27,-4.26,-4.25,-4.24,-4.23,-4.22,-4.21,-4.2,-4.19,-4.18,-4.17,-4.16,-4.15,-4.14,-4.13,-4.12,-4.11,-4.1,-4.09,-4.08,-4.07,-4.06,-4.05,-4.04,-4.03,-4.02,-4.01,-4.0,-3.99,-3.98,-3.97,-3.96,-3.95,-3.94,-3.93,-3.92,-3.91,-3.9,-3.89,-3.88,-3.87,-3.86,-3.85,-3.84,-3.83,-3.82,-3.81,-3.8,-3.79,-3.78,-3.77,-3.76,-3.75,-3.74,-3.73,-3.72,-3.71,-3.7,-3.69,-3.68,-3.67,-3.66,-3.65,-3.64,-3.63,-3.62,-3.61,-3.6,-3.59,-3.58,-3.57,-3.56,-3.55,-3.54,-3.53,-3.52,-3.51,-3.5,-3.49,-3.48,-3.47,-3.46,-3.45,-3.44,-3.43,-3.42,-3.41,-3.4,-3.39,-3.38,-3.37,-3.36,-3.35,-3.34,-3.33,-3.32,-3.31,-3.3,-3.29,-3.28,-3.27,-3.26,-3.25,-3.24,-3.23,-3.22,-3.21,-3.2,-3.19,-3.18,-3.17,-3.16,-3.15,-3.14,-3.13,-3.12,-3.11,-3.1,-3.09,-3.08,-3.07,-3.06,-3.05,-3.04,-3.03,-3.02,-3.01,-3.0,-2.99,-2.98,-2.97,-2.96,-2.95,-2.94,-2.93,-2.92,-2.91,-2.9,-2.89,-2.88,-2.87,-2.86,-2.85,-2.84,-2.83,-2.82,-2.81,-2.8,-2.79,-2.78,-2.77,-2.76,-2.75,-2.74,-2.73,-2.72,-2.71,-2.7,-2.69,-2.68,-2.67,-2.66,-2.65,-2.64,-2.63,-2.62,-2.61,-2.6,-2.59,-2.58,-2.57,-2.56,-2.55,-2.54,-2.53,-2.52,-2.51,-2.5,-2.49,-2.48,-2.47,-2.46,-2.45,-2.44,-2.43,-2.42,-2.41,-2.4,-2.39,-2.38,-2.37,-2.36,-2.35,-2.34,-2.33,-2.32,-2.31,-2.3,-2.29,-2.28,-2.27,-2.26,-2.25,-2.24,-2.23,-2.22,-2.21,-2.2,-2.19,-2.18,-2.17,-2.16,-2.15,-2.14,-2.13,-2.12,-2.11,-2.1,-2.09,-2.08,-2.07,-2.06,-2.05,-2.04,-2.03,-2.02,-2.01,-2.0,-1.99,-1.98,-1.97,-1.96,-1.95,-1.94,-1.93,-1.92,-1.91,-1.9,-1.89,-1.88,-1.87,-1.86,-1.85,-1.84,-1.83,-1.82,-1.81,-1.8,-1.79,-1.78,-1.77,-1.76,-1.75,-1.74,-1.73,-1.72,-1.71,-1.7,-1.69,-1.68,-1.67,-1.66,-1.65,-1.64,-1.63,-1.62,-1.61,-1.6,-1.59,-1.58,-1.57,-1.56,-1.55,-1.54,-1.53,-1.52,-1.51,-1.5,-1.49,-1.48,-1.47,-1.46,-1.45,-1.44,-1.43,-1.42,-1.41,-1.4,-1.39,-1.38,-1.37,-1.36,-1.35,-1.34,-1.33,-1.32,-1.31,-1.3,-1.29,-1.28,-1.27,-1.26,-1.25,-1.24,-1.23,-1.22,-1.21,-1.2,-1.19,-1.18,-1.17,-1.16,-1.15,-1.14,-1.13,-1.12,-1.11,-1.1,-1.09,-1.08,-1.07,-1.06,-1.05,-1.04,-1.03,-1.02,-1.01,-1.0,-0.99,-0.98,-0.97,-0.96,-0.95,-0.94,-0.93,-0.92,-0.91,-0.9,-0.89,-0.88,-0.87,-0.86,-0.85,-0.84,-0.83,-0.82,-0.81,-0.8,-0.79,-0.78,-0.77,-0.76,-0.75,-0.74,-0.73,-0.72,-0.71,-0.7,-0.69,-0.68,-0.67,-0.66,-0.65,-0.64,-0.63,-0.62,-0.61,-0.6,-0.59,-0.58,-0.57,-0.56,-0.55,-0.54,-0.53,-0.52,-0.51,-0.5,-0.49,-0.48,-0.47,-0.46,-0.45,-0.44,-0.43,-0.42,-0.41,-0.4,-0.39,-0.38,-0.37,-0.36,-0.35,-0.34,-0.33,-0.32,-0.31,-0.3,-0.29,-0.28,-0.27,-0.26,-0.25,-0.24,-0.23,-0.22,-0.21,-0.2,-0.19,-0.18,-0.17,-0.16,-0.15,-0.14,-0.13,-0.12,-0.11,-0.1,-0.09,-0.08,-0.07,-0.06,-0.05,-0.04,-0.03,-0.02,-0.01,-0.0,0.01,0.02,0.03,0.04,0.05,0.06,0.07,0.08,0.09,0.1,0.11,0.12,0.13,0.14,0.15,0.16,0.17,0.18,0.19,0.2,0.21,0.22,0.23,0.24,0.25,0.26,0.27,0.28,0.29,0.3,0.31,0.32,0.33,0.34,0.35,0.36,0.37,0.38,0.39,0.4,0.41,0.42,0.43,0.44,0.45,0.46,0.47,0.48,0.49,0.5,0.51,0.52,0.53,0.54,0.55,0.56,0.57,0.58,0.59,0.6,0.61,0.62,0.63,0.64,0.65,0.66,0.67,0.68,0.69,0.7,0.71,0.72,0.73,0.74,0.75,0.76,0.77,0.78,0.79,0.8,0.81,0.82,0.83,0.84,0.85,0.86,0.87,0.88,0.89,0.9,0.91,0.92,0.93,0.94,0.95,0.96,0.97,0.98,0.99,1.0,1.01,1.02,1.03,1.04,1.05,1.06,1.07,1.08,1.09,1.1,1.11,1.12,1.13,1.14,1.15,1.16,1.17,1.18,1.19,1.2,1.21,1.22,1.23,1.24,1.25,1.26,1.27,1.28,1.29,1.3,1.31,1.32,1.33,1.34,1.35,1.36,1.37,1.38,1.39,1.4,1.41,1.42,1.43,1.44,1.45,1.46,1.47,1.48,1.49,1.5,1.51,1.52,1.53,1.54,1.55,1.56,1.57,1.58,1.59,1.6,1.61,1.62,1.63,1.64,1.65,1.66,1.67,1.68,1.69,1.7,1.71,1.72,1.73,1.74,1.75,1.76,1.77,1.78,1.79,1.8,1.81,1.82,1.83,1.84,1.85,1.86,1.87,1.88,1.89,1.9,1.91,1.92,1.93,1.94,1.95,1.96,1.97,1.98,1.99,2.0,2.01,2.02,2.03,2.04,2.05,2.06,2.07,2.08,2.09,2.1,2.11,2.12,2.13,2.14,2.15,2.16,2.17,2.18,2.19,2.2,2.21,2.22,2.23,2.24,2.25,2.26,2.27,2.28,2.29,2.3,2.31,2.32,2.33,2.34,2.35,2.36,2.37,2.38,2.39,2.4,2.41,2.42,2.43,2.44,2.45,2.46,2.47,2.48,2.49,2.5,2.51,2.52,2.53,2.54,2.55,2.56,2.57,2.58,2.59,2.6,2.61,2.62,2.63,2.64,2.65,2.66,2.67,2.68,2.69,2.7,2.71,2.72,2.73,2.74,2.75,2.76,2.77,2.78,2.79,2.8,2.81,2.82,2.83,2.84,2.85,2.86,2.87,2.88,2.89,2.9,2.91,2.92,2.93,2.94,2.95,2.96,2.97,2.98,2.99,3.0,3.01,3.02,3.03,3.04,3.05,3.06,3.07,3.08,3.09,3.1,3.11,3.12,3.13,3.14,3.15,3.16,3.17,3.18,3.19,3.2,3.21,3.22,3.23,3.24,3.25,3.26,3.27,3.28,3.29,3.3,3.31,3.32,3.33,3.34,3.35,3.36,3.37,3.38,3.39,3.4,3.41,3.42,3.43,3.44,3.45,3.46,3.47,3.48,3.49,3.5,3.51,3.52,3.53,3.54,3.55,3.56,3.57,3.58,3.59,3.6,3.61,3.62,3.63,3.64,3.65,3.66,3.67,3.68,3.69,3.7,3.71,3.72,3.73,3.74,3.75,3.76,3.77,3.78,3.79,3.8,3.81,3.82,3.83,3.84,3.85,3.86,3.87,3.88,3.89,3.9,3.91,3.92,3.93,3.94,3.95,3.96,3.97,3.98,3.99,4.0,4.01,4.02,4.03,4.04,4.05,4.06,4.07,4.08,4.09,4.1,4.11,4.12,4.13,4.14,4.15,4.16,4.17,4.18,4.19,4.2,4.21,4.22,4.23,4.24,4.25,4.26,4.27,4.28,4.29,4.3,4.31,4.32,4.33,4.34,4.35,4.36,4.37,4.38,4.39,4.4,4.41,4.42,4.43,4.44,4.45,4.46,4.47,4.48,4.49,4.5,4.51,4.52,4.53,4.54,4.55,4.56,4.57,4.58,4.59,4.6,4.61,4.62,4.63,4.64,4.65,4.66,4.67,4.68,4.69,4.7,4.71,4.72,4.73,4.74,4.75,4.76,4.77,4.78,4.79,4.8,4.81,4.82,4.83,4.84,4.85,4.86,4.87,4.88,4.89,4.9,4.91,4.92,4.93,4.94,4.95,4.96,4.97,4.98,4.99,5.0,5.01,5.02,5.03,5.04,5.05,5.06,5.07,5.08,5.09,5.1,5.11,5.12,5.13,5.14,5.15,5.16,5.17,5.18,5.19,5.2,5.21,5.22,5.23,5.24,5.25,5.26,5.27,5.28,5.29,5.3,5.31,5.32,5.33,5.34,5.35,5.36,5.37,5.38,5.39,5.4,5.41,5.42,5.43,5.44,5.45,5.46,5.47,5.48,5.49,5.5,5.51,5.52,5.53,5.54,5.55,5.56,5.57,5.58,5.59,5.6,5.61,5.62,5.63,5.64,5.65,5.66,5.67,5.68,5.69,5.7,5.71,5.72,5.73,5.74,5.75,5.76,5.77,5.78,5.79,5.8,5.81,5.82,5.83,5.84,5.85,5.86,5.87,5.88,5.89,5.9,5.91,5.92,5.93,5.94,5.95,5.96,5.97,5.98,5.99,6.0,6.01,6.02,6.03,6.04,6.05,6.06,6.07,6.08,6.09,6.1,6.11,6.12,6.13,6.14,6.15,6.16,6.17,6.18,6.19,6.2,6.21,6.22,6.23,6.24,6.25,6.26,6.27,6.28,6.29,6.3,6.31,6.32,6.33,6.34,6.35,6.36,6.37,6.38,6.39,6.4,6.41,6.42,6.43,6.44,6.45,6.46,6.47,6.48,6.49,6.5,6.51,6.52,6.53,6.54,6.55,6.56,6.57,6.58,6.59,6.6,6.61,6.62,6.63,6.64,6.65,6.66,6.67,6.68,6.69,6.7,6.71,6.72,6.73,6.74,6.75,6.76,6.77,6.78,6.79,6.8,6.81,6.82,6.83,6.84,6.85,6.86,6.87,6.88,6.89,6.9,6.91,6.92,6.93,6.94,6.95,6.96,6.97,6.98,6.99,7.0,7.01,7.02,7.03,7.04,7.05,7.06,7.07,7.08,7.09,7.1,7.11,7.12,7.13,7.14,7.15,7.16,7.17,7.18,7.19,7.2,7.21,7.22,7.23,7.24,7.25,7.26,7.27,7.28,7.29,7.3,7.31,7.32,7.33,7.34,7.35,7.36,7.37,7.38,7.39,7.4,7.41,7.42,7.43,7.44,7.45,7.46,7.47,7.48,7.49,7.5,7.51,7.52,7.53,7.54,7.55,7.56,7.57,7.58,7.59,7.6,7.61,7.62,7.63,7.64,7.65,7.66,7.67,7.68,7.69,7.7,7.71,7.72,7.73,7.74,7.75,7.76,7.77,7.78,7.79,7.8,7.81,7.82,7.83,7.84,7.85,7.86,7.87,7.88,7.89,7.9,7.91,7.92,7.93,7.94,7.95,7.96,7.97,7.98,7.99,8.0,8.01,8.02,8.03,8.04,8.05,8.06,8.07,8.08,8.09,8.1,8.11,8.12,8.13,8.14,8.15,8.16,8.17,8.18,8.19,8.2,8.21,8.22,8.23,8.24,8.25,8.26,8.27,8.28,8.29,8.3,8.31,8.32,8.33,8.34,8.35,8.36,8.37,8.38,8.39,8.4,8.41,8.42,8.43,8.44,8.45,8.46,8.47,8.48,8.49,8.5,8.51,8.52,8.53,8.54,8.55,8.56,8.57,8.58,8.59,8.6,8.61,8.62,8.63,8.64,8.65,8.66,8.67,8.68,8.69,8.7,8.71,8.72,8.73,8.74,8.75,8.76,8.77,8.78,8.79,8.8,8.81,8.82,8.83,8.84,8.85,8.86,8.87,8.88,8.89,8.9,8.91,8.92,8.93,8.94,8.95,8.96,8.97,8.98,8.99,9.0,9.01,9.02,9.03,9.04,9.05,9.06,9.07,9.08,9.09,9.1,9.11,9.12,9.13,9.14,9.15,9.16,9.17,9.18,9.19,9.2,9.21,9.22,9.23,9.24,9.25,9.26,9.27,9.28,9.29,9.3,9.31,9.32,9.33,9.34,9.35,9.36,9.37,9.38,9.39,9.4,9.41,9.42,9.43,9.44,9.45,9.46,9.47,9.48,9.49,9.5,9.51,9.52,9.53,9.54,9.55,9.56,9.57,9.58,9.59,9.6,9.61,9.62,9.63,9.64,9.65,9.66,9.67,9.68,9.69,9.7,9.71,9.72,9.73,9.74,9.75,9.76,9.77,9.78,9.79,9.8,9.81,9.82,9.83,9.84,9.85,9.86,9.87,9.88,9.89,9.9,9.91,9.92,9.93,9.94,9.95,9.96,9.97,9.98,9.99,10.0],\"xaxis\":\"x\",\"y\":[1.170143,1.197778,1.226126,1.255208,1.285044,1.315659,1.347074,1.379315,1.412407,1.446375,1.481247,1.517052,1.553817,1.591574,1.630354,1.67019,1.711115,1.753166,1.796379,1.840792,1.886446,1.933381,1.981642,2.031273,2.082321,2.134836,2.188868,2.244472,2.301703,2.360619,2.421282,2.483754,2.548104,2.6144,2.682715,2.753128,2.825716,2.900566,2.977764,3.057404,3.139584,3.224404,3.311973,3.402404,3.495815,3.592332,3.692088,3.79522,3.901875,4.01221,4.126386,4.244577,4.366965,4.493744,4.625118,4.761304,4.902533,5.049047,5.201106,5.358985,5.522976,5.693391,5.870561,6.05484,6.246605,6.446258,6.65423,6.870979,7.097,7.33282,7.579005,7.836162,8.104946,8.38606,8.68026,8.988364,9.311254,9.649881,10.005279,10.378565,10.770952,11.183758,11.618416,12.07649,12.559685,13.069864,13.609068,14.179535,14.783722,15.424334,16.104354,16.827075,17.596145,18.415607,19.289957,20.224207,21.223952,22.295456,23.445753,24.68276,26.015416,27.453841,29.009531,30.69559,32.527003,34.520973,36.697327,39.079009,41.692689,44.569513,47.746032,51.265375,55.178715,59.547141,64.44406,69.958294,76.19814,83.296725,91.419164,100.772245,111.617717,124.290793,139.226361,156.996775,178.36749,204.380857,236.485611,276.742935,328.165584,395.29813,485.256202,609.691904,788.764493,1059.847165,1498.726614,2278.934424,3873.805474,7988.525553,25101.117084,484346.268655,84668.974389,14483.996139,5755.966222,3068.718118,1903.148898,1294.557688,937.259386,709.776832,556.064492,447.356478,367.655094,307.487688,260.955134,224.228157,194.733234,170.688969,150.830546,134.239855,120.237396,108.311547,98.071144,89.212982,81.499103,74.740644,68.786164,63.513085,58.821336,54.628566,50.866509,47.478191,44.415756,41.638773,39.112893,36.808783,34.701274,32.768669,30.992185,29.355493,27.844349,26.446275,25.150307,23.94678,22.827146,21.783822,20.810065,19.899858,19.047825,18.249143,17.499482,16.79494,16.131998,15.507472,14.918479,14.3624,13.836854,13.33967,12.868868,12.422639,11.999324,11.597403,11.21548,10.852273,10.506597,10.177363,9.863565,9.564271,9.278619,9.005811,8.745107,8.495818,8.257305,8.028971,7.810263,7.600662,7.399687,7.206884,7.021833,6.844138,6.673429,6.509359,6.351602,6.199853,6.053824,5.913245,5.777861,5.647433,5.521736,5.400555,5.283691,5.170953,5.062162,4.957149,4.855752,4.757822,4.663213,4.571789,4.483422,4.397989,4.315373,4.235465,4.15816,4.083357,4.010964,3.940889,3.873046,3.807356,3.743739,3.682123,3.622436,3.564612,3.508588,3.454301,3.401695,3.350713,3.301304,3.253416,3.207002,3.162016,3.118414,3.076155,3.035199,2.995507,2.957045,2.919776,2.883669,2.848692,2.814815,2.782011,2.750251,2.71951,2.689764,2.660991,2.633167,2.606272,2.580286,2.555192,2.530971,2.507608,2.485087,2.463393,2.442514,2.422438,2.403152,2.384648,2.366914,2.349945,2.333731,2.318267,2.303547,2.289567,2.276325,2.263817,2.252042,2.241001,2.230694,2.221125,2.212296,2.204213,2.196881,2.190309,2.184504,2.179479,2.175245,2.171816,2.169209,2.16744,2.166531,2.166504,2.167383,2.169197,2.171974,2.175751,2.180562,2.18645,2.193458,2.201638,2.211041,2.22173,2.233769,2.24723,2.262194,2.278748,2.296989,2.317026,2.338975,2.36297,2.389156,2.417694,2.448767,2.482576,2.519346,2.559331,2.602817,2.650123,2.701613,2.757699,2.818848,2.885597,2.958557,3.038434,3.126043,3.222328,3.328392,3.445527,3.575254,3.71938,3.880055,4.059865,4.261937,4.490084,4.748997,5.0445,5.3839,5.776467,6.234114,6.772357,7.41173,8.179874,9.114747,10.269647,11.721382,13.58401,16.033026,19.350147,24.011634,30.876316,41.626849,59.946429,95.263532,178.282027,462.873179,3368.640932,6066.932208,523.701888,176.293087,86.289662,50.542312,32.920235,23.008837,16.914104,12.916702,10.163718,8.193809,6.740145,5.639927,4.789389,4.11994,3.584821,3.151303,2.795946,2.501622,2.255592,2.048231,1.872162,1.721662,1.592235,1.480317,1.383051,1.29813,1.223675,1.158143,1.100261,1.048967,1.003376,0.962741,0.926433,0.893916,0.864731,0.838488,0.814847,0.793519,0.77425,0.756819,0.741036,0.726731,0.713757,0.701984,0.691297,0.681595,0.672787,0.664793,0.657541,0.650969,0.645018,0.639638,0.634782,0.63041,0.626483,0.622969,0.619837,0.61706,0.614612,0.612471,0.610616,0.609029,0.607693,0.606592,0.605713,0.605041,0.604566,0.604277,0.604164,0.604217,0.604429,0.604793,0.6053,0.605945,0.606723,0.607627,0.608652,0.609796,0.611052,0.612418,0.613891,0.615466,0.617142,0.618916,0.620785,0.622747,0.6248,0.626944,0.629175,0.631493,0.633897,0.636386,0.638958,0.641612,0.644349,0.647168,0.650068,0.653049,0.656111,0.659253,0.662475,0.665779,0.669163,0.672627,0.676174,0.679802,0.683512,0.687304,0.69118,0.69514,0.699184,0.703314,0.70753,0.711833,0.716224,0.720705,0.725276,0.729939,0.734694,0.739543,0.744488,0.74953,0.75467,0.759911,0.765252,0.770697,0.776248,0.781904,0.78767,0.793546,0.799536,0.805639,0.81186,0.818201,0.824662,0.831248,0.83796,0.844802,0.851775,0.858882,0.866127,0.873512,0.88104,0.888715,0.896539,0.904517,0.91265,0.920944,0.929401,0.938026,0.946822,0.955793,0.964943,0.974278,0.983801,0.993516,1.003429,1.013545,1.023868,1.034405,1.045159,1.056137,1.067345,1.078788,1.090473,1.102407,1.114595,1.127045,1.139763,1.152758,1.166037,1.179607,1.193477,1.207655,1.222151,1.236972,1.252129,1.267632,1.28349,1.299714,1.316316,1.333305,1.350695,1.368497,1.386725,1.40539,1.424508,1.444093,1.464158,1.484721,1.505796,1.527402,1.549554,1.572272,1.595574,1.619481,1.644013,1.669191,1.695038,1.721578,1.748835,1.776835,1.805604,1.83517,1.865564,1.896815,1.928956,1.96202,1.996044,2.031062,2.067116,2.104245,2.142491,2.181901,2.222521,2.2644,2.307592,2.35215,2.398133,2.445602,2.494621,2.545257,2.597583,2.651673,2.707608,2.765471,2.825353,2.887348,2.951554,3.01808,3.087037,3.158545,3.23273,3.309728,3.389681,3.472744,3.559078,3.648856,3.742265,3.839502,3.940779,4.046322,4.156373,4.271192,4.391059,4.516273,4.647156,4.784055,4.927345,5.077427,5.234739,5.39975,5.572973,5.754959,5.94631,6.147678,6.359774,6.583375,6.819325,7.068552,7.332069,7.610989,7.906537,8.220059,8.553042,8.907131,9.284147,9.686111,10.115274,10.574145,11.06553,11.592575,12.158813,12.768229,13.425326,14.13521,14.903689,15.737394,16.643918,17.631994,18.711706,19.894744,21.194724,22.627582,24.212061,25.970333,27.928774,30.118962,32.578955,35.354958,38.503507,42.094372,46.214453,50.973092,56.509397,63.00253,70.686383,79.870942,90.974046,104.569768,121.464132,142.817394,170.348702,206.693259,256.057197,325.491588,427.557589,586.434111,853.675722,1355.986687,2478.55455,5902.832588,28295.357949,788475.637106,14882.288193,4289.783371,2003.984717,1156.271499,751.538184,527.363292,390.372299,300.586328,238.568294,193.945322,160.771795,135.4412,115.662831,99.925091,87.197858,76.759525,68.092417,60.817345,54.651418,49.380117,44.838387,40.897553,37.456106,34.433101,31.763353,29.393891,27.281316,25.389794,23.689526,22.155574,20.766933,19.505814,18.357069,17.307733,16.346659,15.464221,14.652069,13.902932,13.210458,12.569072,11.973873,11.420529,10.905207,10.424502,9.975384,9.555143,9.161359,8.791855,8.444677,8.118063,7.81042,7.520309,7.246422,6.987572,6.742679,6.510758,6.29091,6.08231,5.884206,5.695906,5.516773,5.346223,5.183716,5.028755,4.880881,4.739668,4.604723,4.475681,4.352202,4.233973,4.1207,4.01211,3.90795,3.807982,3.711985,3.619751,3.531087,3.445811,3.363754,3.284755,3.208666,3.135346,3.064661,2.996488,2.93071,2.867216,2.805902,2.74667,2.689427,2.634086,2.580562,2.528779,2.478662,2.43014,2.383148,2.337621,2.293499,2.250727,2.20925,2.169016,2.129977,2.092086,2.055299,2.019574,1.984871,1.951151,1.918379,1.886519,1.855538,1.825404,1.796088,1.76756,1.739793,1.712759,1.686435,1.660795,1.635817,1.611478,1.587757,1.564634,1.542089,1.520103,1.498658,1.477737,1.457324,1.437402,1.417956,1.398971,1.380434,1.362331,1.344648,1.327373,1.310494,1.293999,1.277878,1.262118,1.24671,1.231644,1.216909,1.202498,1.188399,1.174606,1.161109,1.147901,1.134973,1.122318,1.109928,1.097798,1.085919,1.074285,1.06289,1.051728,1.040792,1.030078,1.019578,1.009289,0.999204,0.989319,0.979629,0.970128,0.960813,0.951679,0.942721,0.933936,0.925319,0.916866,0.908574,0.900439,0.892457,0.884624,0.876938,0.869395,0.861991,0.854725,0.847592,0.84059,0.833716,0.826967,0.82034,0.813833,0.807444,0.801169,0.795007,0.788955,0.783011,0.777173,0.771438,0.765804,0.76027,0.754833,0.749492,0.744244,0.739088,0.734022,0.729044,0.724152,0.719346,0.714623,0.709981,0.70542,0.700938,0.696533,0.692204,0.687949,0.683768,0.679658,0.675619,0.671649,0.667748,0.663914,0.660145,0.656441,0.652801,0.649223,0.645707,0.642251,0.638855,0.635518,0.632238,0.629015,0.625847,0.622735,0.619676,0.616671,0.613718,0.610817,0.607967,0.605167,0.602416,0.599714,0.597059,0.594452,0.591892,0.589377,0.586908,0.584483,0.582102,0.579765,0.577471,0.575219,0.573009,0.57084,0.568711,0.566623,0.564574,0.562565,0.560594,0.558662,0.556767,0.554909,0.553089,0.551305,0.549557,0.547844,0.546167,0.544525,0.542917,0.541344,0.539804,0.538298,0.536824,0.535384,0.533976,0.5326,0.531256,0.529943,0.528662,0.527412,0.526192,0.525003,0.523844,0.522715,0.521616,0.520546,0.519505,0.518493,0.517511,0.516556,0.515631,0.514733,0.513863,0.513022,0.512208,0.511421,0.510662,0.509929,0.509224,0.508546,0.507895,0.50727,0.506671,0.506099,0.505553,0.505034,0.50454,0.504072,0.50363,0.503214,0.502823,0.502458,0.502118,0.501804,0.501516,0.501252,0.501014,0.500801,0.500613,0.50045,0.500313,0.5002,0.500113,0.50005,0.500013,5782267029.122538,-744.360843,-584.907458,-469.977445,-384.908006,-320.413299,-270.453524,-231.001208,-199.307775,-173.456527,-152.083731,-134.200758,-119.078294,-106.169516,-95.05818,-85.422955,-77.012519,-69.627912,-63.109848,-57.329468,-52.181527,-47.579293,-43.450705,-39.735431,-36.382606,-33.349063,-30.59795,-28.097627,-25.820789,-23.743755,-21.845899,-20.109175,-18.517737,-17.057616,-15.716456,-14.483293,-13.348369,-12.30297,-11.3393,-10.450363,-9.629862,-8.872125,-8.172022,-7.52491,-6.926579,-6.3732,-5.861286,-5.387658,-4.949413,-4.543892,-4.168661,-3.821486,-3.500314,-3.203256,-2.928572,-2.67466,-2.440037,-2.223334,-2.023286,-1.838719,-1.668546,-1.511758,-1.367419,-1.234656,-1.112662,-1.000681,-0.898011,-0.803998,-0.71803,-0.639537,-0.567986,-0.502881,-0.443754,-0.390171,-0.341723,-0.298029,-0.25873,-0.223492,-0.191998,-0.163954,-0.139083,-0.117123,-0.097832,-0.080978,-0.066345,-0.053732,-0.042946,-0.033808,-0.026149,-0.01981,-0.01464,-0.0105,-0.007257,-0.004784,-0.002965,-0.001689,-0.000852,-0.000354,-0.000103,-1.3e-05,-0.0,1.2e-05,9.7e-05,0.000323,0.000755,0.001454,0.002476,0.003877,0.005706,0.008011,0.010838,0.014227,0.01822,0.022852,0.028159,0.034173,0.040926,0.048445,0.056758,0.06589,0.075864,0.086702,0.098424,0.11105,0.124598,0.139083,0.154521,0.170925,0.18831,0.206686,0.226065,0.246458,0.267872,0.290317,0.3138,0.338328,0.363907,0.390543,0.41824,0.447003,0.476835,0.507739,0.539718,0.572775,0.60691,0.642125,0.678421,0.715797,0.754255,0.793794,0.834412,0.87611,0.918885,0.962737,1.007662,1.05366,1.100728,1.148863,1.198062,1.248323,1.299642,1.352016,1.405441,1.459914,1.515431,1.571987,1.629578,1.688201,1.747851,1.808524,1.870214,1.932917,1.996629,2.061344,2.127058,2.193765,2.26146,2.330139,2.399796,2.470425,2.542022,2.614582,2.688097,2.762564,2.837977,2.91433,2.991618,3.069835,3.148976,3.229034,3.310006,3.391884,3.474663,3.558337,3.642902,3.728351,3.814678,3.901878,3.989946,4.078876,4.168661,4.259297,4.350778,4.443097,4.536251,4.630232,4.725036,4.820657,4.917089,5.014327,5.112365,5.211199,5.310821,5.411227,5.512412,5.61437,5.717096,5.820584,5.924829,6.029826,6.135569,6.242053,6.349273,6.457224,6.565901,6.675298,6.78541,6.896232,7.00776,7.119987,7.23291,7.346523,7.46082,7.575798,7.691451,7.807775,7.924764,8.042414,8.16072,8.279678,8.399281,8.519527,8.64041,8.761925,8.884068,9.006835,9.130221,9.254221,9.378831,9.504046,9.629862,9.756275,9.883281,10.010874,10.139051,10.267807,10.397138,10.527041,10.65751,10.788541,10.920132,11.052276,11.184971,11.318213,11.451996,11.586318,11.721175,11.856562,11.992475,12.128911,12.265867,12.403337,12.541318,12.679808,12.818801,12.958294,13.098283,13.238766,13.379738,13.521195,13.663135,13.805553,13.948446,14.091811,14.235644,14.379941,14.5247,14.669917,14.815588,14.961711,15.108281,15.255296,15.402753,15.550648,15.698977,15.847739,15.996929,16.146544,16.296582,16.44704,16.597913,16.7492,16.900897,17.053001,17.205509,17.358418,17.511726,17.665429,17.819525,17.974011,18.128883,18.284139,18.439777,18.595792,18.752184,18.908948,19.066083,19.223585,19.381453,19.539682,19.698271,19.857217,20.016517,20.176169,20.33617,20.496518,20.65721,20.818243,20.979616,21.141326,21.303369,21.465745,21.62845,21.791482,21.954839,22.118518,22.282517,22.446834,22.611466,22.776411,22.941667,23.107232,23.273103,23.439278,23.605754,23.772531,23.939605,24.106974,24.274637,24.442591,24.610833,24.779363,24.948178,25.117275,25.286653,25.45631,25.626243,25.796451,25.966932,26.137683,26.308703,26.479991,26.651542,26.823357,26.995433,27.167769,27.340361,27.513209,27.68631,27.859664,28.033267,28.207118,28.381216,28.555558,28.730143,28.904969,29.080035,29.255337,29.430876,29.606649,29.782654,29.95889,30.135355,30.312048,30.488966,30.666109,30.843473,31.021059,31.198864,31.376887,31.555126,31.73358,31.912246,32.091124,32.270212,32.449508,32.629012,32.80872,32.988633,33.168748,33.349063,33.529579,33.710292,33.891202,34.072307,34.253606,34.435097,34.616779,34.79865,34.98071,35.162956,35.345388,35.528004,35.710803,35.893783,36.076943,36.260282,36.443798,36.62749,36.811357,36.995398,37.179611,37.363995,37.548548,37.73327,37.91816,38.103215,38.288436,38.47382,38.659366,38.845073,39.030941,39.216967,39.403151,39.589491,39.775987,39.962637,40.14944,40.336395,40.5235,40.710755,40.898159,41.08571,41.273408,41.46125,41.649237,41.837367,42.025639,42.214051,42.402604,42.591296,42.780125,42.969091,43.158193,43.347429,43.536799,43.726302,43.915936,44.105701,44.295596,44.485619,44.675771,44.866048,45.056452,45.246981,45.437633,45.628408,45.819306,46.010324,46.201462,46.39272,46.584096,46.775589,46.967199,47.158924,47.350764,47.542718,47.734785,47.926963,48.119253,48.311653,48.504163,48.696781,48.889507,49.082339,49.275278,49.468322,49.66147,49.854722,50.048077,50.241533,50.435091,50.628748,50.822506,51.016362,51.210316,51.404367,51.598514,51.792757,51.987095,52.181527,52.376052,52.57067,52.765379,52.96018,53.15507,53.350051,53.54512,53.740277,53.935521,54.130853,54.32627,54.521772,54.717359,54.913029,55.108783,55.304619,55.500537,55.696535,55.892615,56.088773,56.285011,56.481327,56.677721,56.874191,57.070738,57.267361,57.464059,57.660831,57.857677,58.054595,58.251587,58.44865,58.645784,58.842989,59.040264,59.237608,59.435021,59.632501,59.83005,60.027665,60.225347,60.423094,60.620906,60.818783,61.016723,61.214727,61.412794,61.610923,61.809113,62.007365,62.205677,62.404049,62.60248,62.80097,62.999518,63.198124,63.396787,63.595506,63.794282,63.993113,64.191999,64.390939,64.589933,64.788981,64.988081,65.187234,65.386438,65.585694,65.785001,65.984358,66.183764,66.38322,66.582724,66.782277,66.981877,67.181525,67.38122,67.58096,67.780747,67.980578,68.180455,68.380376,68.580341,68.780349,68.9804,69.180493,69.380629,69.580806,69.781024,69.981282,70.181581,70.38192,70.582297,70.782714,70.983169,71.183661,71.384191,71.584759,71.785362,71.986002,72.186678,72.387389,72.588134,72.788915,72.989729,73.190576,73.391457,73.592371,73.793317,73.994295,74.195304,74.396345,74.597416,74.798517,74.999649,75.20081,75.401999,75.603218,75.804465,76.00574,76.207042,76.408372,76.609728,76.811111,77.012519,77.213953,77.415413,77.616897,77.818405,78.019938,78.221495,78.423075,78.624677,78.826303,79.027951,79.22962,79.431311,79.633024,79.834757,80.036511,80.238284,80.440078,80.641891,80.843723,81.045574,81.247443,81.44933,81.651235,81.853157,82.055096,82.257052,82.459025,82.661013,82.863017,83.065036,83.267071,83.46912,83.671183,83.873261,84.075352,84.277457,84.479575,84.681705,84.883848,85.086003,85.28817,85.490349,85.692539,85.89474,86.096951,86.299173,86.501404,86.703646,86.905896,87.108156,87.310425,87.512702,87.714987,87.917281,88.119582,88.32189,88.524205,88.726527,88.928856,89.13119,89.333531,89.535877,89.738229,89.940585,90.142947,90.345313,90.547683,90.750057,90.952435,91.154816,91.3572,91.559588,91.761977,91.96437,92.166764,92.36916,92.571557,92.773956,92.976356,93.178756,93.381158,93.583559,93.78596,93.988361,94.190762,94.393161,94.59556,94.797957,95.000353,95.202747,95.405139,95.607529,95.809916,96.012301,96.214682,96.41706,96.619435,96.821806,97.024173,97.226536,97.428894,97.631248,97.833597,98.035941,98.238279,98.440612,98.642938,98.845259,99.047574,99.249882,99.452183,99.654477,99.856764,100.059044,100.261316,100.46358,100.665836,100.868083,101.070323,101.272553,101.474774,101.676987,101.87919,102.081383,102.283567,102.48574,102.687903,102.890056,103.092198,103.29433,103.49645,103.698559,103.900656,104.102742,104.304816,104.506878,104.708927,104.910964,105.112988,105.315,105.516998,105.718983,105.920955,106.122913,106.324857,106.526787,106.728702,106.930603,107.13249,107.334362,107.536218,107.73806,107.939886,108.141696,108.343491,108.54527,108.747032,108.948778,109.150508,109.352221,109.553917,109.755596,109.957258,110.158902,110.360529,110.562138,110.763729,110.965302,111.166856,111.368392,111.56991,111.771408,111.972888,112.174348,112.375789,112.57721,112.778612,112.979994,113.181356,113.382697,113.584019,113.785319,113.986599,114.187858,114.389097,114.590313,114.791509,114.992683,115.193835,115.394966,115.596074,115.79716,115.998224,116.199266,116.400284,116.60128,116.802253,117.003203,117.20413,117.405033,117.605913,117.806768,118.0076,118.208408,118.409192,118.609951,118.810686,119.011396,119.212082,119.412742,119.613378,119.813988,120.014573,120.215132,120.415665,120.616173,120.816655,121.017111,121.21754,121.417943,121.61832,121.818669,122.018992,122.219288,122.419557,122.619799,122.820013,123.0202,123.220359,123.42049,123.620594,123.820669,124.020716,124.220735,124.420725,124.620687,124.82062,125.020524,125.220399,125.420245,125.620062,125.819849,126.019607,126.219335,126.419033,126.618702,126.81834,127.017948,127.217526,127.417074,127.616591,127.816077,128.015532,128.214957,128.41435,128.613713,128.813044,129.012344,129.211612,129.410848,129.610053,129.809226,130.008366,130.207475,130.406551,130.605595,130.804607,131.003586,131.202532,131.401445,131.600326,131.799173,131.997987,132.196768,132.395515,132.594229,132.792909,132.991556,133.190169,133.388747,133.587292,133.785802,133.984278,134.182719,134.381126,134.579499,134.777836,134.976139,135.174407,135.37264,135.570837,135.768999,135.967126,136.165217,136.363273,136.561293,136.759277,136.957225,137.155138,137.353014,137.550853,137.748657,137.946424,138.144155,138.341848,138.539505,138.737126,138.934709,139.132255,139.329764,139.527236,139.724671,139.922068,140.119428,140.31675,140.514034,140.71128,140.908489,141.105659,141.302791,141.499885,141.696941,141.893959,142.090937,142.287878,142.484779,142.681642,142.878466,143.075251,143.271997,143.468704,143.665372,143.862,144.058589,144.255138,144.451648,144.648118,144.844548,145.040939,145.237289,145.4336,145.62987,145.8261,146.02229,146.21844,146.414549,146.610617,146.806645,147.002632,147.198578,147.394483,147.590348,147.786171,147.981953,148.177694,148.373394,148.569052,148.764669,148.960244,149.155778,149.35127,149.54672,149.742128,149.937494,150.132818,150.328101,150.52334,150.718538,150.913693,151.108806,151.303876,151.498904,151.693889,151.888832,152.083731],\"yaxis\":\"y\",\"type\":\"scattergl\"}],                        {\"template\":{\"data\":{\"histogram2dcontour\":[{\"type\":\"histogram2dcontour\",\"colorbar\":{\"outlinewidth\":0,\"ticks\":\"\"},\"colorscale\":[[0.0,\"#0d0887\"],[0.1111111111111111,\"#46039f\"],[0.2222222222222222,\"#7201a8\"],[0.3333333333333333,\"#9c179e\"],[0.4444444444444444,\"#bd3786\"],[0.5555555555555556,\"#d8576b\"],[0.6666666666666666,\"#ed7953\"],[0.7777777777777778,\"#fb9f3a\"],[0.8888888888888888,\"#fdca26\"],[1.0,\"#f0f921\"]]}],\"choropleth\":[{\"type\":\"choropleth\",\"colorbar\":{\"outlinewidth\":0,\"ticks\":\"\"}}],\"histogram2d\":[{\"type\":\"histogram2d\",\"colorbar\":{\"outlinewidth\":0,\"ticks\":\"\"},\"colorscale\":[[0.0,\"#0d0887\"],[0.1111111111111111,\"#46039f\"],[0.2222222222222222,\"#7201a8\"],[0.3333333333333333,\"#9c179e\"],[0.4444444444444444,\"#bd3786\"],[0.5555555555555556,\"#d8576b\"],[0.6666666666666666,\"#ed7953\"],[0.7777777777777778,\"#fb9f3a\"],[0.8888888888888888,\"#fdca26\"],[1.0,\"#f0f921\"]]}],\"heatmap\":[{\"type\":\"heatmap\",\"colorbar\":{\"outlinewidth\":0,\"ticks\":\"\"},\"colorscale\":[[0.0,\"#0d0887\"],[0.1111111111111111,\"#46039f\"],[0.2222222222222222,\"#7201a8\"],[0.3333333333333333,\"#9c179e\"],[0.4444444444444444,\"#bd3786\"],[0.5555555555555556,\"#d8576b\"],[0.6666666666666666,\"#ed7953\"],[0.7777777777777778,\"#fb9f3a\"],[0.8888888888888888,\"#fdca26\"],[1.0,\"#f0f921\"]]}],\"heatmapgl\":[{\"type\":\"heatmapgl\",\"colorbar\":{\"outlinewidth\":0,\"ticks\":\"\"},\"colorscale\":[[0.0,\"#0d0887\"],[0.1111111111111111,\"#46039f\"],[0.2222222222222222,\"#7201a8\"],[0.3333333333333333,\"#9c179e\"],[0.4444444444444444,\"#bd3786\"],[0.5555555555555556,\"#d8576b\"],[0.6666666666666666,\"#ed7953\"],[0.7777777777777778,\"#fb9f3a\"],[0.8888888888888888,\"#fdca26\"],[1.0,\"#f0f921\"]]}],\"contourcarpet\":[{\"type\":\"contourcarpet\",\"colorbar\":{\"outlinewidth\":0,\"ticks\":\"\"}}],\"contour\":[{\"type\":\"contour\",\"colorbar\":{\"outlinewidth\":0,\"ticks\":\"\"},\"colorscale\":[[0.0,\"#0d0887\"],[0.1111111111111111,\"#46039f\"],[0.2222222222222222,\"#7201a8\"],[0.3333333333333333,\"#9c179e\"],[0.4444444444444444,\"#bd3786\"],[0.5555555555555556,\"#d8576b\"],[0.6666666666666666,\"#ed7953\"],[0.7777777777777778,\"#fb9f3a\"],[0.8888888888888888,\"#fdca26\"],[1.0,\"#f0f921\"]]}],\"surface\":[{\"type\":\"surface\",\"colorbar\":{\"outlinewidth\":0,\"ticks\":\"\"},\"colorscale\":[[0.0,\"#0d0887\"],[0.1111111111111111,\"#46039f\"],[0.2222222222222222,\"#7201a8\"],[0.3333333333333333,\"#9c179e\"],[0.4444444444444444,\"#bd3786\"],[0.5555555555555556,\"#d8576b\"],[0.6666666666666666,\"#ed7953\"],[0.7777777777777778,\"#fb9f3a\"],[0.8888888888888888,\"#fdca26\"],[1.0,\"#f0f921\"]]}],\"mesh3d\":[{\"type\":\"mesh3d\",\"colorbar\":{\"outlinewidth\":0,\"ticks\":\"\"}}],\"scatter\":[{\"fillpattern\":{\"fillmode\":\"overlay\",\"size\":10,\"solidity\":0.2},\"type\":\"scatter\"}],\"parcoords\":[{\"type\":\"parcoords\",\"line\":{\"colorbar\":{\"outlinewidth\":0,\"ticks\":\"\"}}}],\"scatterpolargl\":[{\"type\":\"scatterpolargl\",\"marker\":{\"colorbar\":{\"outlinewidth\":0,\"ticks\":\"\"}}}],\"bar\":[{\"error_x\":{\"color\":\"#2a3f5f\"},\"error_y\":{\"color\":\"#2a3f5f\"},\"marker\":{\"line\":{\"color\":\"#E5ECF6\",\"width\":0.5},\"pattern\":{\"fillmode\":\"overlay\",\"size\":10,\"solidity\":0.2}},\"type\":\"bar\"}],\"scattergeo\":[{\"type\":\"scattergeo\",\"marker\":{\"colorbar\":{\"outlinewidth\":0,\"ticks\":\"\"}}}],\"scatterpolar\":[{\"type\":\"scatterpolar\",\"marker\":{\"colorbar\":{\"outlinewidth\":0,\"ticks\":\"\"}}}],\"histogram\":[{\"marker\":{\"pattern\":{\"fillmode\":\"overlay\",\"size\":10,\"solidity\":0.2}},\"type\":\"histogram\"}],\"scattergl\":[{\"type\":\"scattergl\",\"marker\":{\"colorbar\":{\"outlinewidth\":0,\"ticks\":\"\"}}}],\"scatter3d\":[{\"type\":\"scatter3d\",\"line\":{\"colorbar\":{\"outlinewidth\":0,\"ticks\":\"\"}},\"marker\":{\"colorbar\":{\"outlinewidth\":0,\"ticks\":\"\"}}}],\"scattermapbox\":[{\"type\":\"scattermapbox\",\"marker\":{\"colorbar\":{\"outlinewidth\":0,\"ticks\":\"\"}}}],\"scatterternary\":[{\"type\":\"scatterternary\",\"marker\":{\"colorbar\":{\"outlinewidth\":0,\"ticks\":\"\"}}}],\"scattercarpet\":[{\"type\":\"scattercarpet\",\"marker\":{\"colorbar\":{\"outlinewidth\":0,\"ticks\":\"\"}}}],\"carpet\":[{\"aaxis\":{\"endlinecolor\":\"#2a3f5f\",\"gridcolor\":\"white\",\"linecolor\":\"white\",\"minorgridcolor\":\"white\",\"startlinecolor\":\"#2a3f5f\"},\"baxis\":{\"endlinecolor\":\"#2a3f5f\",\"gridcolor\":\"white\",\"linecolor\":\"white\",\"minorgridcolor\":\"white\",\"startlinecolor\":\"#2a3f5f\"},\"type\":\"carpet\"}],\"table\":[{\"cells\":{\"fill\":{\"color\":\"#EBF0F8\"},\"line\":{\"color\":\"white\"}},\"header\":{\"fill\":{\"color\":\"#C8D4E3\"},\"line\":{\"color\":\"white\"}},\"type\":\"table\"}],\"barpolar\":[{\"marker\":{\"line\":{\"color\":\"#E5ECF6\",\"width\":0.5},\"pattern\":{\"fillmode\":\"overlay\",\"size\":10,\"solidity\":0.2}},\"type\":\"barpolar\"}],\"pie\":[{\"automargin\":true,\"type\":\"pie\"}]},\"layout\":{\"autotypenumbers\":\"strict\",\"colorway\":[\"#636efa\",\"#EF553B\",\"#00cc96\",\"#ab63fa\",\"#FFA15A\",\"#19d3f3\",\"#FF6692\",\"#B6E880\",\"#FF97FF\",\"#FECB52\"],\"font\":{\"color\":\"#2a3f5f\"},\"hovermode\":\"closest\",\"hoverlabel\":{\"align\":\"left\"},\"paper_bgcolor\":\"white\",\"plot_bgcolor\":\"#E5ECF6\",\"polar\":{\"bgcolor\":\"#E5ECF6\",\"angularaxis\":{\"gridcolor\":\"white\",\"linecolor\":\"white\",\"ticks\":\"\"},\"radialaxis\":{\"gridcolor\":\"white\",\"linecolor\":\"white\",\"ticks\":\"\"}},\"ternary\":{\"bgcolor\":\"#E5ECF6\",\"aaxis\":{\"gridcolor\":\"white\",\"linecolor\":\"white\",\"ticks\":\"\"},\"baxis\":{\"gridcolor\":\"white\",\"linecolor\":\"white\",\"ticks\":\"\"},\"caxis\":{\"gridcolor\":\"white\",\"linecolor\":\"white\",\"ticks\":\"\"}},\"coloraxis\":{\"colorbar\":{\"outlinewidth\":0,\"ticks\":\"\"}},\"colorscale\":{\"sequential\":[[0.0,\"#0d0887\"],[0.1111111111111111,\"#46039f\"],[0.2222222222222222,\"#7201a8\"],[0.3333333333333333,\"#9c179e\"],[0.4444444444444444,\"#bd3786\"],[0.5555555555555556,\"#d8576b\"],[0.6666666666666666,\"#ed7953\"],[0.7777777777777778,\"#fb9f3a\"],[0.8888888888888888,\"#fdca26\"],[1.0,\"#f0f921\"]],\"sequentialminus\":[[0.0,\"#0d0887\"],[0.1111111111111111,\"#46039f\"],[0.2222222222222222,\"#7201a8\"],[0.3333333333333333,\"#9c179e\"],[0.4444444444444444,\"#bd3786\"],[0.5555555555555556,\"#d8576b\"],[0.6666666666666666,\"#ed7953\"],[0.7777777777777778,\"#fb9f3a\"],[0.8888888888888888,\"#fdca26\"],[1.0,\"#f0f921\"]],\"diverging\":[[0,\"#8e0152\"],[0.1,\"#c51b7d\"],[0.2,\"#de77ae\"],[0.3,\"#f1b6da\"],[0.4,\"#fde0ef\"],[0.5,\"#f7f7f7\"],[0.6,\"#e6f5d0\"],[0.7,\"#b8e186\"],[0.8,\"#7fbc41\"],[0.9,\"#4d9221\"],[1,\"#276419\"]]},\"xaxis\":{\"gridcolor\":\"white\",\"linecolor\":\"white\",\"ticks\":\"\",\"title\":{\"standoff\":15},\"zerolinecolor\":\"white\",\"automargin\":true,\"zerolinewidth\":2},\"yaxis\":{\"gridcolor\":\"white\",\"linecolor\":\"white\",\"ticks\":\"\",\"title\":{\"standoff\":15},\"zerolinecolor\":\"white\",\"automargin\":true,\"zerolinewidth\":2},\"scene\":{\"xaxis\":{\"backgroundcolor\":\"#E5ECF6\",\"gridcolor\":\"white\",\"linecolor\":\"white\",\"showbackground\":true,\"ticks\":\"\",\"zerolinecolor\":\"white\",\"gridwidth\":2},\"yaxis\":{\"backgroundcolor\":\"#E5ECF6\",\"gridcolor\":\"white\",\"linecolor\":\"white\",\"showbackground\":true,\"ticks\":\"\",\"zerolinecolor\":\"white\",\"gridwidth\":2},\"zaxis\":{\"backgroundcolor\":\"#E5ECF6\",\"gridcolor\":\"white\",\"linecolor\":\"white\",\"showbackground\":true,\"ticks\":\"\",\"zerolinecolor\":\"white\",\"gridwidth\":2}},\"shapedefaults\":{\"line\":{\"color\":\"#2a3f5f\"}},\"annotationdefaults\":{\"arrowcolor\":\"#2a3f5f\",\"arrowhead\":0,\"arrowwidth\":1},\"geo\":{\"bgcolor\":\"white\",\"landcolor\":\"#E5ECF6\",\"subunitcolor\":\"white\",\"showland\":true,\"showlakes\":true,\"lakecolor\":\"white\"},\"title\":{\"x\":0.05},\"mapbox\":{\"style\":\"light\"}}},\"xaxis\":{\"anchor\":\"y\",\"domain\":[0.0,1.0],\"title\":{\"text\":\"x\"}},\"yaxis\":{\"anchor\":\"x\",\"domain\":[0.0,1.0],\"title\":{\"text\":\"y\"}},\"legend\":{\"tracegroupgap\":0},\"title\":{\"text\":\"sys\"}},                        {\"responsive\": true}                    ).then(function(){\n                            \nvar gd = document.getElementById('e8b7ba10-a953-4d70-b920-647a30605b5f');\nvar x = new MutationObserver(function (mutations, observer) {{\n        var display = window.getComputedStyle(gd).display;\n        if (!display || display === 'none') {{\n            console.log([gd, 'removed!']);\n            Plotly.purge(gd);\n            observer.disconnect();\n        }}\n}});\n\n// Listen for the removal of the full notebook cells\nvar notebookContainer = gd.closest('#notebook-container');\nif (notebookContainer) {{\n    x.observe(notebookContainer, {childList: true});\n}}\n\n// Listen for the clearing of the current output cell\nvar outputEl = gd.closest('.output');\nif (outputEl) {{\n    x.observe(outputEl, {childList: true});\n}}\n\n                        })                };                });            </script>        </div>"
     },
     "metadata": {},
     "output_type": "display_data"
    }
   ],
   "source": [
    "NAMES = [\"fac\", \"sin\", \"cos\", \"sec\", \"cot\", \"ln\", \"log2\", \"sys\"]\n",
    "\n",
    "# NAMES.append(\"neg\")\n",
    "\n",
    "for NAME in NAMES:\n",
    "    df = pd.read_csv(f\"{NAME}.csv\")\n",
    "    fig = px.line(x=df['x'], y=df['y'], title=NAME)\n",
    "    fig.write_html(f\"plots/{NAME}.html\")\n",
    "    fig.show()"
   ],
   "metadata": {
    "collapsed": false,
    "ExecuteTime": {
     "end_time": "2024-03-06T08:31:17.837936Z",
     "start_time": "2024-03-06T08:31:16.848146Z"
    }
   },
   "id": "ee79adcb00ddf043",
   "execution_count": 32
  }
 ],
 "metadata": {
  "kernelspec": {
   "display_name": "Python 3",
   "language": "python",
   "name": "python3"
  },
  "language_info": {
   "codemirror_mode": {
    "name": "ipython",
    "version": 2
   },
   "file_extension": ".py",
   "mimetype": "text/x-python",
   "name": "python",
   "nbconvert_exporter": "python",
   "pygments_lexer": "ipython2",
   "version": "2.7.6"
  }
 },
 "nbformat": 4,
 "nbformat_minor": 5
}
